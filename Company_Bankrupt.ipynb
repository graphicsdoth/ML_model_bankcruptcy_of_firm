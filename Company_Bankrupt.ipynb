{
  "nbformat": 4,
  "nbformat_minor": 0,
  "metadata": {
    "colab": {
      "name": "Company_Bankrupt.ipynb",
      "provenance": [],
      "collapsed_sections": [],
      "toc_visible": true
    },
    "kernelspec": {
      "display_name": "Python 3",
      "name": "python3"
    },
    "language_info": {
      "name": "python"
    }
  },
  "cells": [
    {
      "cell_type": "markdown",
      "metadata": {
        "id": "tkJdLvxnyLrS"
      },
      "source": [
        "# Importing Libraries"
      ]
    },
    {
      "cell_type": "code",
      "metadata": {
        "id": "No_7FcJyZ_Co"
      },
      "source": [
        "\n",
        "#Libraries \n",
        "import csv #Read CSVs \n",
        "import pandas as pd \n",
        "import numpy as np\n",
        "\n",
        "#Importing ML Libraries\n",
        "from sklearn.preprocessing import StandardScaler\n",
        "from sklearn.model_selection import train_test_split\n",
        "from sklearn.linear_model import LogisticRegression\n",
        "from sklearn.neighbors import KNeighborsClassifier\n",
        "from sklearn.ensemble import RandomForestClassifier\n",
        "from sklearn.svm import SVC\n",
        "from sklearn.metrics import classification_report, confusion_matrix\n",
        "import xgboost as xgb\n",
        "from sklearn.preprocessing import LabelEncoder\n",
        "import lightgbm as lgb\n",
        "import gc\n",
        "from sklearn.linear_model import LinearRegression\n",
        "from sklearn.metrics import mean_absolute_error\n",
        "from sklearn.model_selection import GridSearchCV\n",
        "from sklearn.model_selection import train_test_split\n",
        "from sklearn.tree import DecisionTreeRegressor\n",
        "from sklearn import metrics #auc, roc, and other scores\n",
        "from sklearn.metrics import confusion_matrix\n",
        "from sklearn import preprocessing\n",
        "from sklearn.metrics import accuracy_score\n",
        "from sklearn.metrics import f1_score\n",
        "\n",
        "from sklearn.metrics import roc_auc_score\n",
        "from sklearn.metrics import precision_recall_curve\n",
        "from sklearn.metrics import roc_curve\n",
        "from sklearn.metrics import auc\n",
        "from sklearn.metrics import average_precision_score\n",
        "\n",
        "\n",
        "#Libraries for data visualization\n",
        "import seaborn as sns\n",
        "import matplotlib.pyplot as plt\n",
        "\n",
        "#Other libraries\n",
        "import random\n",
        "import datetime as dt\n",
        "import warnings\n",
        "warnings.filterwarnings('ignore')\n",
        "from imblearn.over_sampling import SMOTE # BALANCING the data\n"
      ],
      "execution_count": null,
      "outputs": []
    },
    {
      "cell_type": "markdown",
      "metadata": {
        "id": "Kr83PUg9ahCe"
      },
      "source": [
        "IMPORT DATASETS"
      ]
    },
    {
      "cell_type": "code",
      "metadata": {
        "colab": {
          "base_uri": "https://localhost:8080/"
        },
        "id": "O5727dz0ajuA",
        "outputId": "25c41f24-d439-4c07-b0a5-dbe244ed2f74"
      },
      "source": [
        "#Mount Google Drive\n",
        "from google.colab import drive\n",
        "drive.mount('/content/drive')\n",
        "\n"
      ],
      "execution_count": null,
      "outputs": [
        {
          "output_type": "stream",
          "name": "stdout",
          "text": [
            "Mounted at /content/drive\n"
          ]
        }
      ]
    },
    {
      "cell_type": "code",
      "metadata": {
        "colab": {
          "base_uri": "https://localhost:8080/"
        },
        "id": "N93KsVQPcoJI",
        "outputId": "b48f6fe1-135b-4201-8c3f-293f67740be1"
      },
      "source": [
        "#change directory\n",
        "%cd /content/drive/My Drive/Colab Notebooks/575 Project\n",
        "\n",
        "#Read csv and convert to pandas dataframe\n",
        "train_DF = pd.read_csv('bankruptcy_Train.csv', header = 0)\n",
        "test_DF = pd.read_csv('bankruptcy_Test_X.csv', header = 0)\n",
        "\n",
        "\n",
        "#Get the total number of Rows and Columns for each DF\n",
        "print(train_DF.shape)\n",
        "print(test_DF.shape)\n"
      ],
      "execution_count": null,
      "outputs": [
        {
          "output_type": "stream",
          "name": "stdout",
          "text": [
            "/content/drive/My Drive/Colab Notebooks/575 Project\n",
            "(10000, 65)\n",
            "(5000, 65)\n"
          ]
        }
      ]
    },
    {
      "cell_type": "markdown",
      "metadata": {
        "id": "c23iNuJLeV48"
      },
      "source": [
        "### BASELINE MODEL"
      ]
    },
    {
      "cell_type": "code",
      "metadata": {
        "colab": {
          "base_uri": "https://localhost:8080/",
          "height": 313
        },
        "id": "uxk4Ea91fW79",
        "outputId": "1b267ccc-2249-4228-b969-0c49ce4157c3"
      },
      "source": [
        "sns.countplot('class',data=train_DF)\n",
        "\n",
        "## BASELINE \n",
        "\n",
        "bankrupt = train_DF['class'].value_counts()\n",
        "\n",
        "rate_bankrupt = round(bankrupt[1]/len(train_DF),2)\n",
        "print(\"% of Companies that went Bankrupt :\", rate_bankrupt*100,\"%\")\n",
        "\n",
        "rate_non_bankrupt = round(bankrupt[0]/len(train_DF),2)\n",
        "print(\"% of Companies that did not went Bankrupt :\", rate_non_bankrupt*100,\"%\")\n"
      ],
      "execution_count": null,
      "outputs": [
        {
          "output_type": "stream",
          "name": "stdout",
          "text": [
            "% of Companies that went Bankrupt : 2.0 %\n",
            "% of Companies that did not went Bankrupt : 98.0 %\n"
          ]
        },
        {
          "output_type": "display_data",
          "data": {
            "image/png": "[encoded data removed]",
            "text/plain": [
              "<Figure size 432x288 with 1 Axes>"
            ]
          },
          "metadata": {
            "needs_background": "light"
          }
        }
      ]
    },
    {
      "cell_type": "markdown",
      "metadata": {
        "id": "HUl0XZQz6Phy"
      },
      "source": [
        "### **DATA PRE PROCESSING**"
      ]
    },
    {
      "cell_type": "code",
      "metadata": {
        "id": "4E8mVj5MXhcL"
      },
      "source": [
        "def check_na(DF):\n",
        "  for col in DF.columns:\n",
        "    if len(DF[DF[col].isna()]) >0:\n",
        "      print(col)\n",
        "    \n",
        "check_na(train_DF)"
      ],
      "execution_count": null,
      "outputs": []
    },
    {
      "cell_type": "code",
      "metadata": {
        "id": "1v3QSyHed7Pi"
      },
      "source": [
        "check_na(test_DF)"
      ],
      "execution_count": null,
      "outputs": []
    },
    {
      "cell_type": "code",
      "metadata": {
        "colab": {
          "base_uri": "https://localhost:8080/",
          "height": 317
        },
        "id": "v2da-Ii3Xq6R",
        "outputId": "ceae2efa-c94f-4d18-d1a2-7e6f0c69b2cc"
      },
      "source": [
        "test_DF.describe()"
      ],
      "execution_count": null,
      "outputs": [
        {
          "output_type": "execute_result",
          "data": {
            "text/html": [
              "<div>\n",
              "<style scoped>\n",
              "    .dataframe tbody tr th:only-of-type {\n",
              "        vertical-align: middle;\n",
              "    }\n",
              "\n",
              "    .dataframe tbody tr th {\n",
              "        vertical-align: top;\n",
              "    }\n",
              "\n",
              "    .dataframe thead th {\n",
              "        text-align: right;\n",
              "    }\n",
              "</style>\n",
              "<table border=\"1\" class=\"dataframe\">\n",
              "  <thead>\n",
              "    <tr style=\"text-align: right;\">\n",
              "      <th></th>\n",
              "      <th>ID</th>\n",
              "      <th>Attr1</th>\n",
              "      <th>Attr2</th>\n",
              "      <th>Attr3</th>\n",
              "      <th>Attr4</th>\n",
              "      <th>Attr5</th>\n",
              "      <th>Attr6</th>\n",
              "      <th>Attr7</th>\n",
              "      <th>Attr8</th>\n",
              "      <th>Attr9</th>\n",
              "      <th>Attr10</th>\n",
              "      <th>Attr11</th>\n",
              "      <th>Attr12</th>\n",
              "      <th>Attr13</th>\n",
              "      <th>Attr14</th>\n",
              "      <th>Attr15</th>\n",
              "      <th>Attr16</th>\n",
              "      <th>Attr17</th>\n",
              "      <th>Attr18</th>\n",
              "      <th>Attr19</th>\n",
              "      <th>Attr20</th>\n",
              "      <th>Attr21</th>\n",
              "      <th>Attr22</th>\n",
              "      <th>Attr23</th>\n",
              "      <th>Attr24</th>\n",
              "      <th>Attr25</th>\n",
              "      <th>Attr26</th>\n",
              "      <th>Attr27</th>\n",
              "      <th>Attr28</th>\n",
              "      <th>Attr29</th>\n",
              "      <th>Attr30</th>\n",
              "      <th>Attr31</th>\n",
              "      <th>Attr32</th>\n",
              "      <th>Attr33</th>\n",
              "      <th>Attr34</th>\n",
              "      <th>Attr35</th>\n",
              "      <th>Attr36</th>\n",
              "      <th>Attr37</th>\n",
              "      <th>Attr38</th>\n",
              "      <th>Attr39</th>\n",
              "      <th>Attr40</th>\n",
              "      <th>Attr41</th>\n",
              "      <th>Attr42</th>\n",
              "      <th>Attr43</th>\n",
              "      <th>Attr44</th>\n",
              "      <th>Attr45</th>\n",
              "      <th>Attr46</th>\n",
              "      <th>Attr47</th>\n",
              "      <th>Attr48</th>\n",
              "      <th>Attr49</th>\n",
              "      <th>Attr50</th>\n",
              "      <th>Attr51</th>\n",
              "      <th>Attr52</th>\n",
              "      <th>Attr53</th>\n",
              "      <th>Attr54</th>\n",
              "      <th>Attr55</th>\n",
              "      <th>Attr56</th>\n",
              "      <th>Attr57</th>\n",
              "      <th>Attr58</th>\n",
              "      <th>Attr59</th>\n",
              "      <th>Attr60</th>\n",
              "      <th>Attr61</th>\n",
              "      <th>Attr62</th>\n",
              "      <th>Attr63</th>\n",
              "      <th>Attr64</th>\n",
              "    </tr>\n",
              "  </thead>\n",
              "  <tbody>\n",
              "    <tr>\n",
              "      <th>count</th>\n",
              "      <td>5000.000000</td>\n",
              "      <td>5000.000000</td>\n",
              "      <td>5000.000000</td>\n",
              "      <td>5000.000000</td>\n",
              "      <td>5000.000000</td>\n",
              "      <td>5000.000000</td>\n",
              "      <td>5000.000000</td>\n",
              "      <td>5000.000000</td>\n",
              "      <td>5000.000000</td>\n",
              "      <td>5000.000000</td>\n",
              "      <td>5000.000000</td>\n",
              "      <td>5000.000000</td>\n",
              "      <td>5000.000000</td>\n",
              "      <td>5000.000000</td>\n",
              "      <td>5000.0000</td>\n",
              "      <td>5000.000000</td>\n",
              "      <td>5000.000000</td>\n",
              "      <td>5000.000000</td>\n",
              "      <td>5000.000000</td>\n",
              "      <td>5000.000000</td>\n",
              "      <td>5000.000000</td>\n",
              "      <td>5000.000000</td>\n",
              "      <td>5000.000000</td>\n",
              "      <td>5000.000000</td>\n",
              "      <td>5000.000000</td>\n",
              "      <td>5000.000000</td>\n",
              "      <td>5000.000000</td>\n",
              "      <td>5000.000000</td>\n",
              "      <td>5000.000000</td>\n",
              "      <td>5000.000000</td>\n",
              "      <td>5000.000000</td>\n",
              "      <td>5000.000000</td>\n",
              "      <td>5000.000000</td>\n",
              "      <td>5000.000000</td>\n",
              "      <td>5000.000000</td>\n",
              "      <td>5000.000000</td>\n",
              "      <td>5000.000000</td>\n",
              "      <td>5000.000000</td>\n",
              "      <td>5000.000000</td>\n",
              "      <td>5000.000000</td>\n",
              "      <td>5000.000000</td>\n",
              "      <td>5000.000000</td>\n",
              "      <td>5000.000000</td>\n",
              "      <td>5000.000000</td>\n",
              "      <td>5000.000000</td>\n",
              "      <td>5000.00000</td>\n",
              "      <td>5000.000000</td>\n",
              "      <td>5000.000000</td>\n",
              "      <td>5000.000000</td>\n",
              "      <td>5000.000000</td>\n",
              "      <td>5000.000000</td>\n",
              "      <td>5000.000000</td>\n",
              "      <td>5000.000000</td>\n",
              "      <td>5000.000000</td>\n",
              "      <td>5000.000000</td>\n",
              "      <td>5000.000000</td>\n",
              "      <td>5000.000000</td>\n",
              "      <td>5000.000000</td>\n",
              "      <td>5000.000000</td>\n",
              "      <td>5000.000000</td>\n",
              "      <td>5000.000000</td>\n",
              "      <td>5000.000000</td>\n",
              "      <td>5000.000000</td>\n",
              "      <td>5000.000000</td>\n",
              "      <td>5000.000000</td>\n",
              "    </tr>\n",
              "    <tr>\n",
              "      <th>mean</th>\n",
              "      <td>2500.500000</td>\n",
              "      <td>-0.005733</td>\n",
              "      <td>0.007330</td>\n",
              "      <td>-0.000818</td>\n",
              "      <td>-0.005996</td>\n",
              "      <td>0.007083</td>\n",
              "      <td>-0.003084</td>\n",
              "      <td>0.007197</td>\n",
              "      <td>0.010881</td>\n",
              "      <td>0.004458</td>\n",
              "      <td>-0.007591</td>\n",
              "      <td>0.004538</td>\n",
              "      <td>0.003369</td>\n",
              "      <td>-0.001030</td>\n",
              "      <td>0.0072</td>\n",
              "      <td>0.001055</td>\n",
              "      <td>0.003734</td>\n",
              "      <td>0.011851</td>\n",
              "      <td>0.007906</td>\n",
              "      <td>-0.000978</td>\n",
              "      <td>-0.011179</td>\n",
              "      <td>0.013422</td>\n",
              "      <td>0.009044</td>\n",
              "      <td>-0.001165</td>\n",
              "      <td>0.008538</td>\n",
              "      <td>-0.008583</td>\n",
              "      <td>0.004973</td>\n",
              "      <td>0.000782</td>\n",
              "      <td>-0.011127</td>\n",
              "      <td>-0.016554</td>\n",
              "      <td>-0.008122</td>\n",
              "      <td>-0.001649</td>\n",
              "      <td>0.027198</td>\n",
              "      <td>0.001921</td>\n",
              "      <td>0.014881</td>\n",
              "      <td>0.006940</td>\n",
              "      <td>-0.001344</td>\n",
              "      <td>-0.013249</td>\n",
              "      <td>-0.007544</td>\n",
              "      <td>-0.007648</td>\n",
              "      <td>-0.007851</td>\n",
              "      <td>-0.006537</td>\n",
              "      <td>-0.001272</td>\n",
              "      <td>-0.007825</td>\n",
              "      <td>-0.006465</td>\n",
              "      <td>0.00748</td>\n",
              "      <td>-0.011742</td>\n",
              "      <td>0.025162</td>\n",
              "      <td>0.006714</td>\n",
              "      <td>0.002593</td>\n",
              "      <td>0.009605</td>\n",
              "      <td>0.003373</td>\n",
              "      <td>0.027755</td>\n",
              "      <td>0.006284</td>\n",
              "      <td>-0.011009</td>\n",
              "      <td>0.014361</td>\n",
              "      <td>0.009678</td>\n",
              "      <td>0.014961</td>\n",
              "      <td>-0.009707</td>\n",
              "      <td>-0.016201</td>\n",
              "      <td>0.001093</td>\n",
              "      <td>0.006445</td>\n",
              "      <td>-0.009829</td>\n",
              "      <td>0.001204</td>\n",
              "      <td>-0.006362</td>\n",
              "    </tr>\n",
              "    <tr>\n",
              "      <th>std</th>\n",
              "      <td>1443.520003</td>\n",
              "      <td>0.216805</td>\n",
              "      <td>0.101846</td>\n",
              "      <td>0.990087</td>\n",
              "      <td>0.556211</td>\n",
              "      <td>0.163345</td>\n",
              "      <td>0.247935</td>\n",
              "      <td>0.040299</td>\n",
              "      <td>0.944216</td>\n",
              "      <td>0.810988</td>\n",
              "      <td>0.128414</td>\n",
              "      <td>0.739170</td>\n",
              "      <td>0.469151</td>\n",
              "      <td>0.764095</td>\n",
              "      <td>0.0403</td>\n",
              "      <td>0.764019</td>\n",
              "      <td>0.951936</td>\n",
              "      <td>0.974497</td>\n",
              "      <td>0.212896</td>\n",
              "      <td>1.140861</td>\n",
              "      <td>0.151683</td>\n",
              "      <td>1.754203</td>\n",
              "      <td>0.723886</td>\n",
              "      <td>1.142581</td>\n",
              "      <td>0.412991</td>\n",
              "      <td>0.382849</td>\n",
              "      <td>0.953209</td>\n",
              "      <td>0.647031</td>\n",
              "      <td>0.065745</td>\n",
              "      <td>0.997709</td>\n",
              "      <td>0.362205</td>\n",
              "      <td>1.209560</td>\n",
              "      <td>1.935707</td>\n",
              "      <td>0.901053</td>\n",
              "      <td>0.970572</td>\n",
              "      <td>0.861529</td>\n",
              "      <td>0.919006</td>\n",
              "      <td>0.362036</td>\n",
              "      <td>0.072078</td>\n",
              "      <td>1.473247</td>\n",
              "      <td>0.473741</td>\n",
              "      <td>0.037637</td>\n",
              "      <td>1.193166</td>\n",
              "      <td>0.323507</td>\n",
              "      <td>0.324629</td>\n",
              "      <td>0.12517</td>\n",
              "      <td>0.452920</td>\n",
              "      <td>1.606498</td>\n",
              "      <td>0.799811</td>\n",
              "      <td>1.102724</td>\n",
              "      <td>1.044568</td>\n",
              "      <td>0.955541</td>\n",
              "      <td>1.939835</td>\n",
              "      <td>1.127371</td>\n",
              "      <td>0.062193</td>\n",
              "      <td>1.130408</td>\n",
              "      <td>0.028385</td>\n",
              "      <td>0.593384</td>\n",
              "      <td>0.028647</td>\n",
              "      <td>0.100155</td>\n",
              "      <td>0.776294</td>\n",
              "      <td>0.967076</td>\n",
              "      <td>0.088811</td>\n",
              "      <td>0.863946</td>\n",
              "      <td>0.426877</td>\n",
              "    </tr>\n",
              "    <tr>\n",
              "      <th>min</th>\n",
              "      <td>1.000000</td>\n",
              "      <td>-3.133300</td>\n",
              "      <td>-0.167400</td>\n",
              "      <td>-10.772800</td>\n",
              "      <td>-0.379600</td>\n",
              "      <td>-7.782200</td>\n",
              "      <td>-1.263700</td>\n",
              "      <td>-0.537900</td>\n",
              "      <td>-0.979100</td>\n",
              "      <td>-1.290700</td>\n",
              "      <td>-3.255500</td>\n",
              "      <td>-10.142000</td>\n",
              "      <td>-2.040600</td>\n",
              "      <td>-3.413800</td>\n",
              "      <td>-0.5379</td>\n",
              "      <td>-17.966300</td>\n",
              "      <td>-5.038900</td>\n",
              "      <td>-1.007100</td>\n",
              "      <td>-0.531800</td>\n",
              "      <td>-80.244700</td>\n",
              "      <td>-0.073700</td>\n",
              "      <td>-0.020000</td>\n",
              "      <td>-6.575600</td>\n",
              "      <td>-80.387500</td>\n",
              "      <td>-0.989200</td>\n",
              "      <td>-8.061600</td>\n",
              "      <td>-3.958300</td>\n",
              "      <td>-0.078700</td>\n",
              "      <td>-0.623800</td>\n",
              "      <td>-6.376200</td>\n",
              "      <td>-0.187900</td>\n",
              "      <td>-85.035600</td>\n",
              "      <td>-0.032500</td>\n",
              "      <td>-0.765000</td>\n",
              "      <td>-1.910300</td>\n",
              "      <td>-11.345400</td>\n",
              "      <td>-1.494500</td>\n",
              "      <td>-0.034700</td>\n",
              "      <td>-0.953300</td>\n",
              "      <td>-103.812800</td>\n",
              "      <td>-0.293100</td>\n",
              "      <td>-0.081300</td>\n",
              "      <td>-80.980300</td>\n",
              "      <td>-0.032800</td>\n",
              "      <td>-0.022700</td>\n",
              "      <td>-5.35950</td>\n",
              "      <td>-0.332400</td>\n",
              "      <td>-0.043900</td>\n",
              "      <td>-13.531100</td>\n",
              "      <td>-77.555100</td>\n",
              "      <td>-0.972100</td>\n",
              "      <td>-1.536500</td>\n",
              "      <td>-0.031600</td>\n",
              "      <td>-11.938100</td>\n",
              "      <td>-0.638200</td>\n",
              "      <td>-5.926800</td>\n",
              "      <td>-1.988400</td>\n",
              "      <td>-13.514800</td>\n",
              "      <td>-0.028900</td>\n",
              "      <td>-3.141000</td>\n",
              "      <td>-0.048600</td>\n",
              "      <td>-0.413000</td>\n",
              "      <td>-0.022100</td>\n",
              "      <td>-0.743300</td>\n",
              "      <td>-0.051000</td>\n",
              "    </tr>\n",
              "    <tr>\n",
              "      <th>25%</th>\n",
              "      <td>1250.750000</td>\n",
              "      <td>-0.078900</td>\n",
              "      <td>-0.056725</td>\n",
              "      <td>-0.524425</td>\n",
              "      <td>-0.193200</td>\n",
              "      <td>0.006800</td>\n",
              "      <td>-0.016000</td>\n",
              "      <td>-0.007900</td>\n",
              "      <td>-0.450225</td>\n",
              "      <td>-0.386425</td>\n",
              "      <td>-0.071425</td>\n",
              "      <td>-0.305025</td>\n",
              "      <td>-0.160725</td>\n",
              "      <td>-0.012200</td>\n",
              "      <td>-0.0079</td>\n",
              "      <td>-0.020600</td>\n",
              "      <td>-0.425625</td>\n",
              "      <td>-0.450825</td>\n",
              "      <td>-0.009900</td>\n",
              "      <td>0.001600</td>\n",
              "      <td>-0.050600</td>\n",
              "      <td>-0.016200</td>\n",
              "      <td>-0.337050</td>\n",
              "      <td>0.004500</td>\n",
              "      <td>-0.038725</td>\n",
              "      <td>-0.183225</td>\n",
              "      <td>-0.409025</td>\n",
              "      <td>-0.010000</td>\n",
              "      <td>-0.021100</td>\n",
              "      <td>-0.650100</td>\n",
              "      <td>-0.023200</td>\n",
              "      <td>-0.001500</td>\n",
              "      <td>-0.024300</td>\n",
              "      <td>-0.379500</td>\n",
              "      <td>-0.617925</td>\n",
              "      <td>-0.366550</td>\n",
              "      <td>-0.593100</td>\n",
              "      <td>-0.034400</td>\n",
              "      <td>-0.044900</td>\n",
              "      <td>-0.011500</td>\n",
              "      <td>-0.137200</td>\n",
              "      <td>-0.007400</td>\n",
              "      <td>-0.009200</td>\n",
              "      <td>-0.020500</td>\n",
              "      <td>-0.016200</td>\n",
              "      <td>0.00380</td>\n",
              "      <td>-0.185300</td>\n",
              "      <td>-0.035100</td>\n",
              "      <td>-0.224200</td>\n",
              "      <td>0.005800</td>\n",
              "      <td>-0.477700</td>\n",
              "      <td>-0.663325</td>\n",
              "      <td>-0.023700</td>\n",
              "      <td>-0.029200</td>\n",
              "      <td>-0.020800</td>\n",
              "      <td>-0.127200</td>\n",
              "      <td>0.009300</td>\n",
              "      <td>0.003200</td>\n",
              "      <td>-0.010800</td>\n",
              "      <td>-0.022800</td>\n",
              "      <td>-0.043500</td>\n",
              "      <td>-0.221325</td>\n",
              "      <td>-0.016900</td>\n",
              "      <td>-0.373400</td>\n",
              "      <td>-0.041500</td>\n",
              "    </tr>\n",
              "    <tr>\n",
              "      <th>50%</th>\n",
              "      <td>2500.500000</td>\n",
              "      <td>-0.019150</td>\n",
              "      <td>-0.001500</td>\n",
              "      <td>0.009700</td>\n",
              "      <td>-0.118250</td>\n",
              "      <td>0.007300</td>\n",
              "      <td>-0.016000</td>\n",
              "      <td>0.004150</td>\n",
              "      <td>-0.250750</td>\n",
              "      <td>-0.305750</td>\n",
              "      <td>0.003050</td>\n",
              "      <td>-0.047850</td>\n",
              "      <td>-0.094300</td>\n",
              "      <td>-0.011300</td>\n",
              "      <td>0.0042</td>\n",
              "      <td>-0.012100</td>\n",
              "      <td>-0.243850</td>\n",
              "      <td>-0.253250</td>\n",
              "      <td>0.002000</td>\n",
              "      <td>0.016600</td>\n",
              "      <td>-0.028900</td>\n",
              "      <td>-0.015700</td>\n",
              "      <td>-0.068300</td>\n",
              "      <td>0.017600</td>\n",
              "      <td>-0.004500</td>\n",
              "      <td>0.026200</td>\n",
              "      <td>-0.233500</td>\n",
              "      <td>-0.009900</td>\n",
              "      <td>-0.018200</td>\n",
              "      <td>-0.038550</td>\n",
              "      <td>-0.019000</td>\n",
              "      <td>0.016200</td>\n",
              "      <td>-0.019700</td>\n",
              "      <td>-0.189400</td>\n",
              "      <td>-0.298350</td>\n",
              "      <td>-0.080900</td>\n",
              "      <td>-0.209950</td>\n",
              "      <td>-0.033800</td>\n",
              "      <td>0.000400</td>\n",
              "      <td>0.011300</td>\n",
              "      <td>-0.110700</td>\n",
              "      <td>-0.007400</td>\n",
              "      <td>0.010000</td>\n",
              "      <td>-0.015100</td>\n",
              "      <td>-0.012800</td>\n",
              "      <td>0.00430</td>\n",
              "      <td>-0.108900</td>\n",
              "      <td>-0.026400</td>\n",
              "      <td>-0.005200</td>\n",
              "      <td>0.024550</td>\n",
              "      <td>-0.227500</td>\n",
              "      <td>-0.138550</td>\n",
              "      <td>-0.019100</td>\n",
              "      <td>-0.018500</td>\n",
              "      <td>-0.017700</td>\n",
              "      <td>-0.101650</td>\n",
              "      <td>0.009800</td>\n",
              "      <td>0.010100</td>\n",
              "      <td>-0.009900</td>\n",
              "      <td>-0.020400</td>\n",
              "      <td>-0.039900</td>\n",
              "      <td>-0.140700</td>\n",
              "      <td>-0.013700</td>\n",
              "      <td>-0.190100</td>\n",
              "      <td>-0.034300</td>\n",
              "    </tr>\n",
              "    <tr>\n",
              "      <th>75%</th>\n",
              "      <td>3750.250000</td>\n",
              "      <td>0.084725</td>\n",
              "      <td>0.059025</td>\n",
              "      <td>0.596100</td>\n",
              "      <td>0.027225</td>\n",
              "      <td>0.007700</td>\n",
              "      <td>0.015700</td>\n",
              "      <td>0.024500</td>\n",
              "      <td>0.112325</td>\n",
              "      <td>0.160600</td>\n",
              "      <td>0.071925</td>\n",
              "      <td>0.313900</td>\n",
              "      <td>0.052175</td>\n",
              "      <td>-0.009900</td>\n",
              "      <td>0.0245</td>\n",
              "      <td>0.005700</td>\n",
              "      <td>0.117325</td>\n",
              "      <td>0.106700</td>\n",
              "      <td>0.021900</td>\n",
              "      <td>0.042600</td>\n",
              "      <td>0.002000</td>\n",
              "      <td>-0.015000</td>\n",
              "      <td>0.302750</td>\n",
              "      <td>0.040000</td>\n",
              "      <td>0.044400</td>\n",
              "      <td>0.220525</td>\n",
              "      <td>0.112175</td>\n",
              "      <td>-0.009900</td>\n",
              "      <td>-0.013000</td>\n",
              "      <td>0.582700</td>\n",
              "      <td>-0.013100</td>\n",
              "      <td>0.044125</td>\n",
              "      <td>-0.013300</td>\n",
              "      <td>0.137475</td>\n",
              "      <td>0.325825</td>\n",
              "      <td>0.340400</td>\n",
              "      <td>0.354500</td>\n",
              "      <td>-0.031100</td>\n",
              "      <td>0.043100</td>\n",
              "      <td>0.046900</td>\n",
              "      <td>-0.026450</td>\n",
              "      <td>-0.007300</td>\n",
              "      <td>0.036425</td>\n",
              "      <td>-0.008700</td>\n",
              "      <td>-0.008600</td>\n",
              "      <td>0.00530</td>\n",
              "      <td>0.014225</td>\n",
              "      <td>-0.014100</td>\n",
              "      <td>0.304500</td>\n",
              "      <td>0.048400</td>\n",
              "      <td>0.152950</td>\n",
              "      <td>0.500425</td>\n",
              "      <td>-0.012700</td>\n",
              "      <td>-0.003800</td>\n",
              "      <td>-0.012700</td>\n",
              "      <td>-0.016375</td>\n",
              "      <td>0.010700</td>\n",
              "      <td>0.019800</td>\n",
              "      <td>-0.009400</td>\n",
              "      <td>-0.014575</td>\n",
              "      <td>-0.031800</td>\n",
              "      <td>0.000600</td>\n",
              "      <td>-0.009400</td>\n",
              "      <td>0.136100</td>\n",
              "      <td>-0.020200</td>\n",
              "    </tr>\n",
              "    <tr>\n",
              "      <th>max</th>\n",
              "      <td>5000.000000</td>\n",
              "      <td>2.813100</td>\n",
              "      <td>2.578900</td>\n",
              "      <td>3.107300</td>\n",
              "      <td>19.658600</td>\n",
              "      <td>7.996200</td>\n",
              "      <td>16.797800</td>\n",
              "      <td>0.492800</td>\n",
              "      <td>20.985700</td>\n",
              "      <td>8.732000</td>\n",
              "      <td>0.214500</td>\n",
              "      <td>8.927900</td>\n",
              "      <td>9.205600</td>\n",
              "      <td>53.909600</td>\n",
              "      <td>0.4928</td>\n",
              "      <td>31.498200</td>\n",
              "      <td>16.282600</td>\n",
              "      <td>22.753000</td>\n",
              "      <td>14.795200</td>\n",
              "      <td>1.624400</td>\n",
              "      <td>7.146600</td>\n",
              "      <td>123.123200</td>\n",
              "      <td>9.778100</td>\n",
              "      <td>1.280300</td>\n",
              "      <td>28.450100</td>\n",
              "      <td>0.633200</td>\n",
              "      <td>17.430000</td>\n",
              "      <td>45.631700</td>\n",
              "      <td>2.357600</td>\n",
              "      <td>4.926600</td>\n",
              "      <td>25.075200</td>\n",
              "      <td>2.140700</td>\n",
              "      <td>129.584000</td>\n",
              "      <td>25.701400</td>\n",
              "      <td>13.556900</td>\n",
              "      <td>11.908400</td>\n",
              "      <td>8.083800</td>\n",
              "      <td>23.607300</td>\n",
              "      <td>0.118600</td>\n",
              "      <td>1.739300</td>\n",
              "      <td>15.884500</td>\n",
              "      <td>2.459900</td>\n",
              "      <td>22.566700</td>\n",
              "      <td>22.806900</td>\n",
              "      <td>22.928700</td>\n",
              "      <td>4.53230</td>\n",
              "      <td>12.128000</td>\n",
              "      <td>75.859600</td>\n",
              "      <td>8.017500</td>\n",
              "      <td>1.256300</td>\n",
              "      <td>28.776100</td>\n",
              "      <td>12.070800</td>\n",
              "      <td>129.861700</td>\n",
              "      <td>78.349400</td>\n",
              "      <td>2.385700</td>\n",
              "      <td>61.611100</td>\n",
              "      <td>0.022900</td>\n",
              "      <td>37.405300</td>\n",
              "      <td>1.987700</td>\n",
              "      <td>1.771400</td>\n",
              "      <td>37.708900</td>\n",
              "      <td>36.532700</td>\n",
              "      <td>6.156200</td>\n",
              "      <td>22.887000</td>\n",
              "      <td>24.017700</td>\n",
              "    </tr>\n",
              "  </tbody>\n",
              "</table>\n",
              "</div>"
            ],
            "text/plain": [
              "                ID        Attr1  ...       Attr63       Attr64\n",
              "count  5000.000000  5000.000000  ...  5000.000000  5000.000000\n",
              "mean   2500.500000    -0.005733  ...     0.001204    -0.006362\n",
              "std    1443.520003     0.216805  ...     0.863946     0.426877\n",
              "min       1.000000    -3.133300  ...    -0.743300    -0.051000\n",
              "25%    1250.750000    -0.078900  ...    -0.373400    -0.041500\n",
              "50%    2500.500000    -0.019150  ...    -0.190100    -0.034300\n",
              "75%    3750.250000     0.084725  ...     0.136100    -0.020200\n",
              "max    5000.000000     2.813100  ...    22.887000    24.017700\n",
              "\n",
              "[8 rows x 65 columns]"
            ]
          },
          "metadata": {},
          "execution_count": 7
        }
      ]
    },
    {
      "cell_type": "code",
      "metadata": {
        "colab": {
          "base_uri": "https://localhost:8080/",
          "height": 317
        },
        "id": "8Zu_GKm9advx",
        "outputId": "d6d2856e-fbcc-4f01-9963-69853bdb3aa2"
      },
      "source": [
        "#train_DF.head(10)\n",
        "## Computing the descriptive statistic of our data\n",
        "## Attributes are all ratios and numericals\n",
        "\n",
        "train_DF.describe()\n"
      ],
      "execution_count": null,
      "outputs": [
        {
          "output_type": "execute_result",
          "data": {
            "text/html": [
              "<div>\n",
              "<style scoped>\n",
              "    .dataframe tbody tr th:only-of-type {\n",
              "        vertical-align: middle;\n",
              "    }\n",
              "\n",
              "    .dataframe tbody tr th {\n",
              "        vertical-align: top;\n",
              "    }\n",
              "\n",
              "    .dataframe thead th {\n",
              "        text-align: right;\n",
              "    }\n",
              "</style>\n",
              "<table border=\"1\" class=\"dataframe\">\n",
              "  <thead>\n",
              "    <tr style=\"text-align: right;\">\n",
              "      <th></th>\n",
              "      <th>Attr1</th>\n",
              "      <th>Attr2</th>\n",
              "      <th>Attr3</th>\n",
              "      <th>Attr4</th>\n",
              "      <th>Attr5</th>\n",
              "      <th>Attr6</th>\n",
              "      <th>Attr7</th>\n",
              "      <th>Attr8</th>\n",
              "      <th>Attr9</th>\n",
              "      <th>Attr10</th>\n",
              "      <th>Attr11</th>\n",
              "      <th>Attr12</th>\n",
              "      <th>Attr13</th>\n",
              "      <th>Attr14</th>\n",
              "      <th>Attr15</th>\n",
              "      <th>Attr16</th>\n",
              "      <th>Attr17</th>\n",
              "      <th>Attr18</th>\n",
              "      <th>Attr19</th>\n",
              "      <th>Attr20</th>\n",
              "      <th>Attr21</th>\n",
              "      <th>Attr22</th>\n",
              "      <th>Attr23</th>\n",
              "      <th>Attr24</th>\n",
              "      <th>Attr25</th>\n",
              "      <th>Attr26</th>\n",
              "      <th>Attr27</th>\n",
              "      <th>Attr28</th>\n",
              "      <th>Attr29</th>\n",
              "      <th>Attr30</th>\n",
              "      <th>Attr31</th>\n",
              "      <th>Attr32</th>\n",
              "      <th>Attr33</th>\n",
              "      <th>Attr34</th>\n",
              "      <th>Attr35</th>\n",
              "      <th>Attr36</th>\n",
              "      <th>Attr37</th>\n",
              "      <th>Attr38</th>\n",
              "      <th>Attr39</th>\n",
              "      <th>Attr40</th>\n",
              "      <th>Attr41</th>\n",
              "      <th>Attr42</th>\n",
              "      <th>Attr43</th>\n",
              "      <th>Attr44</th>\n",
              "      <th>Attr45</th>\n",
              "      <th>Attr46</th>\n",
              "      <th>Attr47</th>\n",
              "      <th>Attr48</th>\n",
              "      <th>Attr49</th>\n",
              "      <th>Attr50</th>\n",
              "      <th>Attr51</th>\n",
              "      <th>Attr52</th>\n",
              "      <th>Attr53</th>\n",
              "      <th>Attr54</th>\n",
              "      <th>Attr55</th>\n",
              "      <th>Attr56</th>\n",
              "      <th>Attr57</th>\n",
              "      <th>Attr58</th>\n",
              "      <th>Attr59</th>\n",
              "      <th>Attr60</th>\n",
              "      <th>Attr61</th>\n",
              "      <th>Attr62</th>\n",
              "      <th>Attr63</th>\n",
              "      <th>Attr64</th>\n",
              "      <th>class</th>\n",
              "    </tr>\n",
              "  </thead>\n",
              "  <tbody>\n",
              "    <tr>\n",
              "      <th>count</th>\n",
              "      <td>10000.000000</td>\n",
              "      <td>10000.000000</td>\n",
              "      <td>10000.000000</td>\n",
              "      <td>10000.000000</td>\n",
              "      <td>10000.000000</td>\n",
              "      <td>10000.000000</td>\n",
              "      <td>10000.000000</td>\n",
              "      <td>10000.000000</td>\n",
              "      <td>10000.000000</td>\n",
              "      <td>10000.000000</td>\n",
              "      <td>10000.000000</td>\n",
              "      <td>10000.000000</td>\n",
              "      <td>10000.000000</td>\n",
              "      <td>10000.000000</td>\n",
              "      <td>10000.000000</td>\n",
              "      <td>10000.000000</td>\n",
              "      <td>10000.000000</td>\n",
              "      <td>10000.000000</td>\n",
              "      <td>10000.000000</td>\n",
              "      <td>10000.000000</td>\n",
              "      <td>10000.000000</td>\n",
              "      <td>10000.000000</td>\n",
              "      <td>10000.000000</td>\n",
              "      <td>10000.000000</td>\n",
              "      <td>10000.000000</td>\n",
              "      <td>10000.000000</td>\n",
              "      <td>10000.000000</td>\n",
              "      <td>10000.000000</td>\n",
              "      <td>10000.000000</td>\n",
              "      <td>10000.000000</td>\n",
              "      <td>10000.000000</td>\n",
              "      <td>10000.000000</td>\n",
              "      <td>10000.000000</td>\n",
              "      <td>10000.000000</td>\n",
              "      <td>10000.000000</td>\n",
              "      <td>10000.000000</td>\n",
              "      <td>10000.000000</td>\n",
              "      <td>10000.000000</td>\n",
              "      <td>10000.000000</td>\n",
              "      <td>10000.000000</td>\n",
              "      <td>10000.000000</td>\n",
              "      <td>10000.000000</td>\n",
              "      <td>10000.000000</td>\n",
              "      <td>10000.000000</td>\n",
              "      <td>10000.000000</td>\n",
              "      <td>10000.000000</td>\n",
              "      <td>10000.000000</td>\n",
              "      <td>10000.000000</td>\n",
              "      <td>10000.000000</td>\n",
              "      <td>10000.000000</td>\n",
              "      <td>10000.000000</td>\n",
              "      <td>10000.000000</td>\n",
              "      <td>10000.000000</td>\n",
              "      <td>10000.000000</td>\n",
              "      <td>10000.000000</td>\n",
              "      <td>10000.000000</td>\n",
              "      <td>10000.000000</td>\n",
              "      <td>10000.000000</td>\n",
              "      <td>10000.000000</td>\n",
              "      <td>10000.000000</td>\n",
              "      <td>10000.000000</td>\n",
              "      <td>10000.000000</td>\n",
              "      <td>10000.000000</td>\n",
              "      <td>10000.000000</td>\n",
              "      <td>10000.000000</td>\n",
              "    </tr>\n",
              "    <tr>\n",
              "      <th>mean</th>\n",
              "      <td>-0.009157</td>\n",
              "      <td>0.006348</td>\n",
              "      <td>0.010863</td>\n",
              "      <td>0.008542</td>\n",
              "      <td>0.008754</td>\n",
              "      <td>-0.003778</td>\n",
              "      <td>0.006704</td>\n",
              "      <td>-0.000856</td>\n",
              "      <td>-0.010930</td>\n",
              "      <td>-0.006547</td>\n",
              "      <td>-0.004247</td>\n",
              "      <td>0.003580</td>\n",
              "      <td>-0.000114</td>\n",
              "      <td>0.006702</td>\n",
              "      <td>-0.006597</td>\n",
              "      <td>-0.010008</td>\n",
              "      <td>-0.000586</td>\n",
              "      <td>0.005903</td>\n",
              "      <td>-0.004566</td>\n",
              "      <td>0.012655</td>\n",
              "      <td>-0.002667</td>\n",
              "      <td>-0.003858</td>\n",
              "      <td>-0.004656</td>\n",
              "      <td>-0.001327</td>\n",
              "      <td>-0.004913</td>\n",
              "      <td>-0.009995</td>\n",
              "      <td>0.004353</td>\n",
              "      <td>-0.005976</td>\n",
              "      <td>0.000169</td>\n",
              "      <td>0.010593</td>\n",
              "      <td>-0.004370</td>\n",
              "      <td>-0.006619</td>\n",
              "      <td>0.001813</td>\n",
              "      <td>-0.006228</td>\n",
              "      <td>-0.004552</td>\n",
              "      <td>-0.014016</td>\n",
              "      <td>-0.001665</td>\n",
              "      <td>-0.006565</td>\n",
              "      <td>0.000222</td>\n",
              "      <td>0.008269</td>\n",
              "      <td>0.006924</td>\n",
              "      <td>-0.004904</td>\n",
              "      <td>0.009633</td>\n",
              "      <td>0.008136</td>\n",
              "      <td>-0.007019</td>\n",
              "      <td>0.011167</td>\n",
              "      <td>-0.003063</td>\n",
              "      <td>-0.004120</td>\n",
              "      <td>-0.007716</td>\n",
              "      <td>-0.003003</td>\n",
              "      <td>-0.012968</td>\n",
              "      <td>-0.007065</td>\n",
              "      <td>-0.005346</td>\n",
              "      <td>-0.006170</td>\n",
              "      <td>-0.009852</td>\n",
              "      <td>-0.009801</td>\n",
              "      <td>-0.013509</td>\n",
              "      <td>0.009847</td>\n",
              "      <td>0.014134</td>\n",
              "      <td>0.001855</td>\n",
              "      <td>-0.010073</td>\n",
              "      <td>0.009683</td>\n",
              "      <td>0.001845</td>\n",
              "      <td>0.000212</td>\n",
              "      <td>0.021500</td>\n",
              "    </tr>\n",
              "    <tr>\n",
              "      <th>std</th>\n",
              "      <td>0.215420</td>\n",
              "      <td>0.094827</td>\n",
              "      <td>0.968869</td>\n",
              "      <td>1.289251</td>\n",
              "      <td>0.143395</td>\n",
              "      <td>0.619168</td>\n",
              "      <td>0.038732</td>\n",
              "      <td>1.079138</td>\n",
              "      <td>1.006380</td>\n",
              "      <td>0.119024</td>\n",
              "      <td>0.709514</td>\n",
              "      <td>1.044094</td>\n",
              "      <td>1.147029</td>\n",
              "      <td>0.038731</td>\n",
              "      <td>0.886776</td>\n",
              "      <td>0.962177</td>\n",
              "      <td>1.065365</td>\n",
              "      <td>0.149013</td>\n",
              "      <td>1.144668</td>\n",
              "      <td>1.407831</td>\n",
              "      <td>0.597995</td>\n",
              "      <td>0.690847</td>\n",
              "      <td>1.144789</td>\n",
              "      <td>1.305798</td>\n",
              "      <td>0.368498</td>\n",
              "      <td>0.968603</td>\n",
              "      <td>1.336851</td>\n",
              "      <td>0.357369</td>\n",
              "      <td>0.995939</td>\n",
              "      <td>1.388583</td>\n",
              "      <td>1.107125</td>\n",
              "      <td>0.347134</td>\n",
              "      <td>1.142186</td>\n",
              "      <td>1.046148</td>\n",
              "      <td>0.792318</td>\n",
              "      <td>0.908651</td>\n",
              "      <td>0.597916</td>\n",
              "      <td>0.069757</td>\n",
              "      <td>0.927413</td>\n",
              "      <td>1.285829</td>\n",
              "      <td>1.412783</td>\n",
              "      <td>1.089262</td>\n",
              "      <td>1.393747</td>\n",
              "      <td>1.393610</td>\n",
              "      <td>1.410064</td>\n",
              "      <td>1.304679</td>\n",
              "      <td>0.839406</td>\n",
              "      <td>0.755790</td>\n",
              "      <td>1.151445</td>\n",
              "      <td>0.957153</td>\n",
              "      <td>0.925995</td>\n",
              "      <td>0.335484</td>\n",
              "      <td>0.665519</td>\n",
              "      <td>0.352126</td>\n",
              "      <td>1.027218</td>\n",
              "      <td>1.412866</td>\n",
              "      <td>1.330633</td>\n",
              "      <td>1.412864</td>\n",
              "      <td>1.405636</td>\n",
              "      <td>1.251921</td>\n",
              "      <td>1.056577</td>\n",
              "      <td>1.410930</td>\n",
              "      <td>1.162661</td>\n",
              "      <td>0.990925</td>\n",
              "      <td>0.145051</td>\n",
              "    </tr>\n",
              "    <tr>\n",
              "      <th>min</th>\n",
              "      <td>-5.317200</td>\n",
              "      <td>-0.170000</td>\n",
              "      <td>-12.170600</td>\n",
              "      <td>-0.381600</td>\n",
              "      <td>-1.111400</td>\n",
              "      <td>-22.442600</td>\n",
              "      <td>-0.399800</td>\n",
              "      <td>-1.039100</td>\n",
              "      <td>-1.296400</td>\n",
              "      <td>-3.300800</td>\n",
              "      <td>-7.625700</td>\n",
              "      <td>-10.286100</td>\n",
              "      <td>-4.252600</td>\n",
              "      <td>-0.399800</td>\n",
              "      <td>-64.255900</td>\n",
              "      <td>-7.243200</td>\n",
              "      <td>-1.026900</td>\n",
              "      <td>-0.395800</td>\n",
              "      <td>-98.844200</td>\n",
              "      <td>-0.073700</td>\n",
              "      <td>-0.020100</td>\n",
              "      <td>-7.407700</td>\n",
              "      <td>-99.021100</td>\n",
              "      <td>-89.689400</td>\n",
              "      <td>-8.422100</td>\n",
              "      <td>-7.834400</td>\n",
              "      <td>-1.090700</td>\n",
              "      <td>-2.388900</td>\n",
              "      <td>-7.035400</td>\n",
              "      <td>-0.080600</td>\n",
              "      <td>-92.356000</td>\n",
              "      <td>-0.032500</td>\n",
              "      <td>-0.765200</td>\n",
              "      <td>-2.415500</td>\n",
              "      <td>-11.345400</td>\n",
              "      <td>-1.497700</td>\n",
              "      <td>-0.035800</td>\n",
              "      <td>-0.853400</td>\n",
              "      <td>-86.746700</td>\n",
              "      <td>-2.558900</td>\n",
              "      <td>-0.366500</td>\n",
              "      <td>-91.709800</td>\n",
              "      <td>-0.032900</td>\n",
              "      <td>-0.022800</td>\n",
              "      <td>-140.725100</td>\n",
              "      <td>-1.970900</td>\n",
              "      <td>-0.044000</td>\n",
              "      <td>-15.537200</td>\n",
              "      <td>-86.866500</td>\n",
              "      <td>-0.976300</td>\n",
              "      <td>-1.565000</td>\n",
              "      <td>-0.031800</td>\n",
              "      <td>-16.155000</td>\n",
              "      <td>-2.443000</td>\n",
              "      <td>-19.008000</td>\n",
              "      <td>-117.531300</td>\n",
              "      <td>-118.282900</td>\n",
              "      <td>-0.024200</td>\n",
              "      <td>-4.816200</td>\n",
              "      <td>-0.048600</td>\n",
              "      <td>-0.413100</td>\n",
              "      <td>-0.022200</td>\n",
              "      <td>-0.743300</td>\n",
              "      <td>-0.051000</td>\n",
              "      <td>0.000000</td>\n",
              "    </tr>\n",
              "    <tr>\n",
              "      <th>25%</th>\n",
              "      <td>-0.079625</td>\n",
              "      <td>-0.055000</td>\n",
              "      <td>-0.516700</td>\n",
              "      <td>-0.192300</td>\n",
              "      <td>0.006800</td>\n",
              "      <td>-0.016000</td>\n",
              "      <td>-0.008000</td>\n",
              "      <td>-0.442525</td>\n",
              "      <td>-0.389500</td>\n",
              "      <td>-0.067000</td>\n",
              "      <td>-0.308850</td>\n",
              "      <td>-0.161700</td>\n",
              "      <td>-0.012200</td>\n",
              "      <td>-0.008000</td>\n",
              "      <td>-0.020200</td>\n",
              "      <td>-0.427850</td>\n",
              "      <td>-0.441150</td>\n",
              "      <td>-0.010000</td>\n",
              "      <td>0.001400</td>\n",
              "      <td>-0.050125</td>\n",
              "      <td>-0.016200</td>\n",
              "      <td>-0.341725</td>\n",
              "      <td>0.004400</td>\n",
              "      <td>-0.040000</td>\n",
              "      <td>-0.170725</td>\n",
              "      <td>-0.412550</td>\n",
              "      <td>-0.010000</td>\n",
              "      <td>-0.021100</td>\n",
              "      <td>-0.636375</td>\n",
              "      <td>-0.023000</td>\n",
              "      <td>-0.001700</td>\n",
              "      <td>-0.024200</td>\n",
              "      <td>-0.383100</td>\n",
              "      <td>-0.618500</td>\n",
              "      <td>-0.363625</td>\n",
              "      <td>-0.594950</td>\n",
              "      <td>-0.034400</td>\n",
              "      <td>-0.045000</td>\n",
              "      <td>-0.011700</td>\n",
              "      <td>-0.137900</td>\n",
              "      <td>-0.007400</td>\n",
              "      <td>-0.009600</td>\n",
              "      <td>-0.020300</td>\n",
              "      <td>-0.016100</td>\n",
              "      <td>0.003800</td>\n",
              "      <td>-0.184625</td>\n",
              "      <td>-0.034800</td>\n",
              "      <td>-0.224725</td>\n",
              "      <td>0.006075</td>\n",
              "      <td>-0.475900</td>\n",
              "      <td>-0.670425</td>\n",
              "      <td>-0.023600</td>\n",
              "      <td>-0.029100</td>\n",
              "      <td>-0.020700</td>\n",
              "      <td>-0.127200</td>\n",
              "      <td>0.009300</td>\n",
              "      <td>0.003200</td>\n",
              "      <td>-0.010800</td>\n",
              "      <td>-0.022700</td>\n",
              "      <td>-0.043400</td>\n",
              "      <td>-0.223400</td>\n",
              "      <td>-0.016800</td>\n",
              "      <td>-0.370700</td>\n",
              "      <td>-0.041500</td>\n",
              "      <td>0.000000</td>\n",
              "    </tr>\n",
              "    <tr>\n",
              "      <th>50%</th>\n",
              "      <td>-0.021300</td>\n",
              "      <td>-0.000050</td>\n",
              "      <td>0.005600</td>\n",
              "      <td>-0.118150</td>\n",
              "      <td>0.007300</td>\n",
              "      <td>-0.016000</td>\n",
              "      <td>0.003800</td>\n",
              "      <td>-0.261950</td>\n",
              "      <td>-0.311100</td>\n",
              "      <td>0.000200</td>\n",
              "      <td>-0.058850</td>\n",
              "      <td>-0.098000</td>\n",
              "      <td>-0.011300</td>\n",
              "      <td>0.003850</td>\n",
              "      <td>-0.011500</td>\n",
              "      <td>-0.248100</td>\n",
              "      <td>-0.259700</td>\n",
              "      <td>0.001650</td>\n",
              "      <td>0.016200</td>\n",
              "      <td>-0.028500</td>\n",
              "      <td>-0.015700</td>\n",
              "      <td>-0.071200</td>\n",
              "      <td>0.017000</td>\n",
              "      <td>-0.005650</td>\n",
              "      <td>0.027100</td>\n",
              "      <td>-0.236400</td>\n",
              "      <td>-0.009900</td>\n",
              "      <td>-0.018200</td>\n",
              "      <td>-0.041500</td>\n",
              "      <td>-0.018900</td>\n",
              "      <td>0.015800</td>\n",
              "      <td>-0.019700</td>\n",
              "      <td>-0.187200</td>\n",
              "      <td>-0.315500</td>\n",
              "      <td>-0.082200</td>\n",
              "      <td>-0.204850</td>\n",
              "      <td>-0.033800</td>\n",
              "      <td>0.001500</td>\n",
              "      <td>0.011100</td>\n",
              "      <td>-0.111000</td>\n",
              "      <td>-0.007400</td>\n",
              "      <td>0.009600</td>\n",
              "      <td>-0.015000</td>\n",
              "      <td>-0.012800</td>\n",
              "      <td>0.004300</td>\n",
              "      <td>-0.106500</td>\n",
              "      <td>-0.026200</td>\n",
              "      <td>-0.001900</td>\n",
              "      <td>0.024700</td>\n",
              "      <td>-0.229300</td>\n",
              "      <td>-0.160100</td>\n",
              "      <td>-0.019100</td>\n",
              "      <td>-0.018600</td>\n",
              "      <td>-0.017700</td>\n",
              "      <td>-0.101300</td>\n",
              "      <td>0.009800</td>\n",
              "      <td>0.009800</td>\n",
              "      <td>-0.009900</td>\n",
              "      <td>-0.020400</td>\n",
              "      <td>-0.040000</td>\n",
              "      <td>-0.141200</td>\n",
              "      <td>-0.013700</td>\n",
              "      <td>-0.187750</td>\n",
              "      <td>-0.034400</td>\n",
              "      <td>0.000000</td>\n",
              "    </tr>\n",
              "    <tr>\n",
              "      <th>75%</th>\n",
              "      <td>0.076000</td>\n",
              "      <td>0.055100</td>\n",
              "      <td>0.602050</td>\n",
              "      <td>0.025650</td>\n",
              "      <td>0.007800</td>\n",
              "      <td>0.015800</td>\n",
              "      <td>0.023400</td>\n",
              "      <td>0.093750</td>\n",
              "      <td>0.131375</td>\n",
              "      <td>0.069500</td>\n",
              "      <td>0.304650</td>\n",
              "      <td>0.051500</td>\n",
              "      <td>-0.010000</td>\n",
              "      <td>0.023400</td>\n",
              "      <td>0.005500</td>\n",
              "      <td>0.103725</td>\n",
              "      <td>0.089825</td>\n",
              "      <td>0.020925</td>\n",
              "      <td>0.041625</td>\n",
              "      <td>0.001400</td>\n",
              "      <td>-0.015100</td>\n",
              "      <td>0.292525</td>\n",
              "      <td>0.039025</td>\n",
              "      <td>0.043300</td>\n",
              "      <td>0.216125</td>\n",
              "      <td>0.098475</td>\n",
              "      <td>-0.009900</td>\n",
              "      <td>-0.013000</td>\n",
              "      <td>0.604825</td>\n",
              "      <td>-0.013000</td>\n",
              "      <td>0.043500</td>\n",
              "      <td>-0.013200</td>\n",
              "      <td>0.123925</td>\n",
              "      <td>0.289100</td>\n",
              "      <td>0.335900</td>\n",
              "      <td>0.330775</td>\n",
              "      <td>-0.031100</td>\n",
              "      <td>0.042300</td>\n",
              "      <td>0.046900</td>\n",
              "      <td>-0.024300</td>\n",
              "      <td>-0.007300</td>\n",
              "      <td>0.036000</td>\n",
              "      <td>-0.008500</td>\n",
              "      <td>-0.008400</td>\n",
              "      <td>0.005200</td>\n",
              "      <td>0.022025</td>\n",
              "      <td>-0.014500</td>\n",
              "      <td>0.288925</td>\n",
              "      <td>0.047025</td>\n",
              "      <td>0.138950</td>\n",
              "      <td>0.484575</td>\n",
              "      <td>-0.012600</td>\n",
              "      <td>-0.004500</td>\n",
              "      <td>-0.012600</td>\n",
              "      <td>-0.020775</td>\n",
              "      <td>0.010700</td>\n",
              "      <td>0.019600</td>\n",
              "      <td>-0.009400</td>\n",
              "      <td>-0.014400</td>\n",
              "      <td>-0.032100</td>\n",
              "      <td>-0.008750</td>\n",
              "      <td>-0.009500</td>\n",
              "      <td>0.119050</td>\n",
              "      <td>-0.021000</td>\n",
              "      <td>0.000000</td>\n",
              "    </tr>\n",
              "    <tr>\n",
              "      <th>max</th>\n",
              "      <td>2.337300</td>\n",
              "      <td>2.614600</td>\n",
              "      <td>3.332500</td>\n",
              "      <td>97.311600</td>\n",
              "      <td>11.556200</td>\n",
              "      <td>54.566700</td>\n",
              "      <td>0.410300</td>\n",
              "      <td>47.504500</td>\n",
              "      <td>62.936400</td>\n",
              "      <td>0.468300</td>\n",
              "      <td>8.001100</td>\n",
              "      <td>91.190900</td>\n",
              "      <td>114.551100</td>\n",
              "      <td>0.410300</td>\n",
              "      <td>34.847100</td>\n",
              "      <td>21.724800</td>\n",
              "      <td>45.284400</td>\n",
              "      <td>14.409500</td>\n",
              "      <td>6.518500</td>\n",
              "      <td>103.890800</td>\n",
              "      <td>39.113500</td>\n",
              "      <td>8.100800</td>\n",
              "      <td>6.534100</td>\n",
              "      <td>87.817000</td>\n",
              "      <td>0.666600</td>\n",
              "      <td>23.238100</td>\n",
              "      <td>133.595200</td>\n",
              "      <td>27.541600</td>\n",
              "      <td>4.638200</td>\n",
              "      <td>127.421800</td>\n",
              "      <td>7.035300</td>\n",
              "      <td>21.944600</td>\n",
              "      <td>67.720300</td>\n",
              "      <td>29.360100</td>\n",
              "      <td>8.318300</td>\n",
              "      <td>9.078800</td>\n",
              "      <td>36.464800</td>\n",
              "      <td>0.385000</td>\n",
              "      <td>9.655800</td>\n",
              "      <td>107.747500</td>\n",
              "      <td>141.269000</td>\n",
              "      <td>23.006700</td>\n",
              "      <td>128.894200</td>\n",
              "      <td>134.675200</td>\n",
              "      <td>4.530000</td>\n",
              "      <td>97.689500</td>\n",
              "      <td>57.612700</td>\n",
              "      <td>6.655200</td>\n",
              "      <td>1.330000</td>\n",
              "      <td>21.293200</td>\n",
              "      <td>11.640300</td>\n",
              "      <td>21.992900</td>\n",
              "      <td>56.226600</td>\n",
              "      <td>26.761600</td>\n",
              "      <td>74.119500</td>\n",
              "      <td>0.022900</td>\n",
              "      <td>7.546400</td>\n",
              "      <td>117.517700</td>\n",
              "      <td>128.352800</td>\n",
              "      <td>117.341100</td>\n",
              "      <td>59.139200</td>\n",
              "      <td>136.430900</td>\n",
              "      <td>62.527200</td>\n",
              "      <td>90.774700</td>\n",
              "      <td>1.000000</td>\n",
              "    </tr>\n",
              "  </tbody>\n",
              "</table>\n",
              "</div>"
            ],
            "text/plain": [
              "              Attr1         Attr2  ...        Attr64         class\n",
              "count  10000.000000  10000.000000  ...  10000.000000  10000.000000\n",
              "mean      -0.009157      0.006348  ...      0.000212      0.021500\n",
              "std        0.215420      0.094827  ...      0.990925      0.145051\n",
              "min       -5.317200     -0.170000  ...     -0.051000      0.000000\n",
              "25%       -0.079625     -0.055000  ...     -0.041500      0.000000\n",
              "50%       -0.021300     -0.000050  ...     -0.034400      0.000000\n",
              "75%        0.076000      0.055100  ...     -0.021000      0.000000\n",
              "max        2.337300      2.614600  ...     90.774700      1.000000\n",
              "\n",
              "[8 rows x 65 columns]"
            ]
          },
          "metadata": {},
          "execution_count": 8
        }
      ]
    },
    {
      "cell_type": "markdown",
      "metadata": {
        "id": "x7AzdNPJ6HvU"
      },
      "source": [
        "# **Missing Values**"
      ]
    },
    {
      "cell_type": "code",
      "metadata": {
        "colab": {
          "base_uri": "https://localhost:8080/",
          "height": 948
        },
        "id": "pqKvq1Ho0MkW",
        "outputId": "71e55017-59dc-4437-8280-995666f5abc3"
      },
      "source": [
        "#Check for Missing Values\n",
        "plt.figure(figsize=(16,12)) \n",
        "sns.heatmap(train_DF.isnull(), cmap = 'magma')\n",
        "\n",
        "#NO MISSING VALUES in the given data set\n",
        "#Calcuate missing values % for each column\n",
        "na_ratio_train = train_DF.isna().sum().sort_values(ascending = False)/len(train_DF)\n",
        "print(\"NA Ratio %s for all columns in Train:\")\n",
        "print(na_ratio_train)"
      ],
      "execution_count": null,
      "outputs": [
        {
          "output_type": "stream",
          "name": "stdout",
          "text": [
            "NA Ratio %s for all columns in Train:\n",
            "class     0.0\n",
            "Attr32    0.0\n",
            "Attr30    0.0\n",
            "Attr29    0.0\n",
            "Attr28    0.0\n",
            "         ... \n",
            "Attr38    0.0\n",
            "Attr37    0.0\n",
            "Attr36    0.0\n",
            "Attr35    0.0\n",
            "Attr1     0.0\n",
            "Length: 65, dtype: float64\n"
          ]
        },
        {
          "output_type": "display_data",
          "data": {
            "image/png": "[encoded data removed]",
            "text/plain": [
              "<Figure size 1152x864 with 2 Axes>"
            ]
          },
          "metadata": {
            "needs_background": "light"
          }
        }
      ]
    },
    {
      "cell_type": "markdown",
      "metadata": {
        "id": "Rc1g9etP5Vh5"
      },
      "source": [
        "# **Check for NULL Values**"
      ]
    },
    {
      "cell_type": "code",
      "metadata": {
        "id": "RPQw9_xUNIGh",
        "colab": {
          "base_uri": "https://localhost:8080/"
        },
        "outputId": "9190896c-910d-426a-90c2-cf3085d8eeeb"
      },
      "source": [
        "#check for NAs\n",
        "train_DF.isna().sum().max()\n",
        "[print(col) for col in train_DF if train_DF[col].isna().sum() > 0]\n"
      ],
      "execution_count": null,
      "outputs": [
        {
          "output_type": "execute_result",
          "data": {
            "text/plain": [
              "[]"
            ]
          },
          "metadata": {},
          "execution_count": 10
        }
      ]
    },
    {
      "cell_type": "code",
      "metadata": {
        "colab": {
          "base_uri": "https://localhost:8080/"
        },
        "id": "AgcOpCHIDhPz",
        "outputId": "452dde87-552b-4be1-b4aa-4cef57e5b1b0"
      },
      "source": [
        "print(train_DF.shape)"
      ],
      "execution_count": null,
      "outputs": [
        {
          "output_type": "stream",
          "name": "stdout",
          "text": [
            "(10000, 65)\n"
          ]
        }
      ]
    },
    {
      "cell_type": "markdown",
      "metadata": {
        "id": "nc3VwMg2HVVV"
      },
      "source": [
        "# **Dropping the duplicates**"
      ]
    },
    {
      "cell_type": "code",
      "metadata": {
        "colab": {
          "base_uri": "https://localhost:8080/"
        },
        "id": "Eayvw_E4EEGU",
        "outputId": "bd54f3d3-71fd-4795-817e-c8b43a425ab5"
      },
      "source": [
        "newtrain_DF = train_DF.drop_duplicates()\n",
        "\n",
        "# newtrain_DF = train_DF.drop_duplicates().shape[0]\n",
        "# print(newtrain_DF)\n",
        "\n",
        "type(newtrain_DF)\n",
        "print(newtrain_DF.shape)"
      ],
      "execution_count": null,
      "outputs": [
        {
          "output_type": "stream",
          "name": "stdout",
          "text": [
            "(9944, 65)\n"
          ]
        }
      ]
    },
    {
      "cell_type": "code",
      "metadata": {
        "colab": {
          "base_uri": "https://localhost:8080/"
        },
        "id": "GIjsKud-NMUn",
        "outputId": "d33bc243-2ec9-4199-df7e-29d2927bdb74"
      },
      "source": [
        "newtrain_DF.isna().sum().max()\n",
        "[print(col) for col in newtrain_DF if newtrain_DF[col].isna().sum() > 0]\n"
      ],
      "execution_count": null,
      "outputs": [
        {
          "output_type": "execute_result",
          "data": {
            "text/plain": [
              "[]"
            ]
          },
          "metadata": {},
          "execution_count": 13
        }
      ]
    },
    {
      "cell_type": "markdown",
      "metadata": {
        "id": "cWjOkCTxw9I9"
      },
      "source": [
        "# **Multicollinearity-Check**\n",
        "\n",
        "Check if there is perfect correlation between any of the columns. If the correlation is more than 0.95 or less than -0.95 then we would remove one of the columns to avoid multicollinearity in the data-set"
      ]
    },
    {
      "cell_type": "code",
      "metadata": {
        "colab": {
          "base_uri": "https://localhost:8080/"
        },
        "id": "IOAXKi0NxCpW",
        "outputId": "164eb027-ee5c-422c-de50-b812dd8c791d"
      },
      "source": [
        "corr_mat = newtrain_DF.corr()\n",
        "corr_mat = corr_mat.iloc[1:,1:]\n",
        "\n",
        "drop_list = []\n",
        "for i in range(len(corr_mat.columns)):\n",
        "    for j in range(i):\n",
        "        if(corr_mat.iloc[i,j] >= 0.7 or corr_mat.iloc[i,j] <= -0.7):\n",
        "            if corr_mat.columns[j] not in drop_list:\n",
        "                drop_list.append(corr_mat.columns[j])\n",
        "  \n",
        "len(drop_list)"
      ],
      "execution_count": null,
      "outputs": [
        {
          "output_type": "execute_result",
          "data": {
            "text/plain": [
              "33"
            ]
          },
          "metadata": {},
          "execution_count": 14
        }
      ]
    },
    {
      "cell_type": "code",
      "metadata": {
        "colab": {
          "base_uri": "https://localhost:8080/"
        },
        "id": "4Fca60mCPsdJ",
        "outputId": "b32cb954-d7ac-43f9-9f59-dabea5c704ec"
      },
      "source": [
        "drop_list"
      ],
      "execution_count": null,
      "outputs": [
        {
          "output_type": "execute_result",
          "data": {
            "text/plain": [
              "['Attr2',\n",
              " 'Attr7',\n",
              " 'Attr4',\n",
              " 'Attr11',\n",
              " 'Attr8',\n",
              " 'Attr13',\n",
              " 'Attr14',\n",
              " 'Attr19',\n",
              " 'Attr10',\n",
              " 'Attr16',\n",
              " 'Attr23',\n",
              " 'Attr22',\n",
              " 'Attr31',\n",
              " 'Attr12',\n",
              " 'Attr39',\n",
              " 'Attr30',\n",
              " 'Attr43',\n",
              " 'Attr40',\n",
              " 'Attr32',\n",
              " 'Attr42',\n",
              " 'Attr17',\n",
              " 'Attr38',\n",
              " 'Attr47',\n",
              " 'Attr28',\n",
              " 'Attr53',\n",
              " 'Attr20',\n",
              " 'Attr56',\n",
              " 'Attr57',\n",
              " 'Attr45',\n",
              " 'Attr44',\n",
              " 'Attr33',\n",
              " 'Attr46',\n",
              " 'Attr54']"
            ]
          },
          "metadata": {},
          "execution_count": 15
        }
      ]
    },
    {
      "cell_type": "code",
      "metadata": {
        "colab": {
          "base_uri": "https://localhost:8080/"
        },
        "id": "yS7FsNRdxjXk",
        "outputId": "ff007150-20f1-43fe-c17c-ff73080716a0"
      },
      "source": [
        "Final_DF = newtrain_DF.drop(['Attr2',\n",
        " 'Attr7',\n",
        " 'Attr4',\n",
        " 'Attr11',\n",
        " 'Attr8',\n",
        " 'Attr13',\n",
        " 'Attr14',\n",
        " 'Attr19',\n",
        " 'Attr10',\n",
        " 'Attr16',\n",
        " 'Attr23',\n",
        " 'Attr22',\n",
        " 'Attr31',\n",
        " 'Attr12',\n",
        " 'Attr39',\n",
        " 'Attr30',\n",
        " 'Attr43',\n",
        " 'Attr40',\n",
        " 'Attr32',\n",
        " 'Attr42',\n",
        " 'Attr17',\n",
        " 'Attr38',\n",
        " 'Attr47',\n",
        " 'Attr28',\n",
        " 'Attr53',\n",
        " 'Attr20',\n",
        " 'Attr56',\n",
        " 'Attr57',\n",
        " 'Attr45',\n",
        " 'Attr44',\n",
        " 'Attr33',\n",
        " 'Attr46',\n",
        " 'Attr54'], axis =1)\n",
        "print(Final_DF.shape)\n",
        "\n",
        "## After Multi collinearity check we have some columns eliminated"
      ],
      "execution_count": null,
      "outputs": [
        {
          "output_type": "stream",
          "name": "stdout",
          "text": [
            "(9944, 32)\n"
          ]
        }
      ]
    },
    {
      "cell_type": "markdown",
      "metadata": {
        "id": "eoJn0SUCfUS_"
      },
      "source": [
        "# Data Description"
      ]
    },
    {
      "cell_type": "markdown",
      "metadata": {
        "id": "-JfrBz8fZmO5"
      },
      "source": [
        "Data Description - Interpreting Data Description The results show 8 numbers for each column in your original dataset. The first number, the count, shows how many rows have non-missing values.\n",
        "\n",
        "Missing values arise for many reasons. For example, the size of the 2nd bedroom wouldn't be collected when surveying a 1 bedroom house.\n",
        "\n",
        "The second value is the mean, which is the average. Under that, std is the standard deviation, which measures how numerically spread out the values are.\n",
        "\n",
        "To interpret the min, 25%, 50%, 75% and max values, imagine sorting each column from lowest to highest value. The first (smallest) value is the min. If you go a quarter way through the list, you'll find a number that is bigger than 25% of the values and smaller than 75% of the values. That is the 25% value (pronounced \"25th percentile\"). The 50th and 75th percentiles are defined analogously, and the max is the largest number.\n",
        "\n"
      ]
    },
    {
      "cell_type": "code",
      "metadata": {
        "colab": {
          "base_uri": "https://localhost:8080/",
          "height": 317
        },
        "id": "NL_9ugE9GToZ",
        "outputId": "42342daa-0a9c-4a43-dcab-b3a68daf86e5"
      },
      "source": [
        "Final_DF.describe()\n"
      ],
      "execution_count": null,
      "outputs": [
        {
          "output_type": "execute_result",
          "data": {
            "text/html": [
              "<div>\n",
              "<style scoped>\n",
              "    .dataframe tbody tr th:only-of-type {\n",
              "        vertical-align: middle;\n",
              "    }\n",
              "\n",
              "    .dataframe tbody tr th {\n",
              "        vertical-align: top;\n",
              "    }\n",
              "\n",
              "    .dataframe thead th {\n",
              "        text-align: right;\n",
              "    }\n",
              "</style>\n",
              "<table border=\"1\" class=\"dataframe\">\n",
              "  <thead>\n",
              "    <tr style=\"text-align: right;\">\n",
              "      <th></th>\n",
              "      <th>Attr1</th>\n",
              "      <th>Attr3</th>\n",
              "      <th>Attr5</th>\n",
              "      <th>Attr6</th>\n",
              "      <th>Attr9</th>\n",
              "      <th>Attr15</th>\n",
              "      <th>Attr18</th>\n",
              "      <th>Attr21</th>\n",
              "      <th>Attr24</th>\n",
              "      <th>Attr25</th>\n",
              "      <th>Attr26</th>\n",
              "      <th>Attr27</th>\n",
              "      <th>Attr29</th>\n",
              "      <th>Attr34</th>\n",
              "      <th>Attr35</th>\n",
              "      <th>Attr36</th>\n",
              "      <th>Attr37</th>\n",
              "      <th>Attr41</th>\n",
              "      <th>Attr48</th>\n",
              "      <th>Attr49</th>\n",
              "      <th>Attr50</th>\n",
              "      <th>Attr51</th>\n",
              "      <th>Attr52</th>\n",
              "      <th>Attr55</th>\n",
              "      <th>Attr58</th>\n",
              "      <th>Attr59</th>\n",
              "      <th>Attr60</th>\n",
              "      <th>Attr61</th>\n",
              "      <th>Attr62</th>\n",
              "      <th>Attr63</th>\n",
              "      <th>Attr64</th>\n",
              "      <th>class</th>\n",
              "    </tr>\n",
              "  </thead>\n",
              "  <tbody>\n",
              "    <tr>\n",
              "      <th>count</th>\n",
              "      <td>9944.000000</td>\n",
              "      <td>9944.000000</td>\n",
              "      <td>9944.000000</td>\n",
              "      <td>9944.000000</td>\n",
              "      <td>9944.000000</td>\n",
              "      <td>9944.000000</td>\n",
              "      <td>9944.000000</td>\n",
              "      <td>9944.000000</td>\n",
              "      <td>9944.000000</td>\n",
              "      <td>9944.000000</td>\n",
              "      <td>9944.000000</td>\n",
              "      <td>9944.000000</td>\n",
              "      <td>9944.000000</td>\n",
              "      <td>9944.000000</td>\n",
              "      <td>9944.000000</td>\n",
              "      <td>9944.000000</td>\n",
              "      <td>9944.000000</td>\n",
              "      <td>9944.000000</td>\n",
              "      <td>9944.000000</td>\n",
              "      <td>9944.000000</td>\n",
              "      <td>9944.000000</td>\n",
              "      <td>9944.000000</td>\n",
              "      <td>9944.000000</td>\n",
              "      <td>9944.000000</td>\n",
              "      <td>9944.000000</td>\n",
              "      <td>9944.000000</td>\n",
              "      <td>9944.000000</td>\n",
              "      <td>9944.000000</td>\n",
              "      <td>9944.000000</td>\n",
              "      <td>9944.000000</td>\n",
              "      <td>9944.000000</td>\n",
              "      <td>9944.000000</td>\n",
              "    </tr>\n",
              "    <tr>\n",
              "      <th>mean</th>\n",
              "      <td>-0.009037</td>\n",
              "      <td>0.011330</td>\n",
              "      <td>0.008764</td>\n",
              "      <td>-0.003803</td>\n",
              "      <td>-0.010195</td>\n",
              "      <td>-0.006605</td>\n",
              "      <td>0.005934</td>\n",
              "      <td>-0.002594</td>\n",
              "      <td>-0.001326</td>\n",
              "      <td>-0.005311</td>\n",
              "      <td>-0.010714</td>\n",
              "      <td>0.004433</td>\n",
              "      <td>-0.001791</td>\n",
              "      <td>-0.006689</td>\n",
              "      <td>-0.004583</td>\n",
              "      <td>-0.012988</td>\n",
              "      <td>-0.001545</td>\n",
              "      <td>0.007004</td>\n",
              "      <td>-0.003968</td>\n",
              "      <td>-0.007899</td>\n",
              "      <td>-0.004904</td>\n",
              "      <td>-0.013419</td>\n",
              "      <td>-0.007032</td>\n",
              "      <td>-0.009710</td>\n",
              "      <td>0.009960</td>\n",
              "      <td>0.014311</td>\n",
              "      <td>0.002085</td>\n",
              "      <td>-0.009270</td>\n",
              "      <td>0.009789</td>\n",
              "      <td>0.002075</td>\n",
              "      <td>0.000379</td>\n",
              "      <td>0.021420</td>\n",
              "    </tr>\n",
              "    <tr>\n",
              "      <th>std</th>\n",
              "      <td>0.215385</td>\n",
              "      <td>0.967817</td>\n",
              "      <td>0.143798</td>\n",
              "      <td>0.620898</td>\n",
              "      <td>1.008270</td>\n",
              "      <td>0.889233</td>\n",
              "      <td>0.149401</td>\n",
              "      <td>0.599676</td>\n",
              "      <td>1.309457</td>\n",
              "      <td>0.368908</td>\n",
              "      <td>0.965267</td>\n",
              "      <td>1.340610</td>\n",
              "      <td>0.996418</td>\n",
              "      <td>1.045613</td>\n",
              "      <td>0.791766</td>\n",
              "      <td>0.909600</td>\n",
              "      <td>0.599592</td>\n",
              "      <td>1.416756</td>\n",
              "      <td>0.756477</td>\n",
              "      <td>1.154655</td>\n",
              "      <td>0.951010</td>\n",
              "      <td>0.924906</td>\n",
              "      <td>0.336425</td>\n",
              "      <td>1.028440</td>\n",
              "      <td>1.416836</td>\n",
              "      <td>1.409586</td>\n",
              "      <td>1.255438</td>\n",
              "      <td>1.059451</td>\n",
              "      <td>1.414896</td>\n",
              "      <td>1.163934</td>\n",
              "      <td>0.993708</td>\n",
              "      <td>0.144787</td>\n",
              "    </tr>\n",
              "    <tr>\n",
              "      <th>min</th>\n",
              "      <td>-5.317200</td>\n",
              "      <td>-12.170600</td>\n",
              "      <td>-1.111400</td>\n",
              "      <td>-22.442600</td>\n",
              "      <td>-1.296400</td>\n",
              "      <td>-64.255900</td>\n",
              "      <td>-0.395800</td>\n",
              "      <td>-0.020100</td>\n",
              "      <td>-89.689400</td>\n",
              "      <td>-8.422100</td>\n",
              "      <td>-7.834400</td>\n",
              "      <td>-1.090700</td>\n",
              "      <td>-7.035400</td>\n",
              "      <td>-2.415500</td>\n",
              "      <td>-11.345400</td>\n",
              "      <td>-1.497700</td>\n",
              "      <td>-0.035800</td>\n",
              "      <td>-0.366500</td>\n",
              "      <td>-15.537200</td>\n",
              "      <td>-86.866500</td>\n",
              "      <td>-0.976300</td>\n",
              "      <td>-1.565000</td>\n",
              "      <td>-0.031800</td>\n",
              "      <td>-19.008000</td>\n",
              "      <td>-0.024200</td>\n",
              "      <td>-4.816200</td>\n",
              "      <td>-0.048600</td>\n",
              "      <td>-0.413100</td>\n",
              "      <td>-0.022200</td>\n",
              "      <td>-0.743300</td>\n",
              "      <td>-0.051000</td>\n",
              "      <td>0.000000</td>\n",
              "    </tr>\n",
              "    <tr>\n",
              "      <th>25%</th>\n",
              "      <td>-0.079600</td>\n",
              "      <td>-0.516300</td>\n",
              "      <td>0.006800</td>\n",
              "      <td>-0.016000</td>\n",
              "      <td>-0.389300</td>\n",
              "      <td>-0.020200</td>\n",
              "      <td>-0.010000</td>\n",
              "      <td>-0.016200</td>\n",
              "      <td>-0.040000</td>\n",
              "      <td>-0.171175</td>\n",
              "      <td>-0.412500</td>\n",
              "      <td>-0.010000</td>\n",
              "      <td>-0.639250</td>\n",
              "      <td>-0.618225</td>\n",
              "      <td>-0.363425</td>\n",
              "      <td>-0.593725</td>\n",
              "      <td>-0.034400</td>\n",
              "      <td>-0.007400</td>\n",
              "      <td>-0.224700</td>\n",
              "      <td>0.006100</td>\n",
              "      <td>-0.476100</td>\n",
              "      <td>-0.670175</td>\n",
              "      <td>-0.023600</td>\n",
              "      <td>-0.127200</td>\n",
              "      <td>-0.010800</td>\n",
              "      <td>-0.022700</td>\n",
              "      <td>-0.043400</td>\n",
              "      <td>-0.223300</td>\n",
              "      <td>-0.016800</td>\n",
              "      <td>-0.370150</td>\n",
              "      <td>-0.041500</td>\n",
              "      <td>0.000000</td>\n",
              "    </tr>\n",
              "    <tr>\n",
              "      <th>50%</th>\n",
              "      <td>-0.021200</td>\n",
              "      <td>0.005600</td>\n",
              "      <td>0.007300</td>\n",
              "      <td>-0.016000</td>\n",
              "      <td>-0.310550</td>\n",
              "      <td>-0.011500</td>\n",
              "      <td>0.001700</td>\n",
              "      <td>-0.015700</td>\n",
              "      <td>-0.005600</td>\n",
              "      <td>0.026650</td>\n",
              "      <td>-0.236050</td>\n",
              "      <td>-0.009900</td>\n",
              "      <td>-0.042000</td>\n",
              "      <td>-0.314350</td>\n",
              "      <td>-0.081450</td>\n",
              "      <td>-0.204700</td>\n",
              "      <td>-0.033800</td>\n",
              "      <td>-0.007400</td>\n",
              "      <td>-0.001050</td>\n",
              "      <td>0.024700</td>\n",
              "      <td>-0.229500</td>\n",
              "      <td>-0.160650</td>\n",
              "      <td>-0.019100</td>\n",
              "      <td>-0.101300</td>\n",
              "      <td>-0.009900</td>\n",
              "      <td>-0.020400</td>\n",
              "      <td>-0.040000</td>\n",
              "      <td>-0.141000</td>\n",
              "      <td>-0.013700</td>\n",
              "      <td>-0.186950</td>\n",
              "      <td>-0.034400</td>\n",
              "      <td>0.000000</td>\n",
              "    </tr>\n",
              "    <tr>\n",
              "      <th>75%</th>\n",
              "      <td>0.076325</td>\n",
              "      <td>0.602500</td>\n",
              "      <td>0.007800</td>\n",
              "      <td>0.015825</td>\n",
              "      <td>0.132850</td>\n",
              "      <td>0.005500</td>\n",
              "      <td>0.021000</td>\n",
              "      <td>-0.015100</td>\n",
              "      <td>0.043300</td>\n",
              "      <td>0.215825</td>\n",
              "      <td>0.099150</td>\n",
              "      <td>-0.009900</td>\n",
              "      <td>0.603425</td>\n",
              "      <td>0.288025</td>\n",
              "      <td>0.336225</td>\n",
              "      <td>0.331300</td>\n",
              "      <td>-0.031100</td>\n",
              "      <td>-0.007300</td>\n",
              "      <td>0.289650</td>\n",
              "      <td>0.047100</td>\n",
              "      <td>0.138400</td>\n",
              "      <td>0.483675</td>\n",
              "      <td>-0.012600</td>\n",
              "      <td>-0.020875</td>\n",
              "      <td>-0.009400</td>\n",
              "      <td>-0.014300</td>\n",
              "      <td>-0.032100</td>\n",
              "      <td>-0.008050</td>\n",
              "      <td>-0.009500</td>\n",
              "      <td>0.119825</td>\n",
              "      <td>-0.021000</td>\n",
              "      <td>0.000000</td>\n",
              "    </tr>\n",
              "    <tr>\n",
              "      <th>max</th>\n",
              "      <td>2.337300</td>\n",
              "      <td>3.332500</td>\n",
              "      <td>11.556200</td>\n",
              "      <td>54.566700</td>\n",
              "      <td>62.936400</td>\n",
              "      <td>34.847100</td>\n",
              "      <td>14.409500</td>\n",
              "      <td>39.113500</td>\n",
              "      <td>87.817000</td>\n",
              "      <td>0.666600</td>\n",
              "      <td>23.238100</td>\n",
              "      <td>133.595200</td>\n",
              "      <td>4.638200</td>\n",
              "      <td>29.360100</td>\n",
              "      <td>8.318300</td>\n",
              "      <td>9.078800</td>\n",
              "      <td>36.464800</td>\n",
              "      <td>141.269000</td>\n",
              "      <td>6.655200</td>\n",
              "      <td>1.330000</td>\n",
              "      <td>21.293200</td>\n",
              "      <td>11.640300</td>\n",
              "      <td>21.992900</td>\n",
              "      <td>74.119500</td>\n",
              "      <td>117.517700</td>\n",
              "      <td>128.352800</td>\n",
              "      <td>117.341100</td>\n",
              "      <td>59.139200</td>\n",
              "      <td>136.430900</td>\n",
              "      <td>62.527200</td>\n",
              "      <td>90.774700</td>\n",
              "      <td>1.000000</td>\n",
              "    </tr>\n",
              "  </tbody>\n",
              "</table>\n",
              "</div>"
            ],
            "text/plain": [
              "             Attr1        Attr3  ...       Attr64        class\n",
              "count  9944.000000  9944.000000  ...  9944.000000  9944.000000\n",
              "mean     -0.009037     0.011330  ...     0.000379     0.021420\n",
              "std       0.215385     0.967817  ...     0.993708     0.144787\n",
              "min      -5.317200   -12.170600  ...    -0.051000     0.000000\n",
              "25%      -0.079600    -0.516300  ...    -0.041500     0.000000\n",
              "50%      -0.021200     0.005600  ...    -0.034400     0.000000\n",
              "75%       0.076325     0.602500  ...    -0.021000     0.000000\n",
              "max       2.337300     3.332500  ...    90.774700     1.000000\n",
              "\n",
              "[8 rows x 32 columns]"
            ]
          },
          "metadata": {},
          "execution_count": 17
        }
      ]
    },
    {
      "cell_type": "markdown",
      "metadata": {
        "id": "FkbFxhTYx7nM"
      },
      "source": [
        "***Due to Multicolinearity, 19 columns have been dropped from the training dataset***\n",
        "\n"
      ]
    },
    {
      "cell_type": "code",
      "metadata": {
        "colab": {
          "base_uri": "https://localhost:8080/"
        },
        "id": "voHSlvcqc1M3",
        "outputId": "4d1c59c3-0dd3-493f-de3b-7ed8c91b0a8e"
      },
      "source": [
        "print(Final_DF.shape)\n",
        "(Final_DF.columns)"
      ],
      "execution_count": null,
      "outputs": [
        {
          "output_type": "stream",
          "name": "stdout",
          "text": [
            "(9944, 32)\n"
          ]
        },
        {
          "output_type": "execute_result",
          "data": {
            "text/plain": [
              "Index(['Attr1', 'Attr3', 'Attr5', 'Attr6', 'Attr9', 'Attr15', 'Attr18',\n",
              "       'Attr21', 'Attr24', 'Attr25', 'Attr26', 'Attr27', 'Attr29', 'Attr34',\n",
              "       'Attr35', 'Attr36', 'Attr37', 'Attr41', 'Attr48', 'Attr49', 'Attr50',\n",
              "       'Attr51', 'Attr52', 'Attr55', 'Attr58', 'Attr59', 'Attr60', 'Attr61',\n",
              "       'Attr62', 'Attr63', 'Attr64', 'class'],\n",
              "      dtype='object')"
            ]
          },
          "metadata": {},
          "execution_count": 18
        }
      ]
    },
    {
      "cell_type": "markdown",
      "metadata": {
        "id": "cFkSVplamPOJ"
      },
      "source": [
        "# **Histograms - to check the distribution of data**"
      ]
    },
    {
      "cell_type": "code",
      "metadata": {
        "colab": {
          "base_uri": "https://localhost:8080/",
          "height": 1000
        },
        "id": "x4tng3C9ldBn",
        "outputId": "d2e99dd5-c07b-4829-9d3b-7a916bf59855"
      },
      "source": [
        "Final_DF1 = Final_DF.drop(\"class\", axis=1)\n",
        "Final_DF1.hist(bins = 50, figsize= (20,20))\n",
        "plt.show()"
      ],
      "execution_count": null,
      "outputs": [
        {
          "output_type": "display_data",
          "data": {
            "image/png": "[encoded data removed]",
            "text/plain": [
              "<Figure size 1440x1440 with 36 Axes>"
            ]
          },
          "metadata": {
            "needs_background": "light"
          }
        }
      ]
    },
    {
      "cell_type": "markdown",
      "metadata": {
        "id": "4jKAB8uvwMls"
      },
      "source": [
        "#  EDA & VISUALIZATIONS"
      ]
    },
    {
      "cell_type": "code",
      "metadata": {
        "colab": {
          "base_uri": "https://localhost:8080/",
          "height": 931
        },
        "id": "6OtJCwnRwJ_r",
        "outputId": "f1feef79-8f52-427e-8ce2-d2fc66a48d0c"
      },
      "source": [
        "# Correlation Heatmap (Spearman)\n",
        "\n",
        "f, ax = plt.subplots(figsize=(30, 25))\n",
        "mat = Final_DF.corr('spearman')\n",
        "mask = np.triu(np.ones_like(mat, dtype=bool))\n",
        "cmap = sns.diverging_palette(230, 20, as_cmap=True)\n",
        "sns.heatmap(mat, mask=mask, cmap=cmap, vmax=1, center=0,# annot = True,\n",
        "            square=True, linewidths=.5, cbar_kws={\"shrink\": .5})\n",
        "plt.show()"
      ],
      "execution_count": null,
      "outputs": [
        {
          "output_type": "display_data",
          "data": {
            "image/png": "[encoded data removed]",
            "text/plain": [
              "<Figure size 2160x1800 with 2 Axes>"
            ]
          },
          "metadata": {
            "needs_background": "light"
          }
        }
      ]
    },
    {
      "cell_type": "markdown",
      "metadata": {
        "id": "TlT6BYONgFxN"
      },
      "source": [
        "# Getting the Training & Test Datasets with 80% training data"
      ]
    },
    {
      "cell_type": "code",
      "metadata": {
        "colab": {
          "base_uri": "https://localhost:8080/"
        },
        "id": "s-urpDqBSX4g",
        "outputId": "46abe843-bf3f-4bf4-f24c-a4c3f487bd01"
      },
      "source": [
        "print(Final_DF.shape)"
      ],
      "execution_count": null,
      "outputs": [
        {
          "output_type": "stream",
          "name": "stdout",
          "text": [
            "(9944, 32)\n"
          ]
        }
      ]
    },
    {
      "cell_type": "code",
      "metadata": {
        "colab": {
          "base_uri": "https://localhost:8080/",
          "height": 317
        },
        "id": "H6v5mxIrgQrc",
        "outputId": "b53caf85-f820-493d-e5a9-2d4c52aeeb02"
      },
      "source": [
        "Final_DF.describe()"
      ],
      "execution_count": null,
      "outputs": [
        {
          "output_type": "execute_result",
          "data": {
            "text/html": [
              "<div>\n",
              "<style scoped>\n",
              "    .dataframe tbody tr th:only-of-type {\n",
              "        vertical-align: middle;\n",
              "    }\n",
              "\n",
              "    .dataframe tbody tr th {\n",
              "        vertical-align: top;\n",
              "    }\n",
              "\n",
              "    .dataframe thead th {\n",
              "        text-align: right;\n",
              "    }\n",
              "</style>\n",
              "<table border=\"1\" class=\"dataframe\">\n",
              "  <thead>\n",
              "    <tr style=\"text-align: right;\">\n",
              "      <th></th>\n",
              "      <th>Attr1</th>\n",
              "      <th>Attr3</th>\n",
              "      <th>Attr5</th>\n",
              "      <th>Attr6</th>\n",
              "      <th>Attr9</th>\n",
              "      <th>Attr15</th>\n",
              "      <th>Attr18</th>\n",
              "      <th>Attr21</th>\n",
              "      <th>Attr24</th>\n",
              "      <th>Attr25</th>\n",
              "      <th>Attr26</th>\n",
              "      <th>Attr27</th>\n",
              "      <th>Attr29</th>\n",
              "      <th>Attr34</th>\n",
              "      <th>Attr35</th>\n",
              "      <th>Attr36</th>\n",
              "      <th>Attr37</th>\n",
              "      <th>Attr41</th>\n",
              "      <th>Attr48</th>\n",
              "      <th>Attr49</th>\n",
              "      <th>Attr50</th>\n",
              "      <th>Attr51</th>\n",
              "      <th>Attr52</th>\n",
              "      <th>Attr55</th>\n",
              "      <th>Attr58</th>\n",
              "      <th>Attr59</th>\n",
              "      <th>Attr60</th>\n",
              "      <th>Attr61</th>\n",
              "      <th>Attr62</th>\n",
              "      <th>Attr63</th>\n",
              "      <th>Attr64</th>\n",
              "      <th>class</th>\n",
              "    </tr>\n",
              "  </thead>\n",
              "  <tbody>\n",
              "    <tr>\n",
              "      <th>count</th>\n",
              "      <td>9944.000000</td>\n",
              "      <td>9944.000000</td>\n",
              "      <td>9944.000000</td>\n",
              "      <td>9944.000000</td>\n",
              "      <td>9944.000000</td>\n",
              "      <td>9944.000000</td>\n",
              "      <td>9944.000000</td>\n",
              "      <td>9944.000000</td>\n",
              "      <td>9944.000000</td>\n",
              "      <td>9944.000000</td>\n",
              "      <td>9944.000000</td>\n",
              "      <td>9944.000000</td>\n",
              "      <td>9944.000000</td>\n",
              "      <td>9944.000000</td>\n",
              "      <td>9944.000000</td>\n",
              "      <td>9944.000000</td>\n",
              "      <td>9944.000000</td>\n",
              "      <td>9944.000000</td>\n",
              "      <td>9944.000000</td>\n",
              "      <td>9944.000000</td>\n",
              "      <td>9944.000000</td>\n",
              "      <td>9944.000000</td>\n",
              "      <td>9944.000000</td>\n",
              "      <td>9944.000000</td>\n",
              "      <td>9944.000000</td>\n",
              "      <td>9944.000000</td>\n",
              "      <td>9944.000000</td>\n",
              "      <td>9944.000000</td>\n",
              "      <td>9944.000000</td>\n",
              "      <td>9944.000000</td>\n",
              "      <td>9944.000000</td>\n",
              "      <td>9944.000000</td>\n",
              "    </tr>\n",
              "    <tr>\n",
              "      <th>mean</th>\n",
              "      <td>-0.009037</td>\n",
              "      <td>0.011330</td>\n",
              "      <td>0.008764</td>\n",
              "      <td>-0.003803</td>\n",
              "      <td>-0.010195</td>\n",
              "      <td>-0.006605</td>\n",
              "      <td>0.005934</td>\n",
              "      <td>-0.002594</td>\n",
              "      <td>-0.001326</td>\n",
              "      <td>-0.005311</td>\n",
              "      <td>-0.010714</td>\n",
              "      <td>0.004433</td>\n",
              "      <td>-0.001791</td>\n",
              "      <td>-0.006689</td>\n",
              "      <td>-0.004583</td>\n",
              "      <td>-0.012988</td>\n",
              "      <td>-0.001545</td>\n",
              "      <td>0.007004</td>\n",
              "      <td>-0.003968</td>\n",
              "      <td>-0.007899</td>\n",
              "      <td>-0.004904</td>\n",
              "      <td>-0.013419</td>\n",
              "      <td>-0.007032</td>\n",
              "      <td>-0.009710</td>\n",
              "      <td>0.009960</td>\n",
              "      <td>0.014311</td>\n",
              "      <td>0.002085</td>\n",
              "      <td>-0.009270</td>\n",
              "      <td>0.009789</td>\n",
              "      <td>0.002075</td>\n",
              "      <td>0.000379</td>\n",
              "      <td>0.021420</td>\n",
              "    </tr>\n",
              "    <tr>\n",
              "      <th>std</th>\n",
              "      <td>0.215385</td>\n",
              "      <td>0.967817</td>\n",
              "      <td>0.143798</td>\n",
              "      <td>0.620898</td>\n",
              "      <td>1.008270</td>\n",
              "      <td>0.889233</td>\n",
              "      <td>0.149401</td>\n",
              "      <td>0.599676</td>\n",
              "      <td>1.309457</td>\n",
              "      <td>0.368908</td>\n",
              "      <td>0.965267</td>\n",
              "      <td>1.340610</td>\n",
              "      <td>0.996418</td>\n",
              "      <td>1.045613</td>\n",
              "      <td>0.791766</td>\n",
              "      <td>0.909600</td>\n",
              "      <td>0.599592</td>\n",
              "      <td>1.416756</td>\n",
              "      <td>0.756477</td>\n",
              "      <td>1.154655</td>\n",
              "      <td>0.951010</td>\n",
              "      <td>0.924906</td>\n",
              "      <td>0.336425</td>\n",
              "      <td>1.028440</td>\n",
              "      <td>1.416836</td>\n",
              "      <td>1.409586</td>\n",
              "      <td>1.255438</td>\n",
              "      <td>1.059451</td>\n",
              "      <td>1.414896</td>\n",
              "      <td>1.163934</td>\n",
              "      <td>0.993708</td>\n",
              "      <td>0.144787</td>\n",
              "    </tr>\n",
              "    <tr>\n",
              "      <th>min</th>\n",
              "      <td>-5.317200</td>\n",
              "      <td>-12.170600</td>\n",
              "      <td>-1.111400</td>\n",
              "      <td>-22.442600</td>\n",
              "      <td>-1.296400</td>\n",
              "      <td>-64.255900</td>\n",
              "      <td>-0.395800</td>\n",
              "      <td>-0.020100</td>\n",
              "      <td>-89.689400</td>\n",
              "      <td>-8.422100</td>\n",
              "      <td>-7.834400</td>\n",
              "      <td>-1.090700</td>\n",
              "      <td>-7.035400</td>\n",
              "      <td>-2.415500</td>\n",
              "      <td>-11.345400</td>\n",
              "      <td>-1.497700</td>\n",
              "      <td>-0.035800</td>\n",
              "      <td>-0.366500</td>\n",
              "      <td>-15.537200</td>\n",
              "      <td>-86.866500</td>\n",
              "      <td>-0.976300</td>\n",
              "      <td>-1.565000</td>\n",
              "      <td>-0.031800</td>\n",
              "      <td>-19.008000</td>\n",
              "      <td>-0.024200</td>\n",
              "      <td>-4.816200</td>\n",
              "      <td>-0.048600</td>\n",
              "      <td>-0.413100</td>\n",
              "      <td>-0.022200</td>\n",
              "      <td>-0.743300</td>\n",
              "      <td>-0.051000</td>\n",
              "      <td>0.000000</td>\n",
              "    </tr>\n",
              "    <tr>\n",
              "      <th>25%</th>\n",
              "      <td>-0.079600</td>\n",
              "      <td>-0.516300</td>\n",
              "      <td>0.006800</td>\n",
              "      <td>-0.016000</td>\n",
              "      <td>-0.389300</td>\n",
              "      <td>-0.020200</td>\n",
              "      <td>-0.010000</td>\n",
              "      <td>-0.016200</td>\n",
              "      <td>-0.040000</td>\n",
              "      <td>-0.171175</td>\n",
              "      <td>-0.412500</td>\n",
              "      <td>-0.010000</td>\n",
              "      <td>-0.639250</td>\n",
              "      <td>-0.618225</td>\n",
              "      <td>-0.363425</td>\n",
              "      <td>-0.593725</td>\n",
              "      <td>-0.034400</td>\n",
              "      <td>-0.007400</td>\n",
              "      <td>-0.224700</td>\n",
              "      <td>0.006100</td>\n",
              "      <td>-0.476100</td>\n",
              "      <td>-0.670175</td>\n",
              "      <td>-0.023600</td>\n",
              "      <td>-0.127200</td>\n",
              "      <td>-0.010800</td>\n",
              "      <td>-0.022700</td>\n",
              "      <td>-0.043400</td>\n",
              "      <td>-0.223300</td>\n",
              "      <td>-0.016800</td>\n",
              "      <td>-0.370150</td>\n",
              "      <td>-0.041500</td>\n",
              "      <td>0.000000</td>\n",
              "    </tr>\n",
              "    <tr>\n",
              "      <th>50%</th>\n",
              "      <td>-0.021200</td>\n",
              "      <td>0.005600</td>\n",
              "      <td>0.007300</td>\n",
              "      <td>-0.016000</td>\n",
              "      <td>-0.310550</td>\n",
              "      <td>-0.011500</td>\n",
              "      <td>0.001700</td>\n",
              "      <td>-0.015700</td>\n",
              "      <td>-0.005600</td>\n",
              "      <td>0.026650</td>\n",
              "      <td>-0.236050</td>\n",
              "      <td>-0.009900</td>\n",
              "      <td>-0.042000</td>\n",
              "      <td>-0.314350</td>\n",
              "      <td>-0.081450</td>\n",
              "      <td>-0.204700</td>\n",
              "      <td>-0.033800</td>\n",
              "      <td>-0.007400</td>\n",
              "      <td>-0.001050</td>\n",
              "      <td>0.024700</td>\n",
              "      <td>-0.229500</td>\n",
              "      <td>-0.160650</td>\n",
              "      <td>-0.019100</td>\n",
              "      <td>-0.101300</td>\n",
              "      <td>-0.009900</td>\n",
              "      <td>-0.020400</td>\n",
              "      <td>-0.040000</td>\n",
              "      <td>-0.141000</td>\n",
              "      <td>-0.013700</td>\n",
              "      <td>-0.186950</td>\n",
              "      <td>-0.034400</td>\n",
              "      <td>0.000000</td>\n",
              "    </tr>\n",
              "    <tr>\n",
              "      <th>75%</th>\n",
              "      <td>0.076325</td>\n",
              "      <td>0.602500</td>\n",
              "      <td>0.007800</td>\n",
              "      <td>0.015825</td>\n",
              "      <td>0.132850</td>\n",
              "      <td>0.005500</td>\n",
              "      <td>0.021000</td>\n",
              "      <td>-0.015100</td>\n",
              "      <td>0.043300</td>\n",
              "      <td>0.215825</td>\n",
              "      <td>0.099150</td>\n",
              "      <td>-0.009900</td>\n",
              "      <td>0.603425</td>\n",
              "      <td>0.288025</td>\n",
              "      <td>0.336225</td>\n",
              "      <td>0.331300</td>\n",
              "      <td>-0.031100</td>\n",
              "      <td>-0.007300</td>\n",
              "      <td>0.289650</td>\n",
              "      <td>0.047100</td>\n",
              "      <td>0.138400</td>\n",
              "      <td>0.483675</td>\n",
              "      <td>-0.012600</td>\n",
              "      <td>-0.020875</td>\n",
              "      <td>-0.009400</td>\n",
              "      <td>-0.014300</td>\n",
              "      <td>-0.032100</td>\n",
              "      <td>-0.008050</td>\n",
              "      <td>-0.009500</td>\n",
              "      <td>0.119825</td>\n",
              "      <td>-0.021000</td>\n",
              "      <td>0.000000</td>\n",
              "    </tr>\n",
              "    <tr>\n",
              "      <th>max</th>\n",
              "      <td>2.337300</td>\n",
              "      <td>3.332500</td>\n",
              "      <td>11.556200</td>\n",
              "      <td>54.566700</td>\n",
              "      <td>62.936400</td>\n",
              "      <td>34.847100</td>\n",
              "      <td>14.409500</td>\n",
              "      <td>39.113500</td>\n",
              "      <td>87.817000</td>\n",
              "      <td>0.666600</td>\n",
              "      <td>23.238100</td>\n",
              "      <td>133.595200</td>\n",
              "      <td>4.638200</td>\n",
              "      <td>29.360100</td>\n",
              "      <td>8.318300</td>\n",
              "      <td>9.078800</td>\n",
              "      <td>36.464800</td>\n",
              "      <td>141.269000</td>\n",
              "      <td>6.655200</td>\n",
              "      <td>1.330000</td>\n",
              "      <td>21.293200</td>\n",
              "      <td>11.640300</td>\n",
              "      <td>21.992900</td>\n",
              "      <td>74.119500</td>\n",
              "      <td>117.517700</td>\n",
              "      <td>128.352800</td>\n",
              "      <td>117.341100</td>\n",
              "      <td>59.139200</td>\n",
              "      <td>136.430900</td>\n",
              "      <td>62.527200</td>\n",
              "      <td>90.774700</td>\n",
              "      <td>1.000000</td>\n",
              "    </tr>\n",
              "  </tbody>\n",
              "</table>\n",
              "</div>"
            ],
            "text/plain": [
              "             Attr1        Attr3  ...       Attr64        class\n",
              "count  9944.000000  9944.000000  ...  9944.000000  9944.000000\n",
              "mean     -0.009037     0.011330  ...     0.000379     0.021420\n",
              "std       0.215385     0.967817  ...     0.993708     0.144787\n",
              "min      -5.317200   -12.170600  ...    -0.051000     0.000000\n",
              "25%      -0.079600    -0.516300  ...    -0.041500     0.000000\n",
              "50%      -0.021200     0.005600  ...    -0.034400     0.000000\n",
              "75%       0.076325     0.602500  ...    -0.021000     0.000000\n",
              "max       2.337300     3.332500  ...    90.774700     1.000000\n",
              "\n",
              "[8 rows x 32 columns]"
            ]
          },
          "metadata": {},
          "execution_count": 23
        }
      ]
    },
    {
      "cell_type": "code",
      "metadata": {
        "id": "D-dpoH7MTYKB"
      },
      "source": [
        "# Data split\n",
        "X=Final_DF.drop(labels=['class'], axis=1)\n",
        "y=Final_DF['class']\n"
      ],
      "execution_count": null,
      "outputs": []
    },
    {
      "cell_type": "code",
      "metadata": {
        "colab": {
          "base_uri": "https://localhost:8080/"
        },
        "id": "7nzSaSvISpXW",
        "outputId": "316971dc-7129-4f24-80ec-e81de59df170"
      },
      "source": [
        "X_train, X_test, y_train, y_test = train_test_split(X,y,test_size=0.2, random_state=0,stratify = y)\n",
        "\n",
        "print(\"Shape of X Training data\", X_train.shape)\n",
        "print(\"Shape of y Training data\" ,y_train.shape)\n",
        "\n",
        "print(\"Shape of X Test data\", X_test.shape)\n",
        "print(\"Shape of y Test data\" ,y_test.shape)\n",
        "\n",
        "print(y_train)\n",
        "print(y_test)"
      ],
      "execution_count": null,
      "outputs": [
        {
          "output_type": "stream",
          "name": "stdout",
          "text": [
            "Shape of X Training data (7955, 31)\n",
            "Shape of y Training data (7955,)\n",
            "Shape of X Test data (1989, 31)\n",
            "Shape of y Test data (1989,)\n",
            "8540    0\n",
            "3829    0\n",
            "2168    0\n",
            "963     0\n",
            "7450    0\n",
            "       ..\n",
            "7129    0\n",
            "2323    0\n",
            "4676    0\n",
            "739     0\n",
            "3514    0\n",
            "Name: class, Length: 7955, dtype: int64\n",
            "1650    0\n",
            "7741    0\n",
            "2718    0\n",
            "3287    0\n",
            "4427    0\n",
            "       ..\n",
            "2917    0\n",
            "3257    0\n",
            "3976    0\n",
            "3023    0\n",
            "759     0\n",
            "Name: class, Length: 1989, dtype: int64\n"
          ]
        }
      ]
    },
    {
      "cell_type": "markdown",
      "metadata": {
        "id": "niNay-QLHobW"
      },
      "source": [
        "# Balancing the labels - for training data"
      ]
    },
    {
      "cell_type": "markdown",
      "metadata": {
        "id": "givUzhMRgJ0P"
      },
      "source": [
        "*The data is highly imbalanced and we will have to balance the data*"
      ]
    },
    {
      "cell_type": "code",
      "metadata": {
        "colab": {
          "base_uri": "https://localhost:8080/"
        },
        "id": "7t2ernc1V_k2",
        "outputId": "f9a17165-a838-4698-95a4-dbc74d3a941c"
      },
      "source": [
        "# print(X_train)\n",
        "# print(y_train)\n",
        "\n",
        "X_train.isna().sum().max()\n",
        "[print(col) for col in X_train if X_train[col].isna().sum() > 0]\n"
      ],
      "execution_count": null,
      "outputs": [
        {
          "output_type": "execute_result",
          "data": {
            "text/plain": [
              "[]"
            ]
          },
          "metadata": {},
          "execution_count": 26
        }
      ]
    },
    {
      "cell_type": "code",
      "metadata": {
        "colab": {
          "base_uri": "https://localhost:8080/"
        },
        "id": "lTCSKkeSiffw",
        "outputId": "e3a3a5b4-7017-43dc-d37b-ab3bb8f264ee"
      },
      "source": [
        "smote = SMOTE(sampling_strategy='minority')\n",
        "X_sm, y_sm = smote.fit_resample(X_train,y_train)\n",
        "\n",
        "print(X_sm.shape)\n",
        "print(y_sm.shape)"
      ],
      "execution_count": null,
      "outputs": [
        {
          "output_type": "stream",
          "name": "stdout",
          "text": [
            "(15570, 31)\n",
            "(15570,)\n"
          ]
        }
      ]
    },
    {
      "cell_type": "code",
      "metadata": {
        "colab": {
          "base_uri": "https://localhost:8080/",
          "height": 351
        },
        "id": "1FlTCFQUernB",
        "outputId": "2ce29b1a-d75b-4c51-952c-ea3be91868f4"
      },
      "source": [
        "## convert the numpy arry into dataframe\n",
        "train_balanced_DF_X = pd.DataFrame(X_sm,columns = ['Attr1', 'Attr3', 'Attr5', 'Attr6', 'Attr9', 'Attr15', 'Attr18',\n",
        "       'Attr21', 'Attr24', 'Attr25', 'Attr26', 'Attr27', 'Attr29', 'Attr34',\n",
        "       'Attr35', 'Attr36', 'Attr37', 'Attr41', 'Attr48', 'Attr49', 'Attr50',\n",
        "       'Attr51', 'Attr52', 'Attr55', 'Attr58', 'Attr59', 'Attr60', 'Attr61',\n",
        "       'Attr62', 'Attr63', 'Attr64'])\n",
        "train_balanced_DF_Y = pd.DataFrame(y_sm,columns=[\"class\"])\n",
        "\n",
        "print(\"Shape of Y after balancing\", train_balanced_DF_X.shape)\n",
        "print(\"Shape of Y after balancing\" ,train_balanced_DF_Y.shape)\n",
        "\n",
        "#print(train_balanced_DF_Y)\n",
        "\n",
        "sns.countplot('class',data=train_balanced_DF_Y)\n",
        "plt.xlabel('Class', fontsize=12)\n",
        "plt.ylabel('Count', fontsize=12)\n",
        "plt.title(\"Balanced Train Dataset\", fontsize=15)"
      ],
      "execution_count": null,
      "outputs": [
        {
          "output_type": "stream",
          "name": "stdout",
          "text": [
            "Shape of Y after balancing (15570, 31)\n",
            "Shape of Y after balancing (15570, 1)\n"
          ]
        },
        {
          "output_type": "execute_result",
          "data": {
            "text/plain": [
              "Text(0.5, 1.0, 'Balanced Train Dataset')"
            ]
          },
          "metadata": {},
          "execution_count": 28
        },
        {
          "output_type": "display_data",
          "data": {
            "image/png": "[encoded data removed]",
            "text/plain": [
              "<Figure size 432x288 with 1 Axes>"
            ]
          },
          "metadata": {
            "needs_background": "light"
          }
        }
      ]
    },
    {
      "cell_type": "markdown",
      "metadata": {
        "id": "ZVStPn6Jo5q-"
      },
      "source": [
        "**Data Normazlization for better model**"
      ]
    },
    {
      "cell_type": "code",
      "metadata": {
        "id": "hOKWvqfddpwf"
      },
      "source": [
        "#Data Normalization\n",
        "scaler = StandardScaler()\n",
        "X_train = scaler.fit_transform(train_balanced_DF_X)\n",
        "X_test = scaler.transform(X_test)"
      ],
      "execution_count": null,
      "outputs": []
    },
    {
      "cell_type": "markdown",
      "metadata": {
        "id": "vnTkyK0UcjnT"
      },
      "source": [
        "Now we have the training data as X_train"
      ]
    },
    {
      "cell_type": "markdown",
      "metadata": {
        "id": "inmgboRChBDR"
      },
      "source": [
        "# **Getting the Training & Validation Data set from X_train & y_train**"
      ]
    },
    {
      "cell_type": "code",
      "metadata": {
        "colab": {
          "base_uri": "https://localhost:8080/"
        },
        "id": "7FpDmsTQhNjM",
        "outputId": "43f7ce3e-ece4-4a32-9701-245bf2f8043d"
      },
      "source": [
        "# Split into validation and training data\n",
        "trn_X, val_X, trn_y, val_y = train_test_split(X_train, train_balanced_DF_Y, random_state=0)\n",
        "\n",
        "print(\"Shape of X Training data\", trn_X.shape)\n",
        "print(\"Shape of y Training data\" ,trn_y.shape)\n",
        "\n",
        "print(\"Shape of X Validation data\", val_X.shape)\n",
        "print(\"Shape of y Validation data\" ,val_y.shape)\n",
        "\n"
      ],
      "execution_count": null,
      "outputs": [
        {
          "output_type": "stream",
          "name": "stdout",
          "text": [
            "Shape of X Training data (11677, 31)\n",
            "Shape of y Training data (11677, 1)\n",
            "Shape of X Validation data (3893, 31)\n",
            "Shape of y Validation data (3893, 1)\n"
          ]
        }
      ]
    },
    {
      "cell_type": "markdown",
      "metadata": {
        "id": "tnMgA8WpFwZY"
      },
      "source": [
        "# Decision Tree Model - Basic"
      ]
    },
    {
      "cell_type": "code",
      "metadata": {
        "colab": {
          "base_uri": "https://localhost:8080/"
        },
        "id": "LdnFaeHjFvPb",
        "outputId": "af36de81-fd97-4372-d199-1382dd83d4f3"
      },
      "source": [
        "# Function to find the best MAE \n",
        "def get_mae(max_leaf_nodes, train_X, val_X, train_y, val_y):\n",
        "    model = DecisionTreeRegressor(max_leaf_nodes=max_leaf_nodes, random_state=0)\n",
        "    model.fit(train_X, train_y)\n",
        "    preds_val = model.predict(val_X)\n",
        "    mae = mean_absolute_error(val_y, preds_val)\n",
        "    return(mae)\n",
        "\n",
        "\n",
        "candidate_max_leaf_nodes = [5, 25, 50, 100, 250, 500]\n",
        "# loop to find the ideal tree size from candidate_max_leaf_nodes\n",
        "mae_best = {}\n",
        "for i in candidate_max_leaf_nodes:\n",
        "    mae_i = get_mae(i,trn_X, val_X, trn_y, val_y)\n",
        "    mae_best[i]=mae_i\n",
        "\n",
        "best = min(mae_best.items(), key=lambda x: x[1])\n",
        "\n",
        "# the best value of max_leaf_nodes (it will be either 5, 25, 50, 100, 250 or 500) and this is stored in best_tree_size\n",
        "best_tree_size = best[0]\n",
        "print(best_tree_size)\n",
        "# Final Model with optimal size\n",
        "final_modelDT = DecisionTreeRegressor(max_leaf_nodes=best_tree_size, random_state=0)\n",
        "\n",
        "#fit the final model and find the MAE final on given test data\n",
        "final_modelDT.fit(X_train,train_balanced_DF_Y)\n",
        "pred_DT = final_modelDT.predict(X_test)\n",
        "mae = mean_absolute_error(y_test, pred_DT)\n",
        "\n",
        "## pred_DT are continuous values and we convert them into binary by using pred_DT>0.5\n",
        "print(round(mae,2))"
      ],
      "execution_count": null,
      "outputs": [
        {
          "output_type": "stream",
          "name": "stdout",
          "text": [
            "500\n",
            "0.06\n"
          ]
        }
      ]
    },
    {
      "cell_type": "code",
      "metadata": {
        "id": "5QW-YPkSzB6j",
        "colab": {
          "base_uri": "https://localhost:8080/"
        },
        "outputId": "e7e971d3-4fc9-4905-bdd4-568afd02a647"
      },
      "source": [
        "print('Decision Tree:')\n",
        "print('Accuracy score:', round(accuracy_score(y_test, pred_DT >0.5) * 100, 2))\n",
        "print('F1 score:', round(f1_score(y_test, pred_DT>0.5) * 100, 2))"
      ],
      "execution_count": null,
      "outputs": [
        {
          "output_type": "stream",
          "name": "stdout",
          "text": [
            "Decision Tree:\n",
            "Accuracy score: 93.67\n",
            "F1 score: 19.23\n"
          ]
        }
      ]
    },
    {
      "cell_type": "markdown",
      "metadata": {
        "id": "4lGRi68UCLs2"
      },
      "source": [
        "# ROC PR curve Function"
      ]
    },
    {
      "cell_type": "code",
      "metadata": {
        "id": "KFQyo2G-CKYH"
      },
      "source": [
        "# PR Curve\n",
        "\n",
        "def doLogisticRegression(x, y):\n",
        "  # Instanciate an object from Logistic Regression class.\n",
        "  lr = LogisticRegression()\n",
        "  # training and prediction\n",
        "  lr.fit(x, y)\n",
        "  y_pred = lr.predict(x)\n",
        "\n",
        "  # Return training accuracy and confusion matrix\n",
        "  return accuracy_score(y, y_pred), confusion_matrix(y, y_pred), lr\n",
        "\n",
        "def drawPRandRoc(x_train_smote, y_train_smote, X_test_norm, y_test):\n",
        "  figure, (ax1, ax2) = plt.subplots(1, 2, figsize = (9,3))\n",
        "  trainAcc, trainConf, LR = doLogisticRegression(x_train_smote, y_train_smote)\n",
        "  y_test_pred = LR.predict(X_test_norm)\n",
        "  y_test_pred_prob = LR.predict_proba(X_test_norm)[:, 1]\n",
        "       \n",
        "  # Draw a precision-recall curve.\n",
        "  precision, recall, thresholds_pr = precision_recall_curve(y_test, y_test_pred_prob)\n",
        "  avg_pre = average_precision_score(y_test, y_test_pred_prob)\n",
        "  ax1.plot(precision, recall, label = \" average precision = {:0.2f}\".format(avg_pre), lw = 3, alpha = 0.7)\n",
        "  ax1.set_xlabel('Precision', fontsize = 14)\n",
        "  ax1.set_ylabel('Recall', fontsize = 14)\n",
        "  ax1.set_title('Precision-Recall Curve', fontsize = 18)\n",
        "  ax1.legend(loc = 'best')\n",
        "  \n",
        "  # Find the default threshold\n",
        "  close_default = np.argmin(np.abs(thresholds_pr - 0.5))\n",
        "  ax1.plot(precision[close_default], recall[close_default], 'o', markersize = 8)\n",
        "\n",
        "  # Draw the roc-curve\n",
        "  fpr, tpr, thresholds_roc = roc_curve(y_test, y_test_pred_prob)\n",
        "  roc_auc = auc(fpr,tpr)\n",
        "  ax2.plot(fpr,tpr, label = \" area = {:0.2f}\".format(roc_auc), lw = 3, alpha = 0.7)\n",
        "  ax2.plot([0,1], [0,1], 'r', linestyle = \"--\", lw = 2)\n",
        "  ax2.set_xlabel(\"False Positive Rate\", fontsize = 14)\n",
        "  ax2.set_ylabel(\"True Positive Rate\", fontsize = 14)\n",
        "  ax2.set_title(\"ROC Curve\", fontsize = 18)\n",
        "  ax2.legend(loc = 'best')\n",
        "\n",
        "  # Find the default threshold\n",
        "  close_default = np.argmin(np.abs(thresholds_roc - 0.5))\n",
        "  ax2.plot(fpr[close_default], tpr[close_default], 'o', markersize = 8)\n",
        "  plt.tight_layout()"
      ],
      "execution_count": null,
      "outputs": []
    },
    {
      "cell_type": "markdown",
      "metadata": {
        "id": "VAqFmcGG4yz1"
      },
      "source": [
        "# **Define Confusion Matrix Function**"
      ]
    },
    {
      "cell_type": "code",
      "metadata": {
        "id": "qTKFh1wg3zcl"
      },
      "source": [
        "def make_confusion_matrix(cf,\n",
        "                          group_names=None,\n",
        "                          categories='auto',\n",
        "                          count=True,\n",
        "                          percent=True,\n",
        "                          cbar=True,\n",
        "                          xyticks=True,\n",
        "                          xyplotlabels=True,\n",
        "                          sum_stats=True,\n",
        "                          figsize=None,\n",
        "                          cmap='magma',     # cmaps = magma, copper, mako, nipy_spectral\n",
        "                          title=None):\n",
        "  \n",
        "      # CODE TO GENERATE TEXT INSIDE EACH SQUARE\n",
        "    blanks = ['' for i in range(cf.size)]\n",
        "\n",
        "    if group_names and len(group_names)==cf.size:\n",
        "        group_labels = [\"{}\\n\".format(value) for value in group_names]\n",
        "    else:\n",
        "        group_labels = blanks\n",
        "\n",
        "    if count:\n",
        "        group_counts = [\"{0:0.0f}\\n\".format(value) for value in cf.flatten()]\n",
        "    else:\n",
        "        group_counts = blanks\n",
        "\n",
        "    if percent:\n",
        "        group_percentages = [\"{0:.2%}\".format(value) for value in cf.flatten()/np.sum(cf)]\n",
        "    else:\n",
        "        group_percentages = blanks\n",
        "\n",
        "    box_labels = [f\"{v1}{v2}{v3}\".strip() for v1, v2, v3 in zip(group_labels,group_counts,group_percentages)]\n",
        "    box_labels = np.asarray(box_labels).reshape(cf.shape[0],cf.shape[1])\n",
        "\n",
        "\n",
        "    # CODE TO GENERATE SUMMARY STATISTICS & TEXT FOR SUMMARY STATS\n",
        "    if sum_stats:\n",
        "        #Accuracy is sum of diagonal divided by total observations\n",
        "        accuracy  = np.trace(cf) / float(np.sum(cf))\n",
        "\n",
        "        #if it is a binary confusion matrix, show some more stats\n",
        "        if len(cf)==2:\n",
        "            #Metrics for Binary Confusion Matrices\n",
        "            precision = cf[1,1] / sum(cf[:,1])\n",
        "            recall    = cf[1,1] / sum(cf[1,:])\n",
        "            f1_score  = 2*precision*recall / (precision + recall)\n",
        "            stats_text = \"\\n\\nAccuracy={:0.3f}\\nPrecision={:0.3f}\\nRecall={:0.3f}\\nF1 Score={:0.3f}\".format(\n",
        "                accuracy,precision,recall,f1_score)\n",
        "        else:\n",
        "            stats_text = \"\\n\\nAccuracy={:0.3f}\".format(accuracy)\n",
        "    else:\n",
        "        stats_text = \"\"\n",
        "\n",
        "\n",
        "    # SET FIGURE PARAMETERS ACCORDING TO OTHER ARGUMENTS\n",
        "    if figsize==None:\n",
        "        #Get default figure size if not set\n",
        "        figsize = plt.rcParams.get('figure.figsize')\n",
        "\n",
        "    if xyticks==False:\n",
        "        #Do not show categories if xyticks is False\n",
        "        categories=False\n",
        "\n",
        "\n",
        "    # MAKE THE HEATMAP VISUALIZATION\n",
        "    plt.figure(figsize=figsize)\n",
        "    sns.heatmap(cf,annot=box_labels,fmt=\"\",cmap=cmap,cbar=cbar,xticklabels=categories,yticklabels=categories)\n",
        "\n",
        "    if xyplotlabels:\n",
        "        plt.ylabel('Actual')\n",
        "        plt.xlabel('Predicted' + stats_text)\n",
        "    else:\n",
        "        plt.xlabel(stats_text)\n",
        "    \n",
        "    if title:\n",
        "        plt.title(title)\n"
      ],
      "execution_count": null,
      "outputs": []
    },
    {
      "cell_type": "markdown",
      "metadata": {
        "id": "Lmb2hs6C4r8b"
      },
      "source": [
        "## **Confusion Matrix For Decision Tree**"
      ]
    },
    {
      "cell_type": "code",
      "metadata": {
        "id": "oxOpypfN4avo",
        "colab": {
          "base_uri": "https://localhost:8080/",
          "height": 370
        },
        "outputId": "956ce823-32c5-4d73-e212-1ce449e4208a"
      },
      "source": [
        "# Plot Confusion Matrix for decision Tree\n",
        "model_name = 'Decision Tree'\n",
        "cm = confusion_matrix(y_test, pred_DT>0.5)\n",
        "labels = ['True Neg', 'False Pos', 'False Neg', 'True Pos']\n",
        "categories = ['Zero', 'One']\n",
        "make_confusion_matrix(cm, group_names=labels, categories=categories, percent=False)\n",
        "plt.title(f'{model_name} - Performance')\n",
        "print()"
      ],
      "execution_count": null,
      "outputs": [
        {
          "output_type": "stream",
          "name": "stdout",
          "text": [
            "\n"
          ]
        },
        {
          "output_type": "display_data",
          "data": {
            "image/png": "[encoded data removed]",
            "text/plain": [
              "<Figure size 432x288 with 2 Axes>"
            ]
          },
          "metadata": {
            "needs_background": "light"
          }
        }
      ]
    },
    {
      "cell_type": "markdown",
      "metadata": {
        "id": "k5klT9UDCYyG"
      },
      "source": [
        "# ROC curve & AUC for Decision Tree"
      ]
    },
    {
      "cell_type": "code",
      "metadata": {
        "colab": {
          "base_uri": "https://localhost:8080/"
        },
        "id": "dV5YfBfNc50r",
        "outputId": "8e72a4c8-a5f8-4ac1-9b6f-3a49933704b7"
      },
      "source": [
        "#Print the classification report\n",
        "print(classification_report(y_test, pred_DT>0.5))\n",
        "\n",
        "# y_pred_DF = final_modelDT.predict_proba(X_test)[:,1]\n",
        "DT_fpr, DT_tpr, threshold = roc_curve(y_test, pred_DT>0.5)\n",
        "auc_DT = auc(DT_fpr, DT_tpr)\n",
        "\n",
        "print(auc_DT)\n",
        "\n"
      ],
      "execution_count": null,
      "outputs": [
        {
          "output_type": "stream",
          "name": "stdout",
          "text": [
            "              precision    recall  f1-score   support\n",
            "\n",
            "           0       0.99      0.95      0.97      1946\n",
            "           1       0.13      0.35      0.19        43\n",
            "\n",
            "    accuracy                           0.94      1989\n",
            "   macro avg       0.56      0.65      0.58      1989\n",
            "weighted avg       0.97      0.94      0.95      1989\n",
            "\n",
            "0.6492387485360549\n"
          ]
        }
      ]
    },
    {
      "cell_type": "markdown",
      "metadata": {
        "id": "DaLdSWcR6-SR"
      },
      "source": [
        "# **Hyperparameter Tuning - Grid Search**"
      ]
    },
    {
      "cell_type": "code",
      "metadata": {
        "id": "U0OwY0D7RGar"
      },
      "source": [
        "model_params = {\n",
        "    'svm': {\n",
        "        'model': SVC(gamma='auto',probability=True),\n",
        "        'params' : {\n",
        "            'C': [1,10,20],\n",
        "            'kernel': ['rbf','linear','sigmoid']\n",
        "        }  \n",
        "    },\n",
        "    'random_forest': {\n",
        "        'model': RandomForestClassifier(),\n",
        "        'params' : {\n",
        "            'n_estimators': [1,5,10,20,30,40,50],\n",
        "            'criterion':['gini','entropy']\n",
        "        }\n",
        "    },\n",
        "    'logistic_regression' : {\n",
        "        'model': LogisticRegression(multi_class='auto'),\n",
        "        'params': {\n",
        "            'C': [1,5,10],\n",
        "            'solver':['lbfgs','liblinear']\n",
        "        }\n",
        "    },\n",
        "   'KNN': {\n",
        "        'model':KNeighborsClassifier(),\n",
        "        'params':{\n",
        "            'n_neighbors' : [1,3,5,7],\n",
        "            'algorithm':['auto','kd_tree']\n",
        "        }\n",
        "    }\n",
        "}\n"
      ],
      "execution_count": null,
      "outputs": []
    },
    {
      "cell_type": "markdown",
      "metadata": {
        "id": "8ba6YsKF7tdz"
      },
      "source": [
        "**Implementing Grid Search CV for the models **"
      ]
    },
    {
      "cell_type": "code",
      "metadata": {
        "colab": {
          "base_uri": "https://localhost:8080/",
          "height": 394
        },
        "id": "oKITQBJjREpG",
        "outputId": "84470abd-c2f9-4260-ba78-624b4a1c44ed"
      },
      "source": [
        "\n",
        "X_scaled = scaler.fit_transform(X_train)\n",
        "\n",
        "scores = []\n",
        "\n",
        "for model_name, mp in model_params.items():\n",
        "    clf =  GridSearchCV(mp['model'], mp['params'], cv=3, verbose=3, n_jobs=-1, scoring = 'recall', return_train_score=False)\n",
        "    clf.fit(X_scaled, train_balanced_DF_Y)\n",
        "    scores.append({\n",
        "        'model': model_name,\n",
        "        'best_score': clf.best_score_,\n",
        "        'best_params': clf.best_params_\n",
        "    })\n",
        "    \n",
        "df = pd.DataFrame(scores,columns=['model','best_score','best_params'])\n",
        "df"
      ],
      "execution_count": null,
      "outputs": [
        {
          "output_type": "stream",
          "name": "stdout",
          "text": [
            "Fitting 3 folds for each of 9 candidates, totalling 27 fits\n"
          ]
        },
        {
          "output_type": "stream",
          "name": "stderr",
          "text": [
            "[Parallel(n_jobs=-1)]: Using backend LokyBackend with 2 concurrent workers.\n",
            "[Parallel(n_jobs=-1)]: Done  27 out of  27 | elapsed: 17.2min finished\n"
          ]
        },
        {
          "output_type": "stream",
          "name": "stdout",
          "text": [
            "Fitting 3 folds for each of 14 candidates, totalling 42 fits\n"
          ]
        },
        {
          "output_type": "stream",
          "name": "stderr",
          "text": [
            "[Parallel(n_jobs=-1)]: Using backend LokyBackend with 2 concurrent workers.\n",
            "[Parallel(n_jobs=-1)]: Done  36 tasks      | elapsed:   27.6s\n",
            "[Parallel(n_jobs=-1)]: Done  42 out of  42 | elapsed:   41.2s finished\n"
          ]
        },
        {
          "output_type": "stream",
          "name": "stdout",
          "text": [
            "Fitting 3 folds for each of 6 candidates, totalling 18 fits\n"
          ]
        },
        {
          "output_type": "stream",
          "name": "stderr",
          "text": [
            "[Parallel(n_jobs=-1)]: Using backend LokyBackend with 2 concurrent workers.\n",
            "[Parallel(n_jobs=-1)]: Done  18 out of  18 | elapsed:    4.5s finished\n"
          ]
        },
        {
          "output_type": "stream",
          "name": "stdout",
          "text": [
            "Fitting 3 folds for each of 8 candidates, totalling 24 fits\n"
          ]
        },
        {
          "output_type": "stream",
          "name": "stderr",
          "text": [
            "[Parallel(n_jobs=-1)]: Using backend LokyBackend with 2 concurrent workers.\n",
            "[Parallel(n_jobs=-1)]: Done  24 out of  24 | elapsed:   35.0s finished\n"
          ]
        },
        {
          "output_type": "execute_result",
          "data": {
            "text/html": [
              "<div>\n",
              "<style scoped>\n",
              "    .dataframe tbody tr th:only-of-type {\n",
              "        vertical-align: middle;\n",
              "    }\n",
              "\n",
              "    .dataframe tbody tr th {\n",
              "        vertical-align: top;\n",
              "    }\n",
              "\n",
              "    .dataframe thead th {\n",
              "        text-align: right;\n",
              "    }\n",
              "</style>\n",
              "<table border=\"1\" class=\"dataframe\">\n",
              "  <thead>\n",
              "    <tr style=\"text-align: right;\">\n",
              "      <th></th>\n",
              "      <th>model</th>\n",
              "      <th>best_score</th>\n",
              "      <th>best_params</th>\n",
              "    </tr>\n",
              "  </thead>\n",
              "  <tbody>\n",
              "    <tr>\n",
              "      <th>0</th>\n",
              "      <td>svm</td>\n",
              "      <td>0.989852</td>\n",
              "      <td>{'C': 20, 'kernel': 'rbf'}</td>\n",
              "    </tr>\n",
              "    <tr>\n",
              "      <th>1</th>\n",
              "      <td>random_forest</td>\n",
              "      <td>0.997559</td>\n",
              "      <td>{'criterion': 'entropy', 'n_estimators': 50}</td>\n",
              "    </tr>\n",
              "    <tr>\n",
              "      <th>2</th>\n",
              "      <td>logistic_regression</td>\n",
              "      <td>0.916378</td>\n",
              "      <td>{'C': 1, 'solver': 'lbfgs'}</td>\n",
              "    </tr>\n",
              "    <tr>\n",
              "      <th>3</th>\n",
              "      <td>KNN</td>\n",
              "      <td>0.999101</td>\n",
              "      <td>{'algorithm': 'auto', 'n_neighbors': 3}</td>\n",
              "    </tr>\n",
              "  </tbody>\n",
              "</table>\n",
              "</div>"
            ],
            "text/plain": [
              "                 model  ...                                   best_params\n",
              "0                  svm  ...                    {'C': 20, 'kernel': 'rbf'}\n",
              "1        random_forest  ...  {'criterion': 'entropy', 'n_estimators': 50}\n",
              "2  logistic_regression  ...                   {'C': 1, 'solver': 'lbfgs'}\n",
              "3                  KNN  ...       {'algorithm': 'auto', 'n_neighbors': 3}\n",
              "\n",
              "[4 rows x 3 columns]"
            ]
          },
          "metadata": {},
          "execution_count": 95
        }
      ]
    },
    {
      "cell_type": "markdown",
      "metadata": {
        "id": "f8Smo1pXAw-a"
      },
      "source": [
        "# Logistic Regression"
      ]
    },
    {
      "cell_type": "code",
      "metadata": {
        "id": "3pHF7sCBBHpS",
        "colab": {
          "base_uri": "https://localhost:8080/",
          "height": 111
        },
        "outputId": "b7216170-6c88-414d-da8d-5968db588372"
      },
      "source": [
        "logmodel = LogisticRegression(solver='lbfgs',multi_class='auto', C = 1)\n",
        "logmodel.fit(X_train, train_balanced_DF_Y)\n",
        "log_predictions = logmodel.predict(X_test)\n",
        "\n",
        "# Printing Confusion Matrix\n",
        "pd.DataFrame(confusion_matrix(y_test,log_predictions))"
      ],
      "execution_count": null,
      "outputs": [
        {
          "output_type": "execute_result",
          "data": {
            "text/html": [
              "<div>\n",
              "<style scoped>\n",
              "    .dataframe tbody tr th:only-of-type {\n",
              "        vertical-align: middle;\n",
              "    }\n",
              "\n",
              "    .dataframe tbody tr th {\n",
              "        vertical-align: top;\n",
              "    }\n",
              "\n",
              "    .dataframe thead th {\n",
              "        text-align: right;\n",
              "    }\n",
              "</style>\n",
              "<table border=\"1\" class=\"dataframe\">\n",
              "  <thead>\n",
              "    <tr style=\"text-align: right;\">\n",
              "      <th></th>\n",
              "      <th>0</th>\n",
              "      <th>1</th>\n",
              "    </tr>\n",
              "  </thead>\n",
              "  <tbody>\n",
              "    <tr>\n",
              "      <th>0</th>\n",
              "      <td>1401</td>\n",
              "      <td>545</td>\n",
              "    </tr>\n",
              "    <tr>\n",
              "      <th>1</th>\n",
              "      <td>3</td>\n",
              "      <td>40</td>\n",
              "    </tr>\n",
              "  </tbody>\n",
              "</table>\n",
              "</div>"
            ],
            "text/plain": [
              "      0    1\n",
              "0  1401  545\n",
              "1     3   40"
            ]
          },
          "metadata": {},
          "execution_count": 41
        }
      ]
    },
    {
      "cell_type": "code",
      "metadata": {
        "id": "w3CyhjEwvvWu",
        "colab": {
          "base_uri": "https://localhost:8080/"
        },
        "outputId": "3f94fcc2-73d1-4e09-ec1f-ea13d4060aff"
      },
      "source": [
        "#Printing Classification Report\n",
        "print(classification_report(y_test,log_predictions))"
      ],
      "execution_count": null,
      "outputs": [
        {
          "output_type": "stream",
          "name": "stdout",
          "text": [
            "              precision    recall  f1-score   support\n",
            "\n",
            "           0       1.00      0.72      0.84      1946\n",
            "           1       0.07      0.93      0.13        43\n",
            "\n",
            "    accuracy                           0.72      1989\n",
            "   macro avg       0.53      0.83      0.48      1989\n",
            "weighted avg       0.98      0.72      0.82      1989\n",
            "\n"
          ]
        }
      ]
    },
    {
      "cell_type": "markdown",
      "metadata": {
        "id": "YPcIrZDxp0rs"
      },
      "source": [
        "# Confusion Matrix for Logistic Regression"
      ]
    },
    {
      "cell_type": "code",
      "metadata": {
        "colab": {
          "base_uri": "https://localhost:8080/",
          "height": 370
        },
        "id": "Y13x9NwJVfj6",
        "outputId": "b2584c91-c11b-49a8-dd7e-3a0e412eda82"
      },
      "source": [
        "# Plot Confusion Matrix for LR - Train Data\n",
        "logmodel1 = LogisticRegression(solver='lbfgs',multi_class='auto', C = 1)\n",
        "logmodel1.fit(X_train, train_balanced_DF_Y)\n",
        "log_predictions1 = logmodel1.predict(X_train)\n",
        "model_name = 'Logistic Regression'\n",
        "cm1 = confusion_matrix(train_balanced_DF_Y, log_predictions1)\n",
        "labels = ['True Neg', 'False Pos', 'False Neg', 'True Pos']\n",
        "categories = ['Zero', 'One']\n",
        "make_confusion_matrix(cm1, group_names=labels, categories=categories, percent=False)\n",
        "plt.title(f'{model_name} - Performance with Train Data')\n",
        "print()"
      ],
      "execution_count": null,
      "outputs": [
        {
          "output_type": "stream",
          "name": "stdout",
          "text": [
            "\n"
          ]
        },
        {
          "output_type": "display_data",
          "data": {
            "image/png": "[encoded data removed]",
            "text/plain": [
              "<Figure size 432x288 with 2 Axes>"
            ]
          },
          "metadata": {
            "needs_background": "light"
          }
        }
      ]
    },
    {
      "cell_type": "code",
      "metadata": {
        "id": "laX_f1OYCsDJ",
        "colab": {
          "base_uri": "https://localhost:8080/",
          "height": 370
        },
        "outputId": "32937c42-0709-49be-d8bd-a4832281f8d7"
      },
      "source": [
        "# Plot Confusion Matrix for LR - Test Data\n",
        "model_name = 'Logistic Regression'\n",
        "cm = confusion_matrix(y_test, log_predictions)\n",
        "labels = ['True Neg', 'False Pos', 'False Neg', 'True Pos']\n",
        "categories = ['Zero', 'One']\n",
        "make_confusion_matrix(cm, group_names=labels, categories=categories, percent=False)\n",
        "plt.title(f'{model_name} - Performance with Test Data')\n",
        "print()"
      ],
      "execution_count": null,
      "outputs": [
        {
          "output_type": "stream",
          "name": "stdout",
          "text": [
            "\n"
          ]
        },
        {
          "output_type": "display_data",
          "data": {
            "image/png": "[encoded data removed]",
            "text/plain": [
              "<Figure size 432x288 with 2 Axes>"
            ]
          },
          "metadata": {
            "needs_background": "light"
          }
        }
      ]
    },
    {
      "cell_type": "code",
      "metadata": {
        "id": "q8wm2Ktm1bSM",
        "colab": {
          "base_uri": "https://localhost:8080/"
        },
        "outputId": "518ba9c5-0864-4b4e-ea2a-58e20e3d73b2"
      },
      "source": [
        "print('Logistic Regression for Test Data :')\n",
        "print('Accuracy score:', round(accuracy_score(y_test, log_predictions) * 100, 2))\n",
        "print('F1 score:', round(f1_score(y_test, log_predictions) * 100, 2))"
      ],
      "execution_count": null,
      "outputs": [
        {
          "output_type": "stream",
          "name": "stdout",
          "text": [
            "Logistic Regression for Test Data :\n",
            "Accuracy score: 72.45\n",
            "F1 score: 12.74\n"
          ]
        }
      ]
    },
    {
      "cell_type": "code",
      "metadata": {
        "colab": {
          "base_uri": "https://localhost:8080/"
        },
        "id": "cYaGnIu9Z_kj",
        "outputId": "18d2b385-8c45-4e9a-aec6-458e3b94d512"
      },
      "source": [
        "# AUC - Logistic Regression\n",
        "\n",
        "y_pred_logistic = logmodel.predict_proba(X_test)[:,1]\n",
        "logistic_fpr, logistic_tpr, threshold = roc_curve(y_test, y_pred_logistic)\n",
        "auc_logistic = auc(logistic_fpr, logistic_tpr)\n",
        "print(auc_logistic)"
      ],
      "execution_count": null,
      "outputs": [
        {
          "output_type": "stream",
          "name": "stdout",
          "text": [
            "0.8888118740887688\n"
          ]
        }
      ]
    },
    {
      "cell_type": "markdown",
      "metadata": {
        "id": "wBFCqaf9CoW9"
      },
      "source": [
        "# ROC PR curve for Logistic Regression"
      ]
    },
    {
      "cell_type": "code",
      "metadata": {
        "colab": {
          "base_uri": "https://localhost:8080/",
          "height": 225
        },
        "id": "gI00tRxvCnRB",
        "outputId": "4d079db4-f380-413c-d47b-9b49084c6e9b"
      },
      "source": [
        "drawPRandRoc(X_train, train_balanced_DF_Y, X_test, y_test)"
      ],
      "execution_count": null,
      "outputs": [
        {
          "output_type": "display_data",
          "data": {
            "image/png": "[encoded data removed]",
            "text/plain": [
              "<Figure size 648x216 with 2 Axes>"
            ]
          },
          "metadata": {
            "needs_background": "light"
          }
        }
      ]
    },
    {
      "cell_type": "markdown",
      "metadata": {
        "id": "d2c7ion1YQua"
      },
      "source": [
        "# SVM"
      ]
    },
    {
      "cell_type": "code",
      "metadata": {
        "colab": {
          "base_uri": "https://localhost:8080/"
        },
        "id": "mj8o-EYnYTKk",
        "outputId": "d30f71a8-c8b9-4aa4-b6cc-956ea3ea7d0f"
      },
      "source": [
        "model_svm = SVC(gamma='auto',C=20, kernel='rbf', probability=True )\n",
        "model_svm.fit(X_train,train_balanced_DF_Y)\n",
        "svm_predictions = model_svm.predict(X_test)\n",
        "\n",
        "# Printing Confusion Matrix\n",
        "pd.DataFrame(confusion_matrix(y_test,svm_predictions))\n",
        "\n",
        "# printing the classification report\n",
        "print(classification_report(y_test,svm_predictions))"
      ],
      "execution_count": null,
      "outputs": [
        {
          "output_type": "stream",
          "name": "stdout",
          "text": [
            "              precision    recall  f1-score   support\n",
            "\n",
            "           0       0.99      0.86      0.92      1946\n",
            "           1       0.10      0.67      0.17        43\n",
            "\n",
            "    accuracy                           0.86      1989\n",
            "   macro avg       0.54      0.77      0.55      1989\n",
            "weighted avg       0.97      0.86      0.91      1989\n",
            "\n"
          ]
        }
      ]
    },
    {
      "cell_type": "markdown",
      "metadata": {
        "id": "C_EdoDr_Z6mM"
      },
      "source": [
        "**ROC & AUC for SVM**"
      ]
    },
    {
      "cell_type": "code",
      "metadata": {
        "colab": {
          "base_uri": "https://localhost:8080/",
          "height": 370
        },
        "id": "qpFjvgYrXMra",
        "outputId": "24837538-972b-4d52-9daf-06d6f91e99d2"
      },
      "source": [
        "# Plot Confusion Matrix for SVM\n",
        "model_name = 'SVM'\n",
        "cm = confusion_matrix(y_test, svm_predictions)\n",
        "labels = ['True Neg', 'False Pos', 'False Neg', 'True Pos']\n",
        "categories = ['Zero', 'One']\n",
        "make_confusion_matrix(cm, group_names=labels, categories=categories, percent=False)\n",
        "plt.title(f'{model_name} - Performance')\n",
        "print()"
      ],
      "execution_count": null,
      "outputs": [
        {
          "output_type": "stream",
          "name": "stdout",
          "text": [
            "\n"
          ]
        },
        {
          "output_type": "display_data",
          "data": {
            "image/png": "[encoded data removed]",
            "text/plain": [
              "<Figure size 432x288 with 2 Axes>"
            ]
          },
          "metadata": {
            "needs_background": "light"
          }
        }
      ]
    },
    {
      "cell_type": "code",
      "metadata": {
        "colab": {
          "base_uri": "https://localhost:8080/"
        },
        "id": "0mBIvNHzZ9U0",
        "outputId": "f5136d1f-f9c9-4458-a9a1-b4c8e0bf71d7"
      },
      "source": [
        "\n",
        "y_pred_svm = model_svm.predict_proba(X_test)[:,1]\n",
        "svm_fpr, svm_tpr, threshold = roc_curve(y_test, y_pred_svm)\n",
        "auc_svm = auc(svm_fpr, svm_tpr)\n",
        "print(auc_svm)"
      ],
      "execution_count": null,
      "outputs": [
        {
          "output_type": "stream",
          "name": "stdout",
          "text": [
            "0.8837687325222878\n"
          ]
        }
      ]
    },
    {
      "cell_type": "markdown",
      "metadata": {
        "id": "SPer_39FaK2r"
      },
      "source": [
        "# KNN"
      ]
    },
    {
      "cell_type": "code",
      "metadata": {
        "colab": {
          "base_uri": "https://localhost:8080/"
        },
        "id": "-8lX9bUKaQUg",
        "outputId": "e8494df7-8c55-462f-b2d0-922740ce3801"
      },
      "source": [
        "knn = KNeighborsClassifier(n_neighbors=3,algorithm = 'auto')\n",
        "knn.fit(X_train,train_balanced_DF_Y)\n",
        "knn_pred = knn.predict(X_test)\n",
        "\n",
        "# Printing Confusion Matrix\n",
        "pd.DataFrame(confusion_matrix(y_test,knn_pred))\n",
        "\n",
        "# printing the classification report\n",
        "print(classification_report(y_test,knn_pred))"
      ],
      "execution_count": null,
      "outputs": [
        {
          "output_type": "stream",
          "name": "stdout",
          "text": [
            "              precision    recall  f1-score   support\n",
            "\n",
            "           0       0.98      0.90      0.94      1946\n",
            "           1       0.05      0.26      0.09        43\n",
            "\n",
            "    accuracy                           0.88      1989\n",
            "   macro avg       0.52      0.58      0.51      1989\n",
            "weighted avg       0.96      0.88      0.92      1989\n",
            "\n"
          ]
        }
      ]
    },
    {
      "cell_type": "markdown",
      "metadata": {
        "id": "K0NbDLo0agnd"
      },
      "source": [
        "ROC & AUC for KNN"
      ]
    },
    {
      "cell_type": "code",
      "metadata": {
        "colab": {
          "base_uri": "https://localhost:8080/"
        },
        "id": "SgHiW-X0Xw7F",
        "outputId": "614e6eb9-c997-4e89-ab25-2a691c60e685"
      },
      "source": [
        "## Print all values\n",
        "np.set_printoptions(threshold=np.inf)\n",
        "print(y_pred_knn)"
      ],
      "execution_count": null,
      "outputs": [
        {
          "output_type": "stream",
          "name": "stdout",
          "text": [
            "[0.         0.         0.         0.         0.         0.\n",
            " 0.         1.         0.         0.         0.33333333 0.\n",
            " 0.33333333 0.         0.         1.         0.         0.\n",
            " 0.         0.         0.         0.         0.         0.\n",
            " 0.         0.         0.         0.         0.         0.33333333\n",
            " 0.         0.         0.         0.         0.         0.\n",
            " 0.         0.         1.         0.         0.         0.33333333\n",
            " 0.         0.         0.         0.         0.         0.\n",
            " 0.         0.         0.         0.         0.         0.\n",
            " 0.         0.         0.         0.         0.         0.\n",
            " 0.         0.         0.         0.         0.         0.\n",
            " 0.         0.         0.         0.         0.         0.\n",
            " 0.         0.         0.66666667 0.         0.         0.\n",
            " 0.         0.         0.         0.         1.         0.\n",
            " 0.         0.         0.         0.         0.         0.\n",
            " 0.         0.         0.         0.         0.         0.\n",
            " 0.         0.         0.         0.         0.         0.\n",
            " 0.         0.33333333 0.         0.         0.         0.33333333\n",
            " 0.         0.         0.         0.         0.         0.66666667\n",
            " 0.         0.         0.         0.         0.         0.\n",
            " 0.         0.         0.66666667 0.         0.         0.\n",
            " 0.         0.         1.         1.         0.         0.66666667\n",
            " 0.         0.66666667 0.         0.         0.         0.\n",
            " 0.         0.         0.         0.         0.         0.\n",
            " 0.         0.         0.         1.         0.         0.\n",
            " 0.33333333 0.         0.         0.66666667 0.         0.\n",
            " 0.         0.         0.33333333 0.         0.         0.\n",
            " 0.         0.         0.         0.         0.         1.\n",
            " 1.         0.         0.         0.         0.         0.\n",
            " 0.         0.         0.         0.         0.         0.66666667\n",
            " 0.         0.         0.66666667 0.         0.         0.\n",
            " 0.66666667 0.         0.         0.         0.66666667 0.\n",
            " 0.         0.         1.         0.         0.         0.66666667\n",
            " 0.         0.         0.         0.         0.         0.\n",
            " 0.         0.         0.         0.66666667 0.         0.\n",
            " 0.         0.33333333 0.         0.         0.         0.66666667\n",
            " 1.         0.         0.         0.         0.33333333 0.\n",
            " 0.         0.         0.         0.         1.         0.\n",
            " 0.33333333 0.         0.         0.         0.66666667 0.\n",
            " 0.         0.         1.         0.         0.         0.\n",
            " 0.33333333 0.         0.         0.         0.         0.\n",
            " 0.         0.66666667 0.         0.         0.         0.\n",
            " 0.         0.         0.         0.         0.         0.\n",
            " 0.         0.33333333 0.66666667 0.         0.         0.33333333\n",
            " 0.         0.66666667 0.         0.         0.         0.\n",
            " 0.33333333 0.         0.         0.         0.         0.\n",
            " 0.         0.         0.         0.         0.         0.\n",
            " 0.66666667 0.         0.         0.         0.         0.\n",
            " 0.         0.         0.         0.         1.         0.\n",
            " 1.         0.         0.         1.         0.         0.\n",
            " 1.         1.         0.         0.         0.         0.\n",
            " 0.         1.         0.         0.         0.         0.\n",
            " 0.         0.         0.         0.         0.33333333 0.\n",
            " 0.         1.         0.         0.         0.         0.\n",
            " 0.         0.         0.         0.         0.         0.\n",
            " 0.         0.         0.         0.         0.         0.\n",
            " 0.         0.         0.         0.         0.         0.\n",
            " 0.         0.         0.         0.         0.         0.66666667\n",
            " 0.         0.         1.         0.         0.         0.\n",
            " 0.         1.         0.         0.         0.         1.\n",
            " 0.33333333 0.         0.33333333 0.         0.         0.\n",
            " 1.         0.         0.33333333 0.66666667 0.33333333 0.33333333\n",
            " 0.         0.         0.         0.         0.         0.\n",
            " 0.         0.66666667 0.         0.         0.         0.66666667\n",
            " 0.         0.         0.         0.         0.         0.\n",
            " 0.66666667 0.         0.66666667 0.33333333 1.         0.\n",
            " 1.         0.         0.         0.66666667 0.66666667 0.33333333\n",
            " 0.         0.         0.         0.         0.         0.\n",
            " 0.         0.         0.         0.         1.         0.\n",
            " 0.         0.         0.         0.         0.         0.\n",
            " 0.         0.         0.         0.         0.         0.\n",
            " 0.         0.         0.         0.33333333 0.         0.\n",
            " 0.         0.33333333 0.         0.33333333 0.         0.\n",
            " 0.         0.         0.         0.         0.33333333 0.\n",
            " 0.         0.         0.         0.         0.         0.\n",
            " 0.         0.         0.         0.         0.         0.\n",
            " 0.         0.         0.         0.         0.         0.\n",
            " 0.         0.         0.         0.         0.         0.\n",
            " 0.         0.         0.         0.         0.         0.33333333\n",
            " 0.         0.         0.         0.         0.         0.\n",
            " 0.         0.         0.         0.         0.         0.\n",
            " 0.33333333 0.         0.         0.         1.         0.\n",
            " 0.         0.         0.         0.         0.         0.\n",
            " 0.         0.         0.         0.33333333 1.         0.33333333\n",
            " 0.66666667 0.         0.         0.         0.         0.\n",
            " 0.         0.         0.         0.         0.         0.33333333\n",
            " 0.         0.         0.33333333 0.         0.         0.\n",
            " 0.         1.         0.         0.         0.         0.66666667\n",
            " 0.         0.         0.         0.         0.         0.\n",
            " 1.         0.         0.         0.         0.         1.\n",
            " 0.         0.         0.         0.         0.         0.\n",
            " 0.         0.         0.         0.         0.         0.\n",
            " 0.         0.         0.         0.         0.         0.\n",
            " 0.         0.         0.         0.         0.         0.\n",
            " 0.         0.         0.         0.66666667 0.         0.\n",
            " 0.         0.         0.         0.33333333 0.         0.\n",
            " 0.         0.         0.         0.         0.         0.\n",
            " 0.         0.         0.         0.         0.         0.\n",
            " 0.         0.         0.         0.         0.         0.\n",
            " 0.         0.         0.         0.         0.         0.\n",
            " 0.         0.66666667 0.         0.         0.         0.\n",
            " 0.         0.         0.         0.         0.         0.\n",
            " 0.         1.         1.         0.         0.         1.\n",
            " 0.         0.         0.         0.         0.         0.\n",
            " 0.         0.         0.         0.         0.         0.\n",
            " 1.         0.         0.         0.         0.66666667 0.\n",
            " 0.         0.         0.         1.         0.         0.\n",
            " 0.         0.         0.         0.         0.         0.\n",
            " 0.         0.         0.         0.         0.         0.\n",
            " 0.         0.         0.         0.         0.         0.\n",
            " 0.         0.         0.         0.         0.         0.\n",
            " 0.         0.         0.         0.33333333 0.         0.33333333\n",
            " 0.         0.         0.         0.         0.         0.\n",
            " 0.         0.         0.66666667 0.         0.         0.\n",
            " 0.         0.         1.         0.         1.         0.\n",
            " 0.         0.         0.         1.         0.         0.33333333\n",
            " 1.         0.         0.         0.         0.         0.\n",
            " 0.         0.         0.         0.66666667 0.         0.\n",
            " 0.         0.         0.         0.         0.         0.\n",
            " 0.         1.         0.         0.         0.         0.\n",
            " 0.         0.         0.         0.         1.         0.\n",
            " 0.         0.         0.         0.         0.         0.\n",
            " 0.         0.         0.33333333 0.66666667 0.         0.\n",
            " 0.         0.         0.         0.         0.         0.66666667\n",
            " 0.33333333 0.         0.33333333 0.         0.66666667 0.\n",
            " 0.         0.         0.         0.         0.         0.\n",
            " 0.         0.         0.         0.         0.         0.\n",
            " 0.         0.         0.         0.         0.         0.\n",
            " 0.         0.         0.66666667 0.         1.         1.\n",
            " 0.66666667 0.         0.         0.         0.         0.\n",
            " 0.         0.33333333 0.         0.         0.         0.\n",
            " 0.         0.         0.         0.         0.         0.\n",
            " 0.         0.         0.         0.         0.         0.\n",
            " 0.         0.         0.         0.         0.33333333 0.\n",
            " 0.         0.         0.         0.         0.         0.\n",
            " 0.         0.         0.         0.         0.         0.\n",
            " 0.         0.         0.         0.         0.         0.\n",
            " 0.         0.33333333 0.         0.         0.         0.\n",
            " 0.         1.         0.         0.         0.         0.\n",
            " 0.         0.         0.         0.         0.         0.33333333\n",
            " 0.         0.         0.         0.         0.         0.\n",
            " 0.         0.         1.         0.         0.         0.\n",
            " 0.         0.66666667 0.         0.         0.         0.\n",
            " 0.         0.         0.         0.         0.         0.\n",
            " 0.         0.66666667 0.         0.         0.         0.\n",
            " 0.         0.         0.         0.         0.         0.\n",
            " 0.         0.         0.         0.         0.66666667 0.\n",
            " 0.         0.66666667 0.         0.         0.         0.\n",
            " 0.66666667 0.         0.         0.         0.         0.\n",
            " 0.         0.         0.         0.         0.33333333 0.\n",
            " 0.         0.         0.         0.         0.         0.\n",
            " 0.         0.         0.66666667 1.         0.         0.\n",
            " 0.         0.         0.         0.         0.         0.\n",
            " 0.         0.         0.         1.         0.         0.\n",
            " 0.         0.         0.         0.         0.         0.\n",
            " 0.         1.         0.         0.         0.         0.\n",
            " 1.         0.         0.         0.66666667 0.         0.\n",
            " 0.         0.         1.         0.         0.         0.\n",
            " 0.         0.         0.         0.         0.         0.\n",
            " 0.         0.         0.33333333 0.         0.         0.66666667\n",
            " 0.         0.         0.         0.         0.         0.\n",
            " 0.         0.         0.         0.         0.         0.\n",
            " 1.         0.         0.         0.         0.         0.\n",
            " 0.         0.         0.         0.         0.         0.\n",
            " 0.         0.         0.         0.         0.         1.\n",
            " 0.         0.         0.         0.         0.         0.\n",
            " 0.         0.         1.         0.         0.         0.\n",
            " 0.         0.         0.         0.         0.         0.\n",
            " 0.         0.         0.         0.         0.         0.\n",
            " 0.66666667 0.         0.         0.33333333 0.         0.\n",
            " 0.         0.         0.         1.         0.33333333 0.\n",
            " 1.         1.         0.         0.66666667 0.66666667 0.\n",
            " 0.         0.33333333 1.         0.         1.         0.\n",
            " 0.66666667 0.         0.33333333 0.33333333 0.         0.\n",
            " 0.         0.         0.         0.         0.         0.\n",
            " 0.         0.         0.         0.         0.         0.\n",
            " 0.33333333 0.         0.         0.         0.         0.\n",
            " 0.         0.         0.33333333 0.         0.66666667 0.\n",
            " 0.         0.         0.         0.         0.         0.\n",
            " 0.         0.         0.         0.         0.         0.\n",
            " 0.         0.         0.         0.         0.         1.\n",
            " 0.         0.         0.         0.         0.         0.\n",
            " 0.         0.         0.         0.         0.         0.\n",
            " 1.         0.         0.         0.         0.         0.\n",
            " 0.         0.         0.         0.66666667 0.         0.66666667\n",
            " 0.         0.         0.66666667 0.         0.         0.66666667\n",
            " 0.         0.33333333 0.         0.         0.         0.\n",
            " 0.         0.66666667 0.         0.         0.         1.\n",
            " 0.         0.         1.         0.         0.         0.\n",
            " 0.         0.         0.         0.         0.         0.\n",
            " 0.         0.         0.         0.         0.         0.\n",
            " 0.         0.         0.         0.         0.         0.\n",
            " 0.66666667 0.         0.         0.         0.         0.66666667\n",
            " 0.         0.66666667 0.         0.         0.         1.\n",
            " 0.         1.         0.         0.         0.         0.\n",
            " 0.         0.         1.         0.         0.         0.\n",
            " 0.         0.         0.33333333 1.         0.         0.33333333\n",
            " 0.         0.         0.         1.         0.         0.\n",
            " 0.         0.         0.         0.66666667 0.         0.66666667\n",
            " 0.         0.         0.         0.         0.33333333 0.\n",
            " 1.         0.         0.         0.         0.         0.66666667\n",
            " 0.         0.         0.         1.         0.         0.\n",
            " 1.         0.         0.         0.33333333 0.         0.\n",
            " 0.66666667 0.         0.         0.         0.         0.66666667\n",
            " 0.         0.         0.         0.66666667 0.         0.\n",
            " 1.         0.         0.         0.         0.66666667 0.\n",
            " 0.         0.         0.         0.         0.         0.\n",
            " 0.         0.         1.         0.         0.         0.33333333\n",
            " 0.         0.         0.         0.         0.         0.\n",
            " 0.         0.66666667 0.         0.66666667 0.         0.\n",
            " 0.         0.         0.         0.         0.         0.\n",
            " 0.         0.         0.         0.         0.         0.\n",
            " 0.         0.66666667 0.         0.33333333 0.         0.\n",
            " 0.         0.         0.         0.         0.         0.\n",
            " 0.         0.         0.         0.         1.         0.\n",
            " 0.         0.         0.         0.33333333 0.         1.\n",
            " 0.         0.         0.         0.         0.         0.\n",
            " 0.         0.         0.33333333 0.         0.         0.\n",
            " 0.         0.         0.         0.         0.         0.33333333\n",
            " 0.         1.         0.         0.         0.         1.\n",
            " 0.         0.         0.         0.         1.         0.\n",
            " 0.         0.         0.66666667 0.         0.         0.\n",
            " 0.         0.         0.         0.         0.         0.\n",
            " 0.         0.         1.         0.         0.         1.\n",
            " 0.         0.         0.         0.         0.         1.\n",
            " 0.         0.         0.         1.         0.         0.66666667\n",
            " 0.         1.         0.66666667 0.         0.         0.\n",
            " 0.         0.         0.         0.         0.         0.\n",
            " 0.         0.         0.         0.         0.         0.33333333\n",
            " 1.         0.         0.         0.         0.         0.\n",
            " 0.         0.         0.         0.         0.         0.\n",
            " 0.         0.         0.66666667 0.         0.         0.\n",
            " 0.         0.         0.         0.         0.         1.\n",
            " 0.         0.         1.         0.         0.         0.\n",
            " 0.         0.         0.         0.         0.         0.\n",
            " 0.         0.         0.         0.         0.         0.\n",
            " 0.66666667 0.         0.         0.         0.66666667 0.\n",
            " 0.         0.         0.         0.         0.66666667 0.\n",
            " 0.         0.         0.         0.         0.         0.\n",
            " 1.         0.         0.         0.66666667 0.         0.\n",
            " 0.66666667 0.         0.         0.         0.         0.\n",
            " 0.         0.33333333 0.         0.         0.         0.\n",
            " 0.         0.         0.         0.         0.         0.66666667\n",
            " 0.         0.         0.         1.         0.         0.66666667\n",
            " 0.         0.         0.         0.         0.         0.\n",
            " 0.         0.         0.         0.         0.         1.\n",
            " 0.         0.         0.         0.         0.         0.\n",
            " 0.         0.         0.         0.         0.         0.\n",
            " 0.         0.         0.         0.         0.         0.\n",
            " 0.         0.         0.         0.66666667 0.         0.33333333\n",
            " 0.         0.33333333 0.         0.         0.         0.\n",
            " 0.         0.66666667 0.         0.         0.         0.\n",
            " 0.         0.         0.         0.         0.         0.\n",
            " 0.         0.         0.         0.         0.         0.\n",
            " 0.         0.         0.         0.         0.         1.\n",
            " 0.         0.         0.         0.         1.         0.\n",
            " 0.         0.         0.         0.         1.         0.\n",
            " 0.         0.         0.         0.         0.         0.33333333\n",
            " 0.         0.33333333 0.         0.         0.         0.\n",
            " 0.         0.         0.         0.         0.         0.\n",
            " 0.         0.         0.         0.         0.         1.\n",
            " 0.         0.         0.         0.         0.         0.\n",
            " 1.         0.         0.         0.         0.         0.\n",
            " 0.         0.         0.         0.         0.         0.\n",
            " 0.         0.         0.         0.         0.         0.\n",
            " 0.         0.         0.         0.         0.66666667 0.\n",
            " 0.         0.         0.         0.         0.         0.\n",
            " 0.         0.         0.         0.33333333 0.         0.\n",
            " 0.         0.         0.         0.         0.         0.\n",
            " 0.         0.66666667 0.         0.         0.         0.\n",
            " 0.         0.66666667 0.         0.         0.         0.66666667\n",
            " 0.         0.         1.         0.         0.         0.\n",
            " 0.         1.         0.66666667 0.         0.         0.\n",
            " 0.         0.         0.         0.         0.66666667 0.\n",
            " 0.         0.         0.         0.         0.         0.\n",
            " 0.         0.         0.         0.         0.         1.\n",
            " 0.         0.         0.         0.         0.         0.\n",
            " 0.         0.         0.         0.         0.         0.\n",
            " 0.         0.         0.         0.         0.         0.\n",
            " 0.         0.         0.         0.         0.         0.\n",
            " 0.         0.         0.         0.         0.         0.\n",
            " 0.         0.         0.         0.         0.         0.\n",
            " 0.         0.         0.         0.         0.         0.\n",
            " 0.33333333 0.         0.         0.         0.         0.\n",
            " 0.         0.         0.         0.         0.         0.\n",
            " 0.66666667 0.         0.         0.         0.         0.33333333\n",
            " 0.         0.         0.         0.         0.         0.\n",
            " 0.         0.         0.33333333 0.         0.         0.\n",
            " 0.         0.33333333 0.         0.         0.         0.\n",
            " 0.         0.         0.         0.         0.         0.\n",
            " 0.         1.         0.         0.         0.         0.\n",
            " 0.         0.         0.66666667 0.         0.         0.66666667\n",
            " 0.         0.         0.         0.         0.         1.\n",
            " 0.         0.         0.         0.         0.         0.\n",
            " 0.         0.         1.         0.         0.         0.\n",
            " 0.         0.         1.         0.         0.         0.\n",
            " 0.         0.         0.         0.         0.         0.\n",
            " 0.         0.33333333 0.         0.         0.         0.\n",
            " 0.         0.         0.         0.         0.         0.\n",
            " 0.         0.         0.33333333 0.         0.33333333 0.\n",
            " 0.         0.33333333 0.         0.         0.         0.\n",
            " 0.         0.         0.         0.         0.         0.33333333\n",
            " 0.         0.         0.         0.         0.         0.\n",
            " 0.         0.         0.         0.         0.         0.\n",
            " 0.         0.         0.33333333 1.         0.         0.\n",
            " 0.         0.         0.         0.         0.         0.\n",
            " 0.         0.         0.         0.         0.         1.\n",
            " 0.66666667 0.         0.33333333 0.         0.         0.\n",
            " 0.         0.         0.         0.         0.         0.\n",
            " 0.         0.         0.         0.66666667 0.         0.\n",
            " 0.         1.         0.         1.         0.         0.\n",
            " 0.         0.         0.         1.         0.         0.\n",
            " 0.         0.         0.         1.         0.66666667 0.\n",
            " 0.         0.         0.66666667 0.         0.         0.\n",
            " 0.         0.         0.         0.         0.         0.\n",
            " 0.         0.         0.         0.         0.33333333 0.\n",
            " 0.         0.         0.         0.         0.         1.\n",
            " 0.66666667 0.         0.         0.         0.         0.\n",
            " 0.         0.         0.         0.         0.         0.66666667\n",
            " 0.         0.         0.         0.         0.         0.\n",
            " 0.         0.         0.         0.33333333 0.66666667 0.\n",
            " 0.         0.         0.         0.         0.         0.\n",
            " 0.         0.         0.         1.         0.         0.\n",
            " 0.         0.         0.         0.         0.33333333 0.33333333\n",
            " 0.         0.         0.         0.         0.         0.\n",
            " 0.         0.         0.         0.         0.         1.\n",
            " 0.         0.         0.         1.         0.         0.\n",
            " 0.         0.         0.         0.         0.         0.\n",
            " 0.         0.         0.33333333 0.         0.         0.\n",
            " 0.         0.         0.         0.         0.         0.\n",
            " 0.         0.         1.         0.         0.         0.\n",
            " 0.         0.         0.        ]\n"
          ]
        }
      ]
    },
    {
      "cell_type": "code",
      "metadata": {
        "colab": {
          "base_uri": "https://localhost:8080/",
          "height": 370
        },
        "id": "mh6EvDjJXeWQ",
        "outputId": "130c84cc-0736-49c9-a40d-6ce5e2cc556f"
      },
      "source": [
        "# Plot Confusion Matrix for KNN\n",
        "model_name = 'KNN'\n",
        "cm = confusion_matrix(y_test, y_pred_knn>0.5)\n",
        "labels = ['True Neg', 'False Pos', 'False Neg', 'True Pos']\n",
        "categories = ['Zero', 'One']\n",
        "make_confusion_matrix(cm, group_names=labels, categories=categories, percent=False)\n",
        "plt.title(f'{model_name} - Performance')\n",
        "print()"
      ],
      "execution_count": null,
      "outputs": [
        {
          "output_type": "stream",
          "name": "stdout",
          "text": [
            "\n"
          ]
        },
        {
          "output_type": "display_data",
          "data": {
            "image/png": "[encoded data removed]",
            "text/plain": [
              "<Figure size 432x288 with 2 Axes>"
            ]
          },
          "metadata": {
            "needs_background": "light"
          }
        }
      ]
    },
    {
      "cell_type": "code",
      "metadata": {
        "colab": {
          "base_uri": "https://localhost:8080/"
        },
        "id": "QfF-LUqyajRy",
        "outputId": "baf36afa-e638-45bc-852e-5f6504b8dc5e"
      },
      "source": [
        "y_pred_knn = knn.predict_proba(X_test)[:,1]\n",
        "knn_fpr, knn_tpr, threshold = roc_curve(y_test, y_pred_knn)\n",
        "auc_knn = auc(knn_fpr, knn_tpr)\n",
        "print(auc_knn)"
      ],
      "execution_count": null,
      "outputs": [
        {
          "output_type": "stream",
          "name": "stdout",
          "text": [
            "0.6345813714476924\n"
          ]
        }
      ]
    },
    {
      "cell_type": "markdown",
      "metadata": {
        "id": "GO1btdanaqtT"
      },
      "source": [
        "# Random Forest"
      ]
    },
    {
      "cell_type": "code",
      "metadata": {
        "colab": {
          "base_uri": "https://localhost:8080/"
        },
        "id": "guy3JUDca0R3",
        "outputId": "8a33e7e2-36ee-48e1-cd8c-90a5171a7531"
      },
      "source": [
        "rfc = RandomForestClassifier(n_estimators=50, criterion='entropy' )\n",
        "rfc.fit(X_train,train_balanced_DF_Y )\n",
        "rfc_pred = rfc.predict(X_test)\n",
        "\n",
        "# Printing Confusion Matrix\n",
        "pd.DataFrame(confusion_matrix(y_test,rfc_pred))\n",
        "\n",
        "# printing the classification report\n",
        "print(classification_report(y_test,rfc_pred))"
      ],
      "execution_count": null,
      "outputs": [
        {
          "output_type": "stream",
          "name": "stdout",
          "text": [
            "              precision    recall  f1-score   support\n",
            "\n",
            "           0       0.98      0.99      0.99      1946\n",
            "           1       0.31      0.26      0.28        43\n",
            "\n",
            "    accuracy                           0.97      1989\n",
            "   macro avg       0.65      0.62      0.63      1989\n",
            "weighted avg       0.97      0.97      0.97      1989\n",
            "\n"
          ]
        }
      ]
    },
    {
      "cell_type": "markdown",
      "metadata": {
        "id": "lypl83Kraw-W"
      },
      "source": [
        "ROC & AUC for Random Forest"
      ]
    },
    {
      "cell_type": "code",
      "metadata": {
        "colab": {
          "base_uri": "https://localhost:8080/"
        },
        "id": "g2QckFBNYx4W",
        "outputId": "2824fa2a-2174-4004-fc62-5d7dd781d47e"
      },
      "source": [
        "## Print all values\n",
        "np.set_printoptions(threshold=np.inf)\n",
        "print(rfc_pred)"
      ],
      "execution_count": null,
      "outputs": [
        {
          "output_type": "stream",
          "name": "stdout",
          "text": [
            "[0 0 0 0 0 0 0 0 0 0 0 0 0 0 0 0 0 0 0 0 0 0 0 0 0 0 0 0 0 0 0 0 0 0 0 0 0\n",
            " 0 0 0 0 0 0 0 0 0 0 0 0 0 0 0 0 0 0 0 0 0 0 0 0 0 0 0 0 0 0 0 0 0 0 0 0 0\n",
            " 0 0 0 0 0 0 0 0 0 0 0 0 0 0 0 0 0 0 0 0 0 0 0 0 0 0 0 0 0 0 0 0 0 0 0 0 0\n",
            " 0 0 0 0 0 0 0 0 0 0 0 0 0 0 0 0 0 0 0 0 0 0 0 0 0 0 0 0 0 0 0 0 0 0 0 0 0\n",
            " 0 0 0 0 0 0 0 1 0 0 0 0 0 0 0 0 0 0 0 0 0 0 0 0 0 0 0 0 0 0 0 0 0 0 0 0 0\n",
            " 0 0 0 0 0 0 0 0 0 0 0 0 0 0 0 0 0 0 0 0 0 0 0 0 0 0 0 0 0 0 0 0 0 0 0 0 0\n",
            " 0 0 0 0 0 0 0 0 0 0 0 0 0 0 0 0 0 0 0 0 0 0 0 0 0 0 0 0 0 0 0 0 0 0 0 0 0\n",
            " 0 0 0 0 0 0 0 0 0 0 0 0 0 0 0 0 0 0 0 0 0 0 1 0 0 0 0 0 0 0 0 0 0 0 0 0 0\n",
            " 0 0 0 0 0 0 0 0 0 0 0 0 0 0 0 0 0 0 0 0 0 0 0 0 0 0 0 0 0 0 0 0 0 0 0 0 0\n",
            " 0 0 0 0 0 0 0 0 0 0 0 0 0 0 0 0 0 0 0 0 0 0 1 0 0 0 0 0 0 0 0 0 0 0 0 0 0\n",
            " 0 0 0 0 0 0 0 0 0 0 0 0 0 0 0 0 0 0 0 0 0 0 0 0 0 0 1 0 0 0 0 1 0 0 0 0 0\n",
            " 0 0 0 0 0 0 0 0 0 0 0 0 0 0 0 0 0 0 0 0 0 0 0 0 0 0 0 0 0 0 0 0 0 0 0 0 0\n",
            " 0 0 0 0 0 0 0 0 0 0 0 0 0 0 0 0 0 0 0 0 0 0 0 0 0 0 0 0 0 0 0 0 0 0 0 0 0\n",
            " 0 0 0 0 0 0 0 0 0 1 0 0 0 0 0 0 0 0 0 0 0 0 1 1 0 0 0 0 0 0 0 0 0 0 1 0 0\n",
            " 0 0 0 0 0 0 0 0 0 0 0 0 0 0 0 0 0 0 0 0 0 0 0 0 0 0 0 0 0 0 0 0 0 0 0 0 0\n",
            " 0 0 0 0 0 0 0 0 0 0 0 0 0 0 0 0 0 0 0 0 0 0 0 0 0 0 0 0 0 0 0 0 0 0 0 0 0\n",
            " 0 0 0 0 0 0 0 0 0 0 0 0 0 0 0 0 0 0 0 0 0 0 0 0 0 0 0 0 0 0 0 0 0 0 0 0 0\n",
            " 0 0 0 0 0 0 0 0 0 0 0 0 0 0 0 0 0 0 0 0 0 0 0 0 0 0 0 0 0 0 0 0 0 0 0 0 0\n",
            " 0 0 0 0 0 0 0 0 0 0 0 0 0 0 0 0 0 0 0 0 0 0 0 0 0 0 0 0 0 0 0 0 0 0 0 0 0\n",
            " 0 0 0 0 0 0 0 0 0 0 1 0 0 0 0 0 0 0 0 0 0 0 0 0 0 0 0 0 0 0 0 0 0 0 0 0 1\n",
            " 0 0 0 0 0 0 0 0 0 0 0 0 0 0 0 0 0 0 0 0 0 0 0 0 0 0 0 0 0 0 0 0 1 0 0 0 0\n",
            " 0 0 0 0 0 0 0 0 0 1 0 0 0 0 0 0 0 0 0 0 0 0 0 0 0 0 0 0 0 0 0 0 0 0 0 0 0\n",
            " 0 0 0 0 0 0 0 0 0 0 0 0 0 0 0 0 0 0 0 0 0 0 0 0 0 0 0 0 0 0 0 0 0 0 0 0 0\n",
            " 0 0 0 0 0 0 0 0 0 0 0 0 0 0 0 0 0 0 0 0 0 0 0 0 0 0 0 0 0 0 0 0 0 0 0 0 0\n",
            " 0 0 0 0 0 0 0 0 0 0 0 0 0 0 0 0 0 0 0 0 0 0 0 0 0 0 0 0 0 0 0 0 0 0 0 0 0\n",
            " 0 0 0 0 0 0 0 0 0 0 0 0 0 0 0 0 0 0 0 1 0 0 0 0 0 0 0 0 0 0 0 0 0 0 0 0 0\n",
            " 0 0 0 0 0 0 0 0 0 0 0 0 0 0 0 0 0 0 0 0 0 0 0 0 0 0 0 1 0 0 0 0 0 0 0 0 0\n",
            " 0 0 0 0 0 0 0 0 0 0 0 0 0 0 0 0 0 0 0 0 0 0 0 0 0 0 0 0 0 0 0 0 0 0 0 0 0\n",
            " 0 0 0 0 0 0 0 0 0 0 0 0 0 0 0 0 0 0 0 0 0 0 0 0 0 0 0 0 0 0 0 0 0 0 0 0 0\n",
            " 0 0 0 0 0 0 0 0 0 0 0 0 0 0 0 0 0 0 0 0 0 0 0 0 0 1 0 0 0 0 0 0 0 0 0 0 0\n",
            " 0 0 0 0 0 0 0 0 0 0 0 0 0 0 0 0 0 0 0 0 0 0 0 0 0 0 0 0 0 0 0 0 0 0 0 0 0\n",
            " 0 0 0 0 0 0 0 0 0 0 0 0 1 0 0 0 0 0 0 0 0 0 0 0 0 0 0 0 0 0 0 0 0 0 0 0 0\n",
            " 0 0 0 0 0 0 0 0 0 0 0 0 0 0 0 0 0 0 0 0 0 0 0 0 0 0 0 0 0 0 0 0 0 0 0 0 0\n",
            " 0 1 0 0 0 0 0 0 0 0 0 0 0 0 0 0 0 0 0 0 0 0 0 1 0 0 1 0 0 0 0 0 0 0 0 0 0\n",
            " 0 0 0 0 0 0 0 0 0 0 0 0 0 0 0 0 0 0 0 0 0 0 0 0 0 0 0 0 0 0 0 0 0 0 0 0 0\n",
            " 0 0 0 0 0 0 0 0 0 0 0 0 0 0 0 0 0 0 1 0 1 0 0 0 0 0 0 0 0 0 0 0 0 0 0 0 0\n",
            " 0 0 0 0 0 0 0 0 0 0 0 0 0 0 0 0 0 0 0 0 0 0 0 0 0 0 0 0 0 0 0 0 0 0 0 0 0\n",
            " 0 0 0 0 0 0 0 0 0 0 0 0 0 0 0 0 0 0 0 0 0 0 0 0 0 0 0 0 0 0 0 0 0 0 0 0 0\n",
            " 0 0 0 1 0 0 0 0 0 0 0 0 0 0 0 0 0 0 0 0 0 0 0 0 0 1 0 0 0 0 0 0 0 0 0 0 0\n",
            " 0 0 0 0 0 0 0 0 0 0 0 0 0 0 0 0 0 0 1 0 0 0 0 0 0 0 0 0 0 0 0 0 1 0 0 0 0\n",
            " 0 0 0 0 0 0 0 0 0 0 1 0 0 0 0 0 0 0 0 0 0 0 0 0 0 0 0 0 0 0 0 0 0 0 0 0 0\n",
            " 0 0 0 0 0 0 0 0 0 0 0 0 0 0 0 0 0 0 0 0 0 0 0 0 0 0 0 0 0 0 0 0 0 0 0 0 0\n",
            " 0 0 0 0 0 0 0 0 0 0 0 0 0 0 0 0 0 0 0 0 0 0 0 0 0 0 0 0 0 0 0 0 0 0 0 0 0\n",
            " 0 0 0 0 0 0 0 0 0 0 0 0 0 0 0 0 0 0 0 0 0 0 0 0 0 0 0 0 0 0 0 0 1 0 0 0 0\n",
            " 0 0 0 0 0 0 0 0 0 0 0 0 0 0 0 0 0 0 0 0 0 0 0 0 0 0 0 0 0 0 0 0 0 0 0 0 0\n",
            " 0 0 0 0 0 0 0 0 0 0 0 0 0 0 0 0 0 0 0 0 0 0 0 0 0 0 0 0 0 0 0 0 0 0 0 0 0\n",
            " 0 0 0 0 0 0 0 0 0 0 0 0 0 0 0 0 0 0 0 0 0 0 0 0 0 0 0 0 0 0 0 0 0 0 0 0 0\n",
            " 0 0 0 0 0 0 0 0 0 0 0 0 0 0 0 0 0 0 0 0 0 0 0 0 0 0 0 0 0 0 0 0 0 0 0 0 0\n",
            " 0 0 0 0 0 0 0 0 0 0 0 0 0 0 0 0 0 0 0 0 0 0 0 0 0 0 0 0 0 0 0 0 0 0 0 0 0\n",
            " 0 0 0 0 0 0 0 0 0 0 0 0 0 0 0 0 0 0 0 0 0 0 0 0 0 0 0 0 0 0 0 1 0 0 0 0 0\n",
            " 0 0 0 0 0 0 0 0 0 0 0 0 0 0 0 0 0 0 0 0 0 0 0 0 0 0 0 0 0 0 0 0 0 0 0 0 0\n",
            " 0 0 0 0 0 0 0 0 0 0 0 0 0 0 1 0 0 0 0 0 0 0 0 0 0 0 0 0 0 0 0 0 0 0 0 0 1\n",
            " 1 0 0 0 0 0 0 0 0 0 0 0 0 0 0 0 0 0 1 0 0 0 0 0 0 0 0 0 0 0 0 0 0 0 0 1 0\n",
            " 0 0 0 0 0 0 0 0 0 0 0 0 0 0 0 0 0 0 0 0 0 0 0 0 1 0 0 0]\n"
          ]
        }
      ]
    },
    {
      "cell_type": "code",
      "metadata": {
        "colab": {
          "base_uri": "https://localhost:8080/",
          "height": 370
        },
        "id": "jvHcfSmAYrPp",
        "outputId": "5e0b3a2d-57c4-4c1c-f348-0a7258e63200"
      },
      "source": [
        "# Plot Confusion Matrix for Random Forest\n",
        "model_name = 'Random Forest'\n",
        "cm = confusion_matrix(y_test, rfc_pred)\n",
        "labels = ['True Neg', 'False Pos', 'False Neg', 'True Pos']\n",
        "categories = ['Zero', 'One']\n",
        "make_confusion_matrix(cm, group_names=labels, categories=categories, percent=False)\n",
        "plt.title(f'{model_name} - Performance')\n",
        "print()"
      ],
      "execution_count": null,
      "outputs": [
        {
          "output_type": "stream",
          "name": "stdout",
          "text": [
            "\n"
          ]
        },
        {
          "output_type": "display_data",
          "data": {
            "image/png": "[encoded data removed]",
            "text/plain": [
              "<Figure size 432x288 with 2 Axes>"
            ]
          },
          "metadata": {
            "needs_background": "light"
          }
        }
      ]
    },
    {
      "cell_type": "code",
      "metadata": {
        "colab": {
          "base_uri": "https://localhost:8080/"
        },
        "id": "quw4wbGgatNV",
        "outputId": "70cab186-da64-4632-8b1b-15fe3e0158e0"
      },
      "source": [
        "y_pred_rfc = rfc.predict_proba(X_test)[:,1]\n",
        "rfc_fpr, rfc_tpr, threshold = roc_curve(y_test, y_pred_rfc)\n",
        "auc_rfc = auc(rfc_fpr, rfc_tpr)\n",
        "\n",
        "print(auc_rfc)"
      ],
      "execution_count": null,
      "outputs": [
        {
          "output_type": "stream",
          "name": "stdout",
          "text": [
            "0.9036246086187528\n"
          ]
        }
      ]
    },
    {
      "cell_type": "markdown",
      "metadata": {
        "id": "2ZtpL1WYZnbw"
      },
      "source": [
        "# Conclusion - best model"
      ]
    },
    {
      "cell_type": "markdown",
      "metadata": {
        "id": "Pvhhqe0leBDR"
      },
      "source": [
        "AUC - All Models"
      ]
    },
    {
      "cell_type": "code",
      "metadata": {
        "colab": {
          "base_uri": "https://localhost:8080/",
          "height": 497
        },
        "id": "BTi7IH8HZr5N",
        "outputId": "daabbeee-b8c4-48e1-c0f8-6ce0a3e6e28a"
      },
      "source": [
        "plt.figure(figsize=(5, 5), dpi=100)\n",
        "plt.plot([0, 1], [0, 1], 'k--')\n",
        "plt.plot(rfc_fpr, rfc_tpr, linestyle='-', label='Random Forest (auc = %0.3f)' % auc_rfc)\n",
        "plt.plot(logistic_fpr, logistic_tpr, marker='.', label='Logistic (auc = %0.3f)' % auc_logistic)\n",
        "plt.plot(svm_fpr, svm_tpr, marker='+', label='SVM (auc = %0.3f)' % auc_svm)\n",
        "plt.plot(knn_fpr, knn_tpr, linestyle='-', label='KNN (auc = %0.3f)' % auc_knn)\n",
        "plt.plot(DT_fpr, DT_tpr, linestyle='-', label='Decision Tree (auc = %0.3f)' % auc_DT)\n",
        "\n",
        "plt.title('AUC for all the models')\n",
        "plt.xlabel('False Positive Rate')\n",
        "plt.ylabel('True Positive Rate')\n",
        "\n",
        "plt.legend(loc='best')"
      ],
      "execution_count": null,
      "outputs": [
        {
          "output_type": "execute_result",
          "data": {
            "text/plain": [
              "<matplotlib.legend.Legend at 0x7fe6131a7fd0>"
            ]
          },
          "metadata": {},
          "execution_count": 101
        },
        {
          "output_type": "display_data",
          "data": {
            "image/png": "[encoded data removed]",
            "text/plain": [
              "<Figure size 500x500 with 1 Axes>"
            ]
          },
          "metadata": {
            "needs_background": "light"
          }
        }
      ]
    },
    {
      "cell_type": "markdown",
      "metadata": {
        "id": "LYl_uTmDd7eI"
      },
      "source": [
        "ROC curve - All Models"
      ]
    },
    {
      "cell_type": "code",
      "metadata": {
        "colab": {
          "base_uri": "https://localhost:8080/",
          "height": 449
        },
        "id": "80YcfBytd6-a",
        "outputId": "37533012-c334-4cd6-8928-07b2eed1300b"
      },
      "source": [
        "\n",
        "plt.figure(figsize=(20,8))\n",
        "plt.title('ROC Curve', fontsize=14)\n",
        "score_rfc = roc_auc_score(y_test,rfc_pred)\n",
        "score_logistic = roc_auc_score(y_test,log_predictions)\n",
        "score_knn = roc_auc_score(y_test,knn_pred>0.5)\n",
        "score_svm = roc_auc_score(y_test,svm_predictions)\n",
        "score_DT = roc_auc_score(y_test,pred_DT>0.5)\n",
        "plt.plot(logistic_fpr, logistic_tpr, label='Logistic Regression Classifier Score: {:.4f}'.format(score_logistic))\n",
        "plt.plot(rfc_fpr, rfc_tpr, label='Random Forest Classifier Score: {:.4f}'.format(score_rfc))\n",
        "plt.plot(knn_fpr, knn_tpr, label='knn Classifier Score: {:.4f}'.format(score_knn))\n",
        "plt.plot(rfc_fpr, rfc_tpr, label='Random Forest Classifier Score: {:.4f}'.format(score_svm))\n",
        "plt.plot(DT_fpr, DT_tpr, label='Decision Tree Classifier Score: {:.4f}'.format(score_DT))\n",
        "\n",
        "plt.plot([0, 1], [0, 1], 'k--')\n",
        "plt.axis([-0.01, 1, 0, 1])\n",
        "plt.xlabel('False Positive Rate', fontsize=13)\n",
        "plt.ylabel('True Positive Rate', fontsize=13)\n",
        "plt.annotate('Minimum ROC Score of 50% \\n (This is the minimum score to get)', xy=(0.5, 0.5), xytext=(0.6, 0.3),\n",
        "            arrowprops=dict(facecolor='#6E726D', shrink=0.05),\n",
        "            )\n",
        "plt.legend()\n",
        "plt.show()"
      ],
      "execution_count": null,
      "outputs": [
        {
          "output_type": "display_data",
          "data": {
            "image/png": "[encoded data removed]",
            "text/plain": [
              "<Figure size 1440x576 with 1 Axes>"
            ]
          },
          "metadata": {
            "needs_background": "light"
          }
        }
      ]
    },
    {
      "cell_type": "markdown",
      "metadata": {
        "id": "qhcf-o7rjfbB"
      },
      "source": [
        "# Test Data Predictions"
      ]
    },
    {
      "cell_type": "code",
      "metadata": {
        "id": "x7qisqA3GGG_"
      },
      "source": [
        "## Removing the attributes from test data given\n",
        "## Using Random Forest to predict the Outcome of Given Test Data \n",
        "\n",
        "test_DF1 = test_DF.drop(['Attr2',\n",
        " 'Attr7',\n",
        " 'Attr4',\n",
        " 'Attr11',\n",
        " 'Attr8',\n",
        " 'Attr13',\n",
        " 'Attr14',\n",
        " 'Attr19',\n",
        " 'Attr10',\n",
        " 'Attr16',\n",
        " 'Attr23',\n",
        " 'Attr22',\n",
        " 'Attr31',\n",
        " 'Attr12',\n",
        " 'Attr39',\n",
        " 'Attr30',\n",
        " 'Attr43',\n",
        " 'Attr40',\n",
        " 'Attr32',\n",
        " 'Attr42',\n",
        " 'Attr17',\n",
        " 'Attr38',\n",
        " 'Attr47',\n",
        " 'Attr28',\n",
        " 'Attr53',\n",
        " 'Attr20',\n",
        " 'Attr56',\n",
        " 'Attr57',\n",
        " 'Attr45',\n",
        " 'Attr44',\n",
        " 'Attr33',\n",
        " 'Attr46',\n",
        " 'Attr54','ID'], axis =1)\n",
        "rfc_predictions1 = rfc.predict(test_DF1)\n",
        "\n"
      ],
      "execution_count": null,
      "outputs": []
    },
    {
      "cell_type": "code",
      "metadata": {
        "colab": {
          "base_uri": "https://localhost:8080/"
        },
        "id": "CrKDNIn_G907",
        "outputId": "e2b9c419-f33a-47d5-9b5b-5141338de61e"
      },
      "source": [
        "print(\"With Random Forest: '\\n'\", rfc_predictions1)"
      ],
      "execution_count": null,
      "outputs": [
        {
          "output_type": "stream",
          "name": "stdout",
          "text": [
            "With Random Forest: '\n",
            "' [0 0 0 0 0 0 0 0 0 0 0 0 0 0 0 0 0 0 0 0 0 0 0 0 0 0 0 0 0 0 0 0 0 0 0 0 0\n",
            " 0 0 0 0 0 0 0 0 0 0 0 0 0 0 0 0 0 0 0 0 0 0 0 0 0 0 0 0 0 0 0 0 0 0 0 0 0\n",
            " 0 0 0 0 0 0 0 0 0 0 0 0 0 0 0 0 0 0 0 0 0 0 0 0 0 0 0 0 0 0 0 0 0 0 0 0 0\n",
            " 0 0 0 0 0 0 0 0 0 0 0 0 0 0 0 0 0 0 0 0 0 0 0 0 0 0 0 0 0 0 0 0 0 0 0 0 0\n",
            " 0 0 0 0 0 0 0 0 0 0 0 0 0 0 0 0 0 0 0 0 0 0 0 0 0 0 0 0 0 0 0 0 0 0 0 0 0\n",
            " 0 0 0 0 0 0 0 0 0 0 0 0 0 0 0 0 0 0 0 0 0 0 0 0 0 0 0 0 0 0 1 0 0 0 0 0 0\n",
            " 0 0 0 0 0 0 0 0 0 0 0 0 0 0 0 0 1 0 0 0 0 0 0 0 0 0 0 0 0 0 0 0 0 0 0 0 0\n",
            " 0 0 0 0 0 0 0 0 0 0 0 0 0 0 0 0 0 0 0 0 0 0 0 0 0 0 0 0 0 0 0 0 0 0 0 0 0\n",
            " 0 0 0 0 0 0 0 0 0 0 0 0 0 0 0 0 0 0 0 0 0 0 0 0 0 0 0 0 0 0 0 0 0 0 0 0 1\n",
            " 0 0 0 0 0 0 0 0 0 0 0 0 0 0 0 0 0 0 0 0 0 0 0 0 0 0 0 0 0 0 0 0 0 0 0 0 0\n",
            " 0 0 0 0 0 0 0 0 0 0 0 0 0 0 0 0 0 0 0 0 0 0 0 0 0 0 0 0 0 0 0 0 0 0 0 0 0\n",
            " 0 0 0 0 0 0 0 0 0 0 0 0 0 1 0 0 0 0 0 0 0 0 0 0 0 0 0 0 0 0 0 0 0 0 0 0 0\n",
            " 0 0 0 0 0 0 0 0 0 0 0 0 0 0 0 0 0 0 0 0 0 0 0 0 0 0 0 0 0 0 0 0 0 0 0 0 0\n",
            " 0 0 0 0 0 0 0 0 0 0 0 0 0 0 0 0 0 0 0 0 0 0 0 0 0 0 0 0 0 0 0 0 0 0 0 0 0\n",
            " 0 0 0 0 0 0 0 0 0 0 0 0 0 0 0 0 0 0 0 0 0 0 0 0 0 0 0 0 0 0 0 0 0 0 0 0 0\n",
            " 0 0 0 0 0 0 0 0 0 0 0 0 0 0 0 0 0 0 0 0 0 0 0 0 0 0 0 0 0 0 0 0 0 0 0 0 0\n",
            " 0 0 0 0 0 0 0 0 0 0 0 0 0 0 0 0 0 0 0 0 0 0 0 0 0 0 0 0 0 0 0 0 0 0 0 0 0\n",
            " 0 0 0 0 0 0 0 0 0 0 0 0 0 0 0 0 0 0 0 0 0 0 0 0 0 0 0 0 0 0 0 0 0 0 0 0 0\n",
            " 0 0 0 0 0 0 0 0 0 0 0 0 0 0 0 0 0 0 0 0 0 0 0 0 0 0 0 0 0 0 0 0 0 0 0 0 0\n",
            " 0 0 0 0 0 0 0 0 0 0 0 0 0 0 0 0 0 0 0 0 0 0 0 0 0 0 0 0 0 0 0 0 0 0 0 0 0\n",
            " 0 0 0 0 0 0 0 0 0 0 0 0 0 0 0 0 0 0 0 0 0 0 0 0 0 0 0 0 0 0 0 0 0 0 0 0 0\n",
            " 0 0 0 0 0 0 0 0 0 0 0 0 0 0 0 0 0 0 0 0 0 0 0 0 0 0 0 0 0 0 0 0 0 0 0 0 0\n",
            " 0 0 0 0 0 0 0 0 0 0 0 0 0 0 0 0 0 0 0 0 0 0 0 0 0 0 0 0 0 0 0 0 0 0 0 0 0\n",
            " 0 0 0 0 0 0 0 0 0 0 0 0 0 0 0 0 0 0 0 0 0 0 0 0 0 0 0 0 0 0 0 0 0 0 0 0 0\n",
            " 0 0 0 0 0 0 0 0 0 0 0 0 0 0 0 0 0 0 0 0 0 0 0 0 0 1 0 0 0 0 0 0 0 0 0 0 0\n",
            " 0 0 0 0 0 0 0 0 0 0 0 0 0 0 0 0 0 0 0 0 0 0 0 0 0 0 0 0 0 0 0 0 0 0 0 0 0\n",
            " 0 0 0 0 0 0 0 0 0 0 0 0 0 0 0 0 0 0 0 0 0 0 0 0 0 0 0 0 0 0 0 0 0 0 0 0 0\n",
            " 0 0 0 0 0 0 0 0 0 0 0 0 0 0 0 0 0 0 0 0 0 0 0 0 0 0 0 0 0 0 0 0 0 0 0 0 0\n",
            " 0 0 0 0 0 0 0 0 0 0 0 0 0 0 0 0 0 0 0 0 0 0 0 0 0 0 0 0 0 0 0 0 0 0 0 0 0\n",
            " 0 0 0 0 0 0 0 0 0 0 0 0 0 0 0 0 0 0 0 0 0 0 0 0 0 0 0 0 0 0 0 0 0 0 0 0 0\n",
            " 0 0 0 0 0 0 0 0 0 0 0 0 0 0 0 0 0 0 0 0 0 0 0 0 0 0 0 0 0 0 0 0 0 0 0 0 0\n",
            " 0 0 0 0 0 0 0 0 0 0 0 0 0 0 0 0 0 0 0 0 0 0 0 0 0 0 0 0 0 0 0 0 0 0 0 0 0\n",
            " 0 0 0 0 0 0 0 0 0 0 0 0 0 0 0 0 0 0 0 0 0 0 0 0 0 0 0 0 0 0 0 0 0 0 0 0 0\n",
            " 0 0 0 0 0 0 0 0 0 0 0 0 0 0 0 0 0 0 0 0 0 0 0 0 0 0 0 0 0 0 0 0 0 0 0 0 0\n",
            " 0 0 0 0 0 0 0 0 0 0 0 0 0 0 0 0 0 0 0 0 0 0 0 0 0 0 0 0 0 0 0 0 0 0 0 0 0\n",
            " 0 0 0 0 0 0 0 0 0 0 0 0 0 0 0 0 0 0 0 0 0 0 0 0 0 0 0 0 0 0 0 0 0 0 0 0 0\n",
            " 0 0 0 0 0 0 0 0 0 0 0 0 0 0 0 0 0 0 0 0 0 0 0 0 0 0 0 0 0 0 0 0 0 0 0 0 0\n",
            " 0 0 0 0 0 0 0 0 0 0 0 0 0 0 0 0 0 0 0 0 0 0 0 0 0 0 0 0 0 0 0 0 0 0 0 0 0\n",
            " 0 0 0 0 0 0 0 0 0 0 0 0 0 0 0 0 0 0 0 0 0 0 0 0 0 0 0 0 0 0 0 0 0 0 0 0 0\n",
            " 0 0 0 0 0 0 0 0 0 0 0 0 0 0 0 0 0 0 0 0 0 0 0 0 0 0 0 0 0 0 0 0 0 0 0 0 0\n",
            " 0 0 0 0 0 0 0 0 0 0 0 0 0 0 0 0 0 0 0 0 0 0 0 0 0 0 0 0 0 0 0 0 0 0 0 0 0\n",
            " 0 0 0 0 0 0 0 0 0 0 0 0 0 0 0 0 0 0 0 0 0 0 0 0 0 0 0 0 0 0 0 0 0 0 0 0 0\n",
            " 0 0 0 0 0 0 0 0 0 0 0 0 0 0 0 0 0 0 0 0 0 0 0 0 0 0 0 0 0 0 0 0 0 0 0 0 0\n",
            " 0 0 0 0 0 0 0 0 0 0 0 0 0 0 0 0 0 0 0 0 0 0 0 0 0 0 0 0 0 0 0 0 0 0 0 0 0\n",
            " 0 0 0 0 0 0 0 0 0 0 0 0 0 0 0 0 0 0 0 0 0 0 0 0 0 0 0 0 0 0 0 0 0 0 0 0 0\n",
            " 0 0 0 0 0 0 0 0 0 0 0 0 0 0 0 0 0 0 1 0 0 0 0 0 0 0 0 0 0 0 0 0 0 0 0 0 0\n",
            " 0 0 0 0 0 0 0 0 0 0 0 0 0 0 0 0 0 0 0 0 0 0 0 0 0 0 0 0 0 0 0 0 0 0 0 0 0\n",
            " 0 0 0 0 0 0 0 0 0 0 0 0 0 0 0 0 0 0 0 0 0 0 0 0 0 0 0 0 0 0 0 0 0 0 0 0 0\n",
            " 0 0 0 0 0 0 0 0 0 0 0 0 0 0 0 0 0 0 0 0 1 0 0 0 0 0 0 1 0 0 0 0 0 0 0 0 0\n",
            " 0 0 0 0 0 0 0 0 0 0 0 0 0 0 0 0 0 0 0 0 0 0 0 0 0 0 0 0 0 0 0 0 0 0 0 0 0\n",
            " 0 0 0 0 0 0 0 0 0 0 0 0 0 0 0 0 0 0 0 0 0 0 0 0 0 0 0 0 0 0 0 0 0 0 0 0 0\n",
            " 0 0 0 0 0 0 0 0 0 0 0 0 0 0 0 0 0 0 0 0 0 0 0 0 0 0 0 0 0 0 0 0 0 0 0 0 0\n",
            " 0 0 0 0 0 0 0 0 0 0 0 0 0 0 0 0 0 0 0 0 0 0 0 0 0 0 0 0 0 0 0 0 0 0 0 0 0\n",
            " 0 0 0 0 0 0 0 0 0 0 0 0 0 0 0 0 0 0 0 0 0 0 0 0 0 0 0 0 0 0 0 0 0 0 0 0 0\n",
            " 0 0 0 0 0 0 0 0 0 0 0 0 0 0 0 0 0 0 0 0 0 0 0 0 0 0 0 0 0 0 0 0 0 0 0 0 0\n",
            " 0 0 0 0 0 0 0 0 0 0 0 0 0 0 0 0 0 0 0 0 0 0 0 0 0 0 0 0 0 0 0 0 0 0 0 0 0\n",
            " 0 0 0 0 0 0 0 0 0 0 0 0 0 0 0 0 0 0 0 0 0 0 0 0 0 0 0 0 0 0 0 0 0 0 0 0 0\n",
            " 0 0 0 0 0 0 0 0 0 0 0 0 0 0 0 0 0 0 0 0 0 0 0 0 0 0 0 0 0 0 0 0 0 0 0 0 0\n",
            " 0 0 0 0 0 0 0 0 0 0 0 0 0 0 0 0 0 0 0 0 0 0 0 0 0 0 0 0 0 0 0 0 0 0 0 0 0\n",
            " 0 0 0 0 0 0 0 0 0 0 0 0 0 0 0 0 0 0 0 0 0 0 0 0 0 0 0 0 0 0 0 0 0 0 0 0 0\n",
            " 0 0 0 0 0 0 0 0 0 0 0 0 0 0 0 0 0 0 0 0 0 0 0 0 0 0 0 0 0 0 0 0 0 0 0 0 0\n",
            " 0 0 0 0 0 0 0 0 0 0 0 0 0 0 0 0 0 0 0 0 0 0 0 0 0 0 0 0 0 0 0 0 0 0 0 0 0\n",
            " 0 0 0 0 0 0 0 0 0 0 0 0 0 0 0 0 0 0 0 0 0 0 0 0 0 0 0 0 0 0 0 0 0 0 0 0 0\n",
            " 0 0 0 0 0 0 0 0 0 0 0 0 0 0 0 0 0 0 0 0 0 0 0 0 0 0 0 0 0 0 0 0 0 0 0 0 0\n",
            " 0 0 0 0 0 0 0 0 0 0 0 0 0 0 0 0 0 0 0 0 0 0 0 0 0 0 0 0 0 0 0 0 0 0 0 0 0\n",
            " 0 0 0 0 0 0 0 0 0 0 0 0 0 0 0 0 0 0 0 0 0 0 0 0 0 0 0 0 0 0 0 0 0 0 0 0 0\n",
            " 0 0 0 0 0 0 0 0 0 0 0 0 0 0 0 0 0 0 0 0 0 0 0 0 0 0 0 0 0 0 0 0 0 0 0 0 0\n",
            " 0 0 0 0 0 0 0 0 0 0 0 0 0 0 0 0 0 0 0 0 0 0 0 0 0 0 0 0 0 0 0 0 0 0 0 0 0\n",
            " 0 0 0 0 0 0 0 0 0 0 0 0 0 0 0 0 0 0 0 0 0 0 0 0 0 0 0 0 0 0 0 0 0 0 0 0 0\n",
            " 0 0 0 0 0 0 0 0 0 0 0 0 0 0 0 0 0 0 0 0 0 0 0 0 0 0 0 0 0 0 0 0 0 0 0 0 0\n",
            " 0 0 0 0 0 0 0 0 0 0 0 0 0 0 0 0 0 0 0 0 0 0 0 0 0 0 0 0 0 0 0 0 0 0 0 0 0\n",
            " 0 0 0 0 0 0 0 0 0 0 0 0 0 0 0 1 0 0 0 0 0 0 0 0 0 0 0 0 0 0 0 0 0 0 0 0 0\n",
            " 0 0 0 0 0 0 0 0 0 0 0 0 0 0 0 0 0 0 0 0 0 0 0 0 0 0 0 0 0 0 0 0 0 0 0 0 0\n",
            " 0 0 0 0 0 0 0 0 0 0 0 0 0 0 0 0 0 0 0 0 0 0 0 0 0 0 0 0 0 0 0 0 0 0 0 0 0\n",
            " 0 0 0 0 0 0 0 0 0 0 0 0 0 0 0 0 0 0 0 0 0 0 0 0 0 0 0 0 0 0 0 0 0 0 0 0 0\n",
            " 0 0 0 0 0 0 0 0 0 0 0 0 0 0 0 0 0 0 0 0 0 0 0 0 0 0 0 0 0 0 0 0 0 0 0 0 0\n",
            " 0 0 0 0 0 0 1 0 0 0 0 0 0 0 0 0 0 0 0 0 0 0 0 0 0 0 0 0 0 0 0 0 0 0 0 0 0\n",
            " 0 0 0 0 0 0 0 0 0 0 0 0 0 0 0 0 0 0 0 0 0 0 0 0 0 0 0 0 0 0 0 0 0 0 0 0 0\n",
            " 0 0 0 0 0 0 0 0 0 0 0 0 0 0 0 0 0 0 0 0 0 0 0 0 0 0 0 0 0 0 0 0 0 0 0 0 0\n",
            " 0 0 0 0 0 0 0 0 0 0 0 0 0 0 0 0 0 0 0 0 0 0 0 0 0 0 0 0 0 0 0 0 0 0 0 0 0\n",
            " 0 0 0 0 0 0 0 0 0 0 0 0 0 0 0 0 0 0 0 0 0 0 0 0 0 0 0 0 0 0 0 0 0 0 0 0 0\n",
            " 0 0 0 0 0 0 0 0 0 0 0 0 0 0 0 0 0 0 0 0 0 0 0 0 0 0 0 0 0 0 0 0 0 0 0 0 0\n",
            " 0 0 0 0 0 0 0 0 0 0 0 0 0 0 0 0 0 0 0 0 0 0 0 0 0 0 0 0 0 0 0 0 0 0 0 0 0\n",
            " 0 0 0 0 0 0 0 0 0 0 0 0 0 0 0 0 0 0 0 0 0 0 0 0 0 0 0 0 0 0 0 0 0 0 0 0 0\n",
            " 0 0 0 0 0 0 0 0 0 0 0 0 0 0 0 0 0 0 0 0 0 0 0 0 0 0 0 0 0 0 0 0 0 0 0 0 0\n",
            " 0 0 0 0 0 0 0 0 0 0 0 0 0 0 0 0 0 0 0 0 0 0 0 0 0 0 0 0 0 0 0 0 0 0 0 0 0\n",
            " 0 0 0 0 0 0 0 0 0 0 0 0 0 0 0 0 0 0 0 0 0 0 0 0 0 0 0 0 0 0 0 0 0 0 0 0 0\n",
            " 0 0 0 0 0 0 0 0 0 0 0 0 0 0 0 0 0 0 0 0 0 0 0 0 0 0 0 0 0 0 0 0 0 0 0 0 0\n",
            " 0 0 0 0 0 0 0 0 0 0 0 0 0 0 0 0 0 0 0 0 0 0 0 0 0 0 0 0 0 0 0 0 0 0 0 0 0\n",
            " 0 0 0 0 0 0 0 0 0 0 0 0 0 0 0 0 0 0 0 0 0 0 0 0 0 0 0 0 0 0 0 0 0 0 0 0 0\n",
            " 0 0 0 0 0 0 0 0 0 0 0 0 0 0 0 0 0 0 0 0 0 0 0 0 0 0 0 0 0 0 0 0 0 0 0 0 0\n",
            " 0 0 0 0 0 0 0 0 0 0 0 0 0 0 0 0 0 0 0 0 0 0 0 0 0 0 0 0 0 0 0 0 0 0 0 0 0\n",
            " 0 0 0 0 0 0 0 0 0 0 0 0 0 0 0 0 0 0 0 0 0 0 0 0 0 0 0 0 0 0 0 0 0 0 0 0 0\n",
            " 0 0 0 0 0 0 0 0 0 0 0 0 0 0 0 0 0 0 0 0 0 0 0 0 0 0 0 0 0 0 0 0 0 0 0 0 0\n",
            " 0 0 0 0 0 0 0 0 0 0 0 0 0 0 0 0 0 0 0 0 0 0 0 0 0 0 0 0 0 0 0 0 0 0 0 0 0\n",
            " 0 0 0 0 0 0 0 0 0 0 0 0 0 0 0 0 0 0 0 0 0 0 0 0 0 0 0 0 0 0 0 0 0 0 0 0 0\n",
            " 0 0 0 0 0 0 0 0 0 0 0 0 0 0 0 0 0 0 0 0 0 0 0 0 0 0 0 0 0 0 0 0 0 0 0 0 0\n",
            " 0 0 0 0 0 0 0 0 0 0 0 0 0 0 0 0 0 0 0 0 0 0 0 0 0 0 0 0 0 0 0 0 0 0 0 0 0\n",
            " 0 0 0 0 0 0 0 0 0 0 0 0 0 0 0 0 0 0 0 0 0 0 0 0 0 0 0 0 0 0 0 0 0 0 0 0 0\n",
            " 0 0 0 0 0 0 0 0 0 0 0 0 0 0 0 1 0 0 0 0 0 0 1 0 0 0 0 0 0 0 0 0 0 0 0 0 0\n",
            " 0 0 0 0 0 0 0 0 0 0 0 0 0 0 0 0 0 0 0 0 0 0 0 0 0 0 0 0 0 0 0 0 0 0 0 0 0\n",
            " 0 0 0 0 0 0 0 0 0 0 0 0 0 0 0 0 0 0 0 0 0 0 0 0 0 0 0 0 0 0 0 0 0 0 0 0 0\n",
            " 0 0 0 0 0 0 0 0 0 0 0 0 0 0 0 0 0 0 0 0 0 0 0 0 0 0 0 0 0 0 0 0 0 0 0 0 0\n",
            " 0 0 0 0 0 0 0 0 0 0 0 0 0 0 0 0 0 0 0 0 0 0 0 0 0 0 0 0 0 0 0 0 0 0 0 0 0\n",
            " 0 0 0 0 0 0 0 0 0 0 0 0 0 0 0 0 0 0 0 0 0 0 0 0 0 0 0 0 0 0 0 0 0 0 0 0 0\n",
            " 0 0 0 0 0 0 0 0 0 0 0 0 0 0 0 0 0 0 0 0 0 0 0 0 0 0 0 0 0 0 0 0 0 0 0 0 0\n",
            " 0 0 0 0 0 0 0 0 0 0 0 0 0 0 0 0 0 0 0 0 0 0 0 0 0 0 0 0 0 0 0 0 0 0 0 0 0\n",
            " 0 0 0 0 0 0 0 0 0 0 0 0 0 0 0 0 0 0 0 0 0 0 0 0 0 0 0 0 0 0 0 0 0 0 0 0 0\n",
            " 0 0 0 0 0 0 0 0 0 0 0 0 0 0 0 0 0 0 0 0 0 0 0 0 0 0 0 0 0 0 0 0 0 0 0 0 0\n",
            " 0 0 0 0 0 0 0 0 0 0 0 0 0 0 0 0 0 0 0 0 0 0 0 0 0 0 0 0 0 0 0 0 0 0 0 0 0\n",
            " 0 0 0 0 0 0 0 0 0 0 0 0 0 0 0 0 0 0 0 0 0 0 0 0 0 0 0 0 0 0 0 0 0 0 0 0 0\n",
            " 0 0 0 0 0 0 0 0 0 0 0 0 0 0 0 0 0 0 0 0 0 0 0 0 0 0 0 0 0 0 0 0 0 0 0 0 0\n",
            " 0 0 0 0 0 0 0 0 0 0 0 0 0 0 0 0 0 0 0 0 0 0 0 0 0 0 0 0 0 0 0 0 0 0 0 0 0\n",
            " 0 0 0 0 0 0 0 0 0 0 0 0 0 0 0 0 0 0 0 0 0 0 0 0 0 0 0 0 0 0 0 0 0 0 0 0 0\n",
            " 0 0 0 0 0 0 0 0 0 0 0 0 0 0 0 0 0 0 0 0 0 0 0 0 0 0 0 0 0 0 0 0 0 0 0 0 0\n",
            " 0 0 0 0 0 0 0 0 0 0 0 0 0 0 0 0 0 0 0 0 0 0 0 0 0 0 0 0 0 0 0 0 0 0 0 0 0\n",
            " 0 0 0 0 0 0 0 0 0 0 0 0 0 0 0 0 0 0 0 0 0 0 0 0 0 0 0 0 0 0 0 0 0 0 0 0 0\n",
            " 0 0 0 0 0 0 0 0 0 0 0 0 0 0 0 0 0 0 0 0 0 0 1 0 0 0 0 0 0 0 0 0 0 0 0 0 0\n",
            " 0 0 0 0 0 0 0 0 0 0 0 0 0 0 0 0 0 0 0 0 0 0 0 0 0 0 0 0 0 0 0 0 0 0 0 0 0\n",
            " 0 0 0 0 0 0 0 0 0 0 0 0 0 0 0 0 0 0 0 0 0 0 0 0 0 0 0 0 0 0 0 0 0 0 0 0 0\n",
            " 0 0 0 0 0 0 0 0 0 0 0 0 0 0 0 0 0 0 0 0 0 0 0 0 0 0 0 0 0 0 0 0 0 0 0 0 0\n",
            " 0 0 0 0 0 0 0 0 0 0 0 0 0 0 0 0 0 0 0 0 0 0 0 0 0 0 0 0 0 0 0 0 0 0 0 0 0\n",
            " 0 0 0 0 0 0 0 0 0 0 0 0 0 0 0 0 0 0 0 0 0 0 0 0 0 0 0 0 0 0 0 0 0 0 0 0 0\n",
            " 0 0 0 0 0 0 0 0 0 0 0 0 0 0 0 0 0 0 1 0 0 0 0 0 0 0 0 0 0 0 0 0 0 0 0 0 0\n",
            " 0 0 0 0 0 0 0 0 0 0 0 0 0 0 0 0 0 0 0 0 0 0 0 0 0 0 0 0 0 0 0 0 0 0 0 0 0\n",
            " 0 1 0 0 0 0 0 0 0 0 0 0 0 0 0 0 0 0 0 0 0 0 0 0 0 0 0 0 0 0 0 0 0 0 0 0 0\n",
            " 0 0 0 0 0 0 0 0 0 1 0 0 0 0 0 0 0 0 0 0 0 0 0 0 0 0 0 0 0 0 0 0 0 0 0 0 0\n",
            " 0 0 0 0 0 0 0 0 0 0 0 0 0 0 0 0 0 0 0 0 0 0 0 1 0 0 0 0 0 0 0 0 0 0 0 0 0\n",
            " 0 0 0 0 0 0 0 0 0 0 0 0 0 0 0 0 0 0 0 0 0 0 0 0 0 0 0 0 0 0 0 0 0 0 0 0 0\n",
            " 0 0 0 0 0 0 0 0 0 0 0 0 0 0 0 0 0 0 0 0 0 0 0 0 0 0 0 0 0 0 0 0 0 0 0 0 0\n",
            " 0 0 0 0 0 0 0 0 0 0 0 0 0 0 0 0 0 0 0 0 0 0 0 0 0 0 0 0 0 0 0 0 0 0 0 0 0\n",
            " 0 0 0 0 0 0 0 0 0 0 0 0 0 0 0 0 0 0 0 0 0 0 0 0 0 0 0 0 0 0 0 0 0 0 0 0 0\n",
            " 0 0 0 0 0 0 0 0 0 0 0 0 0 0 0 0 0 0 0 0 0 0 0 0 0 0 0 0 0 0 0 0 0 0 0 0 0\n",
            " 0 0 0 0 0 0 0 0 0 0 0 0 0 0 0 0 0 0 0 0 0 0 0 0 0 0 0 0 0 0 0 0 0 0 0 0 0\n",
            " 0 0 0 0 0 0 0 0 0 0 0 0 0 0 0 0 0 0 0 0 0 0 0 0 0 0 0 0 0 0 0 0 0 0 0 0 0\n",
            " 0 0 0 0 0]\n"
          ]
        }
      ]
    },
    {
      "cell_type": "code",
      "metadata": {
        "colab": {
          "base_uri": "https://localhost:8080/"
        },
        "id": "NMRc7Y8ujlY0",
        "outputId": "6b6dd9e9-daba-4bb3-ed11-7945db697ed6"
      },
      "source": [
        "bankrupt = rfc_predictions1[np.where(rfc_predictions1 == 1)].size\n",
        "print(bankrupt)\n",
        "rate_bankrupt = round(bankrupt/len(rfc_predictions1),3)\n",
        "print(\"% of Companies that went Bankrupt :\", rate_bankrupt*100,\"%\")\n",
        "\n",
        "rate_non_bankrupt = round((len(rfc_predictions1)-bankrupt)/len(rfc_predictions1),2)\n",
        "print(\"% of Companies that did not went Bankrupt :\", rate_non_bankrupt*100,\"%\")"
      ],
      "execution_count": null,
      "outputs": [
        {
          "output_type": "stream",
          "name": "stdout",
          "text": [
            "17\n",
            "% of Companies that went Bankrupt : 0.3 %\n",
            "% of Companies that did not went Bankrupt : 100.0 %\n"
          ]
        }
      ]
    }
  ]
}